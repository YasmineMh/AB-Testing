{
 "cells": [
  {
   "cell_type": "code",
   "execution_count": 26,
   "id": "f7d5909b-96b2-455d-b0d5-e1aa24cee733",
   "metadata": {},
   "outputs": [],
   "source": [
    "import pandas as pd\n",
    "import numpy as np\n",
    "import altair as alt\n",
    "alt.data_transformers.disable_max_rows()\n",
    "from datetime import datetime\n",
    "from scipy import stats\n",
    "from scipy.stats import ttest_ind"
   ]
  },
  {
   "cell_type": "markdown",
   "id": "settled-disorder",
   "metadata": {},
   "source": [
    "# How to calculate metrics from raw datasets"
   ]
  },
  {
   "cell_type": "markdown",
   "id": "c32520a6-eddb-4a0f-9436-1bd549d09365",
   "metadata": {},
   "source": [
    "## Example of Metrics Calculation"
   ]
  },
  {
   "cell_type": "markdown",
   "id": "769d679e-b9f1-4b7c-b7c7-b622385ac8f8",
   "metadata": {},
   "source": [
    "### User Activity"
   ]
  },
  {
   "cell_type": "code",
   "execution_count": 6,
   "id": "89cf7b8e-b7ba-46b6-92f4-b1b000b46b29",
   "metadata": {},
   "outputs": [],
   "source": [
    "## Loading the data from a .csv file \n",
    "data = pd.read_csv(\"data/Activity_pretest.csv\")"
   ]
  },
  {
   "cell_type": "code",
   "execution_count": 3,
   "id": "d66fc0b3-954d-445c-888e-bb9b9bc599ad",
   "metadata": {},
   "outputs": [
    {
     "data": {
      "text/html": [
       "<div>\n",
       "<style scoped>\n",
       "    .dataframe tbody tr th:only-of-type {\n",
       "        vertical-align: middle;\n",
       "    }\n",
       "\n",
       "    .dataframe tbody tr th {\n",
       "        vertical-align: top;\n",
       "    }\n",
       "\n",
       "    .dataframe thead th {\n",
       "        text-align: right;\n",
       "    }\n",
       "</style>\n",
       "<table border=\"1\" class=\"dataframe\">\n",
       "  <thead>\n",
       "    <tr style=\"text-align: right;\">\n",
       "      <th></th>\n",
       "      <th>userid</th>\n",
       "      <th>dt</th>\n",
       "      <th>activity_level</th>\n",
       "    </tr>\n",
       "  </thead>\n",
       "  <tbody>\n",
       "    <tr>\n",
       "      <th>0</th>\n",
       "      <td>a5b70ae7-f07c-4773-9df4-ce112bc9dc48</td>\n",
       "      <td>2021-10-01</td>\n",
       "      <td>0</td>\n",
       "    </tr>\n",
       "    <tr>\n",
       "      <th>1</th>\n",
       "      <td>d2646662-269f-49de-aab1-8776afced9a3</td>\n",
       "      <td>2021-10-01</td>\n",
       "      <td>0</td>\n",
       "    </tr>\n",
       "    <tr>\n",
       "      <th>2</th>\n",
       "      <td>c4d1cfa8-283d-49ad-a894-90aedc39c798</td>\n",
       "      <td>2021-10-01</td>\n",
       "      <td>0</td>\n",
       "    </tr>\n",
       "    <tr>\n",
       "      <th>3</th>\n",
       "      <td>6889f87f-5356-4904-a35a-6ea5020011db</td>\n",
       "      <td>2021-10-01</td>\n",
       "      <td>0</td>\n",
       "    </tr>\n",
       "    <tr>\n",
       "      <th>4</th>\n",
       "      <td>dbee604c-474a-4c9d-b013-508e5a0e3059</td>\n",
       "      <td>2021-10-01</td>\n",
       "      <td>0</td>\n",
       "    </tr>\n",
       "  </tbody>\n",
       "</table>\n",
       "</div>"
      ],
      "text/plain": [
       "                                 userid          dt  activity_level\n",
       "0  a5b70ae7-f07c-4773-9df4-ce112bc9dc48  2021-10-01               0\n",
       "1  d2646662-269f-49de-aab1-8776afced9a3  2021-10-01               0\n",
       "2  c4d1cfa8-283d-49ad-a894-90aedc39c798  2021-10-01               0\n",
       "3  6889f87f-5356-4904-a35a-6ea5020011db  2021-10-01               0\n",
       "4  dbee604c-474a-4c9d-b013-508e5a0e3059  2021-10-01               0"
      ]
     },
     "execution_count": 3,
     "metadata": {},
     "output_type": "execute_result"
    }
   ],
   "source": [
    "data.head()"
   ]
  },
  {
   "cell_type": "code",
   "execution_count": 7,
   "id": "1bdc6150-72e1-455c-977e-37ef5c32ddca",
   "metadata": {},
   "outputs": [
    {
     "data": {
      "text/plain": [
       "20     24520\n",
       "7      48339\n",
       "17     48395\n",
       "8      48396\n",
       "13     48534\n",
       "4      48556\n",
       "15     48599\n",
       "14     48620\n",
       "3      48659\n",
       "1      48732\n",
       "9      48820\n",
       "11     48832\n",
       "19     48901\n",
       "6      48901\n",
       "12     48911\n",
       "16     48934\n",
       "10     48943\n",
       "18     48982\n",
       "2      49074\n",
       "5      49227\n",
       "0     909125\n",
       "Name: activity_level, dtype: int64"
      ]
     },
     "execution_count": 7,
     "metadata": {},
     "output_type": "execute_result"
    }
   ],
   "source": [
    "data.activity_level.value_counts().sort_values()"
   ]
  },
  {
   "cell_type": "code",
   "execution_count": 8,
   "id": "baeb200b-881d-4861-b30a-40099e155390",
   "metadata": {},
   "outputs": [
    {
     "data": {
      "text/html": [
       "<div>\n",
       "<style scoped>\n",
       "    .dataframe tbody tr th:only-of-type {\n",
       "        vertical-align: middle;\n",
       "    }\n",
       "\n",
       "    .dataframe tbody tr th {\n",
       "        vertical-align: top;\n",
       "    }\n",
       "\n",
       "    .dataframe thead tr th {\n",
       "        text-align: left;\n",
       "    }\n",
       "\n",
       "    .dataframe thead tr:last-of-type th {\n",
       "        text-align: right;\n",
       "    }\n",
       "</style>\n",
       "<table border=\"1\" class=\"dataframe\">\n",
       "  <thead>\n",
       "    <tr>\n",
       "      <th></th>\n",
       "      <th colspan=\"4\" halign=\"left\">userid</th>\n",
       "      <th colspan=\"4\" halign=\"left\">dt</th>\n",
       "    </tr>\n",
       "    <tr>\n",
       "      <th></th>\n",
       "      <th>count</th>\n",
       "      <th>unique</th>\n",
       "      <th>top</th>\n",
       "      <th>freq</th>\n",
       "      <th>count</th>\n",
       "      <th>unique</th>\n",
       "      <th>top</th>\n",
       "      <th>freq</th>\n",
       "    </tr>\n",
       "    <tr>\n",
       "      <th>activity_level</th>\n",
       "      <th></th>\n",
       "      <th></th>\n",
       "      <th></th>\n",
       "      <th></th>\n",
       "      <th></th>\n",
       "      <th></th>\n",
       "      <th></th>\n",
       "      <th></th>\n",
       "    </tr>\n",
       "  </thead>\n",
       "  <tbody>\n",
       "    <tr>\n",
       "      <th>0</th>\n",
       "      <td>909125</td>\n",
       "      <td>60000</td>\n",
       "      <td>e8d510a1-c4ba-48fe-9ce9-3a7b8b99e7e8</td>\n",
       "      <td>27</td>\n",
       "      <td>909125</td>\n",
       "      <td>31</td>\n",
       "      <td>2021-10-11</td>\n",
       "      <td>29511</td>\n",
       "    </tr>\n",
       "    <tr>\n",
       "      <th>1</th>\n",
       "      <td>48732</td>\n",
       "      <td>33688</td>\n",
       "      <td>5a613f2f-abb9-4b9b-9f1d-da895d5b1869</td>\n",
       "      <td>6</td>\n",
       "      <td>48732</td>\n",
       "      <td>31</td>\n",
       "      <td>2021-10-19</td>\n",
       "      <td>1620</td>\n",
       "    </tr>\n",
       "    <tr>\n",
       "      <th>2</th>\n",
       "      <td>49074</td>\n",
       "      <td>33761</td>\n",
       "      <td>99a8dd0a-f5aa-4b8d-bc0a-3d8f49d5c4d7</td>\n",
       "      <td>6</td>\n",
       "      <td>49074</td>\n",
       "      <td>31</td>\n",
       "      <td>2021-10-14</td>\n",
       "      <td>1665</td>\n",
       "    </tr>\n",
       "    <tr>\n",
       "      <th>3</th>\n",
       "      <td>48659</td>\n",
       "      <td>33634</td>\n",
       "      <td>e0dfb5e3-f7be-43bc-8699-051a93d33163</td>\n",
       "      <td>6</td>\n",
       "      <td>48659</td>\n",
       "      <td>31</td>\n",
       "      <td>2021-10-28</td>\n",
       "      <td>1663</td>\n",
       "    </tr>\n",
       "    <tr>\n",
       "      <th>4</th>\n",
       "      <td>48556</td>\n",
       "      <td>33502</td>\n",
       "      <td>dc396a83-174c-4244-8a33-71eae2283eeb</td>\n",
       "      <td>8</td>\n",
       "      <td>48556</td>\n",
       "      <td>31</td>\n",
       "      <td>2021-10-29</td>\n",
       "      <td>1632</td>\n",
       "    </tr>\n",
       "  </tbody>\n",
       "</table>\n",
       "</div>"
      ],
      "text/plain": [
       "                userid                                                    \\\n",
       "                 count unique                                   top freq   \n",
       "activity_level                                                             \n",
       "0               909125  60000  e8d510a1-c4ba-48fe-9ce9-3a7b8b99e7e8   27   \n",
       "1                48732  33688  5a613f2f-abb9-4b9b-9f1d-da895d5b1869    6   \n",
       "2                49074  33761  99a8dd0a-f5aa-4b8d-bc0a-3d8f49d5c4d7    6   \n",
       "3                48659  33634  e0dfb5e3-f7be-43bc-8699-051a93d33163    6   \n",
       "4                48556  33502  dc396a83-174c-4244-8a33-71eae2283eeb    8   \n",
       "\n",
       "                    dt                            \n",
       "                 count unique         top   freq  \n",
       "activity_level                                    \n",
       "0               909125     31  2021-10-11  29511  \n",
       "1                48732     31  2021-10-19   1620  \n",
       "2                49074     31  2021-10-14   1665  \n",
       "3                48659     31  2021-10-28   1663  \n",
       "4                48556     31  2021-10-29   1632  "
      ]
     },
     "execution_count": 8,
     "metadata": {},
     "output_type": "execute_result"
    }
   ],
   "source": [
    "data.groupby('activity_level').describe().head()"
   ]
  },
  {
   "cell_type": "code",
   "execution_count": 9,
   "id": "57fd28a2-eaa8-484c-809c-384714d5b3bc",
   "metadata": {},
   "outputs": [],
   "source": [
    "activity = data.query('activity_level > 0').groupby(['dt', 'activity_level']).count().reset_index()"
   ]
  },
  {
   "cell_type": "code",
   "execution_count": 10,
   "id": "a04558ee-bbc3-4afd-845a-946e58305f3d",
   "metadata": {},
   "outputs": [
    {
     "data": {
      "text/html": [
       "\n",
       "<div id=\"altair-viz-fdfe340988d842a69cdb8d7582f9c67f\"></div>\n",
       "<script type=\"text/javascript\">\n",
       "  var VEGA_DEBUG = (typeof VEGA_DEBUG == \"undefined\") ? {} : VEGA_DEBUG;\n",
       "  (function(spec, embedOpt){\n",
       "    let outputDiv = document.currentScript.previousElementSibling;\n",
       "    if (outputDiv.id !== \"altair-viz-fdfe340988d842a69cdb8d7582f9c67f\") {\n",
       "      outputDiv = document.getElementById(\"altair-viz-fdfe340988d842a69cdb8d7582f9c67f\");\n",
       "    }\n",
       "    const paths = {\n",
       "      \"vega\": \"https://cdn.jsdelivr.net/npm//vega@5?noext\",\n",
       "      \"vega-lib\": \"https://cdn.jsdelivr.net/npm//vega-lib?noext\",\n",
       "      \"vega-lite\": \"https://cdn.jsdelivr.net/npm//vega-lite@4.17.0?noext\",\n",
       "      \"vega-embed\": \"https://cdn.jsdelivr.net/npm//vega-embed@6?noext\",\n",
       "    };\n",
       "\n",
       "    function maybeLoadScript(lib, version) {\n",
       "      var key = `${lib.replace(\"-\", \"\")}_version`;\n",
       "      return (VEGA_DEBUG[key] == version) ?\n",
       "        Promise.resolve(paths[lib]) :\n",
       "        new Promise(function(resolve, reject) {\n",
       "          var s = document.createElement('script');\n",
       "          document.getElementsByTagName(\"head\")[0].appendChild(s);\n",
       "          s.async = true;\n",
       "          s.onload = () => {\n",
       "            VEGA_DEBUG[key] = version;\n",
       "            return resolve(paths[lib]);\n",
       "          };\n",
       "          s.onerror = () => reject(`Error loading script: ${paths[lib]}`);\n",
       "          s.src = paths[lib];\n",
       "        });\n",
       "    }\n",
       "\n",
       "    function showError(err) {\n",
       "      outputDiv.innerHTML = `<div class=\"error\" style=\"color:red;\">${err}</div>`;\n",
       "      throw err;\n",
       "    }\n",
       "\n",
       "    function displayChart(vegaEmbed) {\n",
       "      vegaEmbed(outputDiv, spec, embedOpt)\n",
       "        .catch(err => showError(`Javascript Error: ${err.message}<br>This usually means there's a typo in your chart specification. See the javascript console for the full traceback.`));\n",
       "    }\n",
       "\n",
       "    if(typeof define === \"function\" && define.amd) {\n",
       "      requirejs.config({paths});\n",
       "      require([\"vega-embed\"], displayChart, err => showError(`Error loading script: ${err.message}`));\n",
       "    } else {\n",
       "      maybeLoadScript(\"vega\", \"5\")\n",
       "        .then(() => maybeLoadScript(\"vega-lite\", \"4.17.0\"))\n",
       "        .then(() => maybeLoadScript(\"vega-embed\", \"6\"))\n",
       "        .catch(showError)\n",
       "        .then(() => displayChart(vegaEmbed));\n",
       "    }\n",
       "  })({\"config\": {\"view\": {\"continuousWidth\": 400, \"continuousHeight\": 300}}, \"data\": {\"name\": \"data-23bb5d861b06c59f8360185c22900bf5\"}, \"mark\": {\"type\": \"line\", \"size\": 1}, \"encoding\": {\"color\": {\"field\": \"activity_level\", \"type\": \"nominal\"}, \"tooltip\": [{\"field\": \"activity_level\", \"type\": \"quantitative\"}], \"x\": {\"axis\": {\"title\": \"date\"}, \"field\": \"dt\", \"type\": \"temporal\"}, \"y\": {\"axis\": {\"title\": \"number of users\"}, \"field\": \"userid\", \"type\": \"quantitative\"}}, \"height\": 400, \"width\": 600, \"$schema\": \"https://vega.github.io/schema/vega-lite/v4.17.0.json\", \"datasets\": {\"data-23bb5d861b06c59f8360185c22900bf5\": [{\"dt\": \"2021-10-01\", \"activity_level\": 1, \"userid\": 1602}, {\"dt\": \"2021-10-01\", \"activity_level\": 2, \"userid\": 1507}, {\"dt\": \"2021-10-01\", \"activity_level\": 3, \"userid\": 1587}, {\"dt\": \"2021-10-01\", \"activity_level\": 4, \"userid\": 1551}, {\"dt\": \"2021-10-01\", \"activity_level\": 5, \"userid\": 1586}, {\"dt\": \"2021-10-01\", \"activity_level\": 6, \"userid\": 1640}, {\"dt\": \"2021-10-01\", \"activity_level\": 7, \"userid\": 1508}, {\"dt\": \"2021-10-01\", \"activity_level\": 8, \"userid\": 1571}, {\"dt\": \"2021-10-01\", \"activity_level\": 9, \"userid\": 1576}, {\"dt\": \"2021-10-01\", \"activity_level\": 10, \"userid\": 1593}, {\"dt\": \"2021-10-01\", \"activity_level\": 11, \"userid\": 1497}, {\"dt\": \"2021-10-01\", \"activity_level\": 12, \"userid\": 1623}, {\"dt\": \"2021-10-01\", \"activity_level\": 13, \"userid\": 1554}, {\"dt\": \"2021-10-01\", \"activity_level\": 14, \"userid\": 1572}, {\"dt\": \"2021-10-01\", \"activity_level\": 15, \"userid\": 1508}, {\"dt\": \"2021-10-01\", \"activity_level\": 16, \"userid\": 1628}, {\"dt\": \"2021-10-01\", \"activity_level\": 17, \"userid\": 1593}, {\"dt\": \"2021-10-01\", \"activity_level\": 18, \"userid\": 1597}, {\"dt\": \"2021-10-01\", \"activity_level\": 19, \"userid\": 1572}, {\"dt\": \"2021-10-01\", \"activity_level\": 20, \"userid\": 769}, {\"dt\": \"2021-10-02\", \"activity_level\": 1, \"userid\": 1582}, {\"dt\": \"2021-10-02\", \"activity_level\": 2, \"userid\": 1543}, {\"dt\": \"2021-10-02\", \"activity_level\": 3, \"userid\": 1545}, {\"dt\": \"2021-10-02\", \"activity_level\": 4, \"userid\": 1618}, {\"dt\": \"2021-10-02\", \"activity_level\": 5, \"userid\": 1607}, {\"dt\": \"2021-10-02\", \"activity_level\": 6, \"userid\": 1563}, {\"dt\": \"2021-10-02\", \"activity_level\": 7, \"userid\": 1560}, {\"dt\": \"2021-10-02\", \"activity_level\": 8, \"userid\": 1557}, {\"dt\": \"2021-10-02\", \"activity_level\": 9, \"userid\": 1602}, {\"dt\": \"2021-10-02\", \"activity_level\": 10, \"userid\": 1593}, {\"dt\": \"2021-10-02\", \"activity_level\": 11, \"userid\": 1590}, {\"dt\": \"2021-10-02\", \"activity_level\": 12, \"userid\": 1579}, {\"dt\": \"2021-10-02\", \"activity_level\": 13, \"userid\": 1572}, {\"dt\": \"2021-10-02\", \"activity_level\": 14, \"userid\": 1532}, {\"dt\": \"2021-10-02\", \"activity_level\": 15, \"userid\": 1587}, {\"dt\": \"2021-10-02\", \"activity_level\": 16, \"userid\": 1620}, {\"dt\": \"2021-10-02\", \"activity_level\": 17, \"userid\": 1545}, {\"dt\": \"2021-10-02\", \"activity_level\": 18, \"userid\": 1611}, {\"dt\": \"2021-10-02\", \"activity_level\": 19, \"userid\": 1611}, {\"dt\": \"2021-10-02\", \"activity_level\": 20, \"userid\": 758}, {\"dt\": \"2021-10-03\", \"activity_level\": 1, \"userid\": 1618}, {\"dt\": \"2021-10-03\", \"activity_level\": 2, \"userid\": 1631}, {\"dt\": \"2021-10-03\", \"activity_level\": 3, \"userid\": 1551}, {\"dt\": \"2021-10-03\", \"activity_level\": 4, \"userid\": 1503}, {\"dt\": \"2021-10-03\", \"activity_level\": 5, \"userid\": 1564}, {\"dt\": \"2021-10-03\", \"activity_level\": 6, \"userid\": 1606}, {\"dt\": \"2021-10-03\", \"activity_level\": 7, \"userid\": 1642}, {\"dt\": \"2021-10-03\", \"activity_level\": 8, \"userid\": 1555}, {\"dt\": \"2021-10-03\", \"activity_level\": 9, \"userid\": 1597}, {\"dt\": \"2021-10-03\", \"activity_level\": 10, \"userid\": 1569}, {\"dt\": \"2021-10-03\", \"activity_level\": 11, \"userid\": 1650}, {\"dt\": \"2021-10-03\", \"activity_level\": 12, \"userid\": 1579}, {\"dt\": \"2021-10-03\", \"activity_level\": 13, \"userid\": 1520}, {\"dt\": \"2021-10-03\", \"activity_level\": 14, \"userid\": 1597}, {\"dt\": \"2021-10-03\", \"activity_level\": 15, \"userid\": 1574}, {\"dt\": \"2021-10-03\", \"activity_level\": 16, \"userid\": 1576}, {\"dt\": \"2021-10-03\", \"activity_level\": 17, \"userid\": 1559}, {\"dt\": \"2021-10-03\", \"activity_level\": 18, \"userid\": 1556}, {\"dt\": \"2021-10-03\", \"activity_level\": 19, \"userid\": 1533}, {\"dt\": \"2021-10-03\", \"activity_level\": 20, \"userid\": 805}, {\"dt\": \"2021-10-04\", \"activity_level\": 1, \"userid\": 1576}, {\"dt\": \"2021-10-04\", \"activity_level\": 2, \"userid\": 1566}, {\"dt\": \"2021-10-04\", \"activity_level\": 3, \"userid\": 1529}, {\"dt\": \"2021-10-04\", \"activity_level\": 4, \"userid\": 1579}, {\"dt\": \"2021-10-04\", \"activity_level\": 5, \"userid\": 1553}, {\"dt\": \"2021-10-04\", \"activity_level\": 6, \"userid\": 1525}, {\"dt\": \"2021-10-04\", \"activity_level\": 7, \"userid\": 1579}, {\"dt\": \"2021-10-04\", \"activity_level\": 8, \"userid\": 1566}, {\"dt\": \"2021-10-04\", \"activity_level\": 9, \"userid\": 1586}, {\"dt\": \"2021-10-04\", \"activity_level\": 10, \"userid\": 1540}, {\"dt\": \"2021-10-04\", \"activity_level\": 11, \"userid\": 1569}, {\"dt\": \"2021-10-04\", \"activity_level\": 12, \"userid\": 1589}, {\"dt\": \"2021-10-04\", \"activity_level\": 13, \"userid\": 1586}, {\"dt\": \"2021-10-04\", \"activity_level\": 14, \"userid\": 1574}, {\"dt\": \"2021-10-04\", \"activity_level\": 15, \"userid\": 1580}, {\"dt\": \"2021-10-04\", \"activity_level\": 16, \"userid\": 1539}, {\"dt\": \"2021-10-04\", \"activity_level\": 17, \"userid\": 1586}, {\"dt\": \"2021-10-04\", \"activity_level\": 18, \"userid\": 1577}, {\"dt\": \"2021-10-04\", \"activity_level\": 19, \"userid\": 1617}, {\"dt\": \"2021-10-04\", \"activity_level\": 20, \"userid\": 783}, {\"dt\": \"2021-10-05\", \"activity_level\": 1, \"userid\": 1531}, {\"dt\": \"2021-10-05\", \"activity_level\": 2, \"userid\": 1636}, {\"dt\": \"2021-10-05\", \"activity_level\": 3, \"userid\": 1556}, {\"dt\": \"2021-10-05\", \"activity_level\": 4, \"userid\": 1555}, {\"dt\": \"2021-10-05\", \"activity_level\": 5, \"userid\": 1581}, {\"dt\": \"2021-10-05\", \"activity_level\": 6, \"userid\": 1561}, {\"dt\": \"2021-10-05\", \"activity_level\": 7, \"userid\": 1541}, {\"dt\": \"2021-10-05\", \"activity_level\": 8, \"userid\": 1554}, {\"dt\": \"2021-10-05\", \"activity_level\": 9, \"userid\": 1609}, {\"dt\": \"2021-10-05\", \"activity_level\": 10, \"userid\": 1557}, {\"dt\": \"2021-10-05\", \"activity_level\": 11, \"userid\": 1529}, {\"dt\": \"2021-10-05\", \"activity_level\": 12, \"userid\": 1596}, {\"dt\": \"2021-10-05\", \"activity_level\": 13, \"userid\": 1569}, {\"dt\": \"2021-10-05\", \"activity_level\": 14, \"userid\": 1569}, {\"dt\": \"2021-10-05\", \"activity_level\": 15, \"userid\": 1584}, {\"dt\": \"2021-10-05\", \"activity_level\": 16, \"userid\": 1519}, {\"dt\": \"2021-10-05\", \"activity_level\": 17, \"userid\": 1564}, {\"dt\": \"2021-10-05\", \"activity_level\": 18, \"userid\": 1584}, {\"dt\": \"2021-10-05\", \"activity_level\": 19, \"userid\": 1584}, {\"dt\": \"2021-10-05\", \"activity_level\": 20, \"userid\": 809}, {\"dt\": \"2021-10-06\", \"activity_level\": 1, \"userid\": 1585}, {\"dt\": \"2021-10-06\", \"activity_level\": 2, \"userid\": 1644}, {\"dt\": \"2021-10-06\", \"activity_level\": 3, \"userid\": 1588}, {\"dt\": \"2021-10-06\", \"activity_level\": 4, \"userid\": 1558}, {\"dt\": \"2021-10-06\", \"activity_level\": 5, \"userid\": 1529}, {\"dt\": \"2021-10-06\", \"activity_level\": 6, \"userid\": 1591}, {\"dt\": \"2021-10-06\", \"activity_level\": 7, \"userid\": 1625}, {\"dt\": \"2021-10-06\", \"activity_level\": 8, \"userid\": 1562}, {\"dt\": \"2021-10-06\", \"activity_level\": 9, \"userid\": 1573}, {\"dt\": \"2021-10-06\", \"activity_level\": 10, \"userid\": 1546}, {\"dt\": \"2021-10-06\", \"activity_level\": 11, \"userid\": 1587}, {\"dt\": \"2021-10-06\", \"activity_level\": 12, \"userid\": 1606}, {\"dt\": \"2021-10-06\", \"activity_level\": 13, \"userid\": 1544}, {\"dt\": \"2021-10-06\", \"activity_level\": 14, \"userid\": 1500}, {\"dt\": \"2021-10-06\", \"activity_level\": 15, \"userid\": 1542}, {\"dt\": \"2021-10-06\", \"activity_level\": 16, \"userid\": 1554}, {\"dt\": \"2021-10-06\", \"activity_level\": 17, \"userid\": 1545}, {\"dt\": \"2021-10-06\", \"activity_level\": 18, \"userid\": 1561}, {\"dt\": \"2021-10-06\", \"activity_level\": 19, \"userid\": 1600}, {\"dt\": \"2021-10-06\", \"activity_level\": 20, \"userid\": 799}, {\"dt\": \"2021-10-07\", \"activity_level\": 1, \"userid\": 1534}, {\"dt\": \"2021-10-07\", \"activity_level\": 2, \"userid\": 1584}, {\"dt\": \"2021-10-07\", \"activity_level\": 3, \"userid\": 1540}, {\"dt\": \"2021-10-07\", \"activity_level\": 4, \"userid\": 1608}, {\"dt\": \"2021-10-07\", \"activity_level\": 5, \"userid\": 1610}, {\"dt\": \"2021-10-07\", \"activity_level\": 6, \"userid\": 1597}, {\"dt\": \"2021-10-07\", \"activity_level\": 7, \"userid\": 1559}, {\"dt\": \"2021-10-07\", \"activity_level\": 8, \"userid\": 1610}, {\"dt\": \"2021-10-07\", \"activity_level\": 9, \"userid\": 1524}, {\"dt\": \"2021-10-07\", \"activity_level\": 10, \"userid\": 1592}, {\"dt\": \"2021-10-07\", \"activity_level\": 11, \"userid\": 1549}, {\"dt\": \"2021-10-07\", \"activity_level\": 12, \"userid\": 1592}, {\"dt\": \"2021-10-07\", \"activity_level\": 13, \"userid\": 1538}, {\"dt\": \"2021-10-07\", \"activity_level\": 14, \"userid\": 1572}, {\"dt\": \"2021-10-07\", \"activity_level\": 15, \"userid\": 1557}, {\"dt\": \"2021-10-07\", \"activity_level\": 16, \"userid\": 1583}, {\"dt\": \"2021-10-07\", \"activity_level\": 17, \"userid\": 1609}, {\"dt\": \"2021-10-07\", \"activity_level\": 18, \"userid\": 1554}, {\"dt\": \"2021-10-07\", \"activity_level\": 19, \"userid\": 1544}, {\"dt\": \"2021-10-07\", \"activity_level\": 20, \"userid\": 781}, {\"dt\": \"2021-10-08\", \"activity_level\": 1, \"userid\": 1580}, {\"dt\": \"2021-10-08\", \"activity_level\": 2, \"userid\": 1592}, {\"dt\": \"2021-10-08\", \"activity_level\": 3, \"userid\": 1518}, {\"dt\": \"2021-10-08\", \"activity_level\": 4, \"userid\": 1533}, {\"dt\": \"2021-10-08\", \"activity_level\": 5, \"userid\": 1615}, {\"dt\": \"2021-10-08\", \"activity_level\": 6, \"userid\": 1438}, {\"dt\": \"2021-10-08\", \"activity_level\": 7, \"userid\": 1595}, {\"dt\": \"2021-10-08\", \"activity_level\": 8, \"userid\": 1518}, {\"dt\": \"2021-10-08\", \"activity_level\": 9, \"userid\": 1621}, {\"dt\": \"2021-10-08\", \"activity_level\": 10, \"userid\": 1518}, {\"dt\": \"2021-10-08\", \"activity_level\": 11, \"userid\": 1583}, {\"dt\": \"2021-10-08\", \"activity_level\": 12, \"userid\": 1581}, {\"dt\": \"2021-10-08\", \"activity_level\": 13, \"userid\": 1631}, {\"dt\": \"2021-10-08\", \"activity_level\": 14, \"userid\": 1610}, {\"dt\": \"2021-10-08\", \"activity_level\": 15, \"userid\": 1529}, {\"dt\": \"2021-10-08\", \"activity_level\": 16, \"userid\": 1650}, {\"dt\": \"2021-10-08\", \"activity_level\": 17, \"userid\": 1516}, {\"dt\": \"2021-10-08\", \"activity_level\": 18, \"userid\": 1649}, {\"dt\": \"2021-10-08\", \"activity_level\": 19, \"userid\": 1510}, {\"dt\": \"2021-10-08\", \"activity_level\": 20, \"userid\": 813}, {\"dt\": \"2021-10-09\", \"activity_level\": 1, \"userid\": 1556}, {\"dt\": \"2021-10-09\", \"activity_level\": 2, \"userid\": 1572}, {\"dt\": \"2021-10-09\", \"activity_level\": 3, \"userid\": 1580}, {\"dt\": \"2021-10-09\", \"activity_level\": 4, \"userid\": 1562}, {\"dt\": \"2021-10-09\", \"activity_level\": 5, \"userid\": 1676}, {\"dt\": \"2021-10-09\", \"activity_level\": 6, \"userid\": 1639}, {\"dt\": \"2021-10-09\", \"activity_level\": 7, \"userid\": 1544}, {\"dt\": \"2021-10-09\", \"activity_level\": 8, \"userid\": 1586}, {\"dt\": \"2021-10-09\", \"activity_level\": 9, \"userid\": 1595}, {\"dt\": \"2021-10-09\", \"activity_level\": 10, \"userid\": 1563}, {\"dt\": \"2021-10-09\", \"activity_level\": 11, \"userid\": 1573}, {\"dt\": \"2021-10-09\", \"activity_level\": 12, \"userid\": 1497}, {\"dt\": \"2021-10-09\", \"activity_level\": 13, \"userid\": 1623}, {\"dt\": \"2021-10-09\", \"activity_level\": 14, \"userid\": 1567}, {\"dt\": \"2021-10-09\", \"activity_level\": 15, \"userid\": 1566}, {\"dt\": \"2021-10-09\", \"activity_level\": 16, \"userid\": 1607}, {\"dt\": \"2021-10-09\", \"activity_level\": 17, \"userid\": 1565}, {\"dt\": \"2021-10-09\", \"activity_level\": 18, \"userid\": 1641}, {\"dt\": \"2021-10-09\", \"activity_level\": 19, \"userid\": 1577}, {\"dt\": \"2021-10-09\", \"activity_level\": 20, \"userid\": 813}, {\"dt\": \"2021-10-10\", \"activity_level\": 1, \"userid\": 1605}, {\"dt\": \"2021-10-10\", \"activity_level\": 2, \"userid\": 1485}, {\"dt\": \"2021-10-10\", \"activity_level\": 3, \"userid\": 1586}, {\"dt\": \"2021-10-10\", \"activity_level\": 4, \"userid\": 1534}, {\"dt\": \"2021-10-10\", \"activity_level\": 5, \"userid\": 1603}, {\"dt\": \"2021-10-10\", \"activity_level\": 6, \"userid\": 1576}, {\"dt\": \"2021-10-10\", \"activity_level\": 7, \"userid\": 1554}, {\"dt\": \"2021-10-10\", \"activity_level\": 8, \"userid\": 1527}, {\"dt\": \"2021-10-10\", \"activity_level\": 9, \"userid\": 1535}, {\"dt\": \"2021-10-10\", \"activity_level\": 10, \"userid\": 1548}, {\"dt\": \"2021-10-10\", \"activity_level\": 11, \"userid\": 1635}, {\"dt\": \"2021-10-10\", \"activity_level\": 12, \"userid\": 1558}, {\"dt\": \"2021-10-10\", \"activity_level\": 13, \"userid\": 1584}, {\"dt\": \"2021-10-10\", \"activity_level\": 14, \"userid\": 1544}, {\"dt\": \"2021-10-10\", \"activity_level\": 15, \"userid\": 1578}, {\"dt\": \"2021-10-10\", \"activity_level\": 16, \"userid\": 1627}, {\"dt\": \"2021-10-10\", \"activity_level\": 17, \"userid\": 1579}, {\"dt\": \"2021-10-10\", \"activity_level\": 18, \"userid\": 1568}, {\"dt\": \"2021-10-10\", \"activity_level\": 19, \"userid\": 1555}, {\"dt\": \"2021-10-10\", \"activity_level\": 20, \"userid\": 800}, {\"dt\": \"2021-10-11\", \"activity_level\": 1, \"userid\": 1582}, {\"dt\": \"2021-10-11\", \"activity_level\": 2, \"userid\": 1564}, {\"dt\": \"2021-10-11\", \"activity_level\": 3, \"userid\": 1529}, {\"dt\": \"2021-10-11\", \"activity_level\": 4, \"userid\": 1568}, {\"dt\": \"2021-10-11\", \"activity_level\": 5, \"userid\": 1686}, {\"dt\": \"2021-10-11\", \"activity_level\": 6, \"userid\": 1559}, {\"dt\": \"2021-10-11\", \"activity_level\": 7, \"userid\": 1588}, {\"dt\": \"2021-10-11\", \"activity_level\": 8, \"userid\": 1544}, {\"dt\": \"2021-10-11\", \"activity_level\": 9, \"userid\": 1535}, {\"dt\": \"2021-10-11\", \"activity_level\": 10, \"userid\": 1588}, {\"dt\": \"2021-10-11\", \"activity_level\": 11, \"userid\": 1533}, {\"dt\": \"2021-10-11\", \"activity_level\": 12, \"userid\": 1550}, {\"dt\": \"2021-10-11\", \"activity_level\": 13, \"userid\": 1526}, {\"dt\": \"2021-10-11\", \"activity_level\": 14, \"userid\": 1630}, {\"dt\": \"2021-10-11\", \"activity_level\": 15, \"userid\": 1543}, {\"dt\": \"2021-10-11\", \"activity_level\": 16, \"userid\": 1620}, {\"dt\": \"2021-10-11\", \"activity_level\": 17, \"userid\": 1531}, {\"dt\": \"2021-10-11\", \"activity_level\": 18, \"userid\": 1504}, {\"dt\": \"2021-10-11\", \"activity_level\": 19, \"userid\": 1571}, {\"dt\": \"2021-10-11\", \"activity_level\": 20, \"userid\": 738}, {\"dt\": \"2021-10-12\", \"activity_level\": 1, \"userid\": 1546}, {\"dt\": \"2021-10-12\", \"activity_level\": 2, \"userid\": 1628}, {\"dt\": \"2021-10-12\", \"activity_level\": 3, \"userid\": 1555}, {\"dt\": \"2021-10-12\", \"activity_level\": 4, \"userid\": 1612}, {\"dt\": \"2021-10-12\", \"activity_level\": 5, \"userid\": 1614}, {\"dt\": \"2021-10-12\", \"activity_level\": 6, \"userid\": 1528}, {\"dt\": \"2021-10-12\", \"activity_level\": 7, \"userid\": 1519}, {\"dt\": \"2021-10-12\", \"activity_level\": 8, \"userid\": 1513}, {\"dt\": \"2021-10-12\", \"activity_level\": 9, \"userid\": 1527}, {\"dt\": \"2021-10-12\", \"activity_level\": 10, \"userid\": 1634}, {\"dt\": \"2021-10-12\", \"activity_level\": 11, \"userid\": 1542}, {\"dt\": \"2021-10-12\", \"activity_level\": 12, \"userid\": 1628}, {\"dt\": \"2021-10-12\", \"activity_level\": 13, \"userid\": 1619}, {\"dt\": \"2021-10-12\", \"activity_level\": 14, \"userid\": 1606}, {\"dt\": \"2021-10-12\", \"activity_level\": 15, \"userid\": 1560}, {\"dt\": \"2021-10-12\", \"activity_level\": 16, \"userid\": 1630}, {\"dt\": \"2021-10-12\", \"activity_level\": 17, \"userid\": 1554}, {\"dt\": \"2021-10-12\", \"activity_level\": 18, \"userid\": 1535}, {\"dt\": \"2021-10-12\", \"activity_level\": 19, \"userid\": 1595}, {\"dt\": \"2021-10-12\", \"activity_level\": 20, \"userid\": 770}, {\"dt\": \"2021-10-13\", \"activity_level\": 1, \"userid\": 1591}, {\"dt\": \"2021-10-13\", \"activity_level\": 2, \"userid\": 1487}, {\"dt\": \"2021-10-13\", \"activity_level\": 3, \"userid\": 1536}, {\"dt\": \"2021-10-13\", \"activity_level\": 4, \"userid\": 1602}, {\"dt\": \"2021-10-13\", \"activity_level\": 5, \"userid\": 1675}, {\"dt\": \"2021-10-13\", \"activity_level\": 6, \"userid\": 1590}, {\"dt\": \"2021-10-13\", \"activity_level\": 7, \"userid\": 1539}, {\"dt\": \"2021-10-13\", \"activity_level\": 8, \"userid\": 1529}, {\"dt\": \"2021-10-13\", \"activity_level\": 9, \"userid\": 1603}, {\"dt\": \"2021-10-13\", \"activity_level\": 10, \"userid\": 1622}, {\"dt\": \"2021-10-13\", \"activity_level\": 11, \"userid\": 1574}, {\"dt\": \"2021-10-13\", \"activity_level\": 12, \"userid\": 1600}, {\"dt\": \"2021-10-13\", \"activity_level\": 13, \"userid\": 1572}, {\"dt\": \"2021-10-13\", \"activity_level\": 14, \"userid\": 1573}, {\"dt\": \"2021-10-13\", \"activity_level\": 15, \"userid\": 1612}, {\"dt\": \"2021-10-13\", \"activity_level\": 16, \"userid\": 1521}, {\"dt\": \"2021-10-13\", \"activity_level\": 17, \"userid\": 1553}, {\"dt\": \"2021-10-13\", \"activity_level\": 18, \"userid\": 1556}, {\"dt\": \"2021-10-13\", \"activity_level\": 19, \"userid\": 1620}, {\"dt\": \"2021-10-13\", \"activity_level\": 20, \"userid\": 806}, {\"dt\": \"2021-10-14\", \"activity_level\": 1, \"userid\": 1542}, {\"dt\": \"2021-10-14\", \"activity_level\": 2, \"userid\": 1665}, {\"dt\": \"2021-10-14\", \"activity_level\": 3, \"userid\": 1563}, {\"dt\": \"2021-10-14\", \"activity_level\": 4, \"userid\": 1550}, {\"dt\": \"2021-10-14\", \"activity_level\": 5, \"userid\": 1604}, {\"dt\": \"2021-10-14\", \"activity_level\": 6, \"userid\": 1644}, {\"dt\": \"2021-10-14\", \"activity_level\": 7, \"userid\": 1622}, {\"dt\": \"2021-10-14\", \"activity_level\": 8, \"userid\": 1641}, {\"dt\": \"2021-10-14\", \"activity_level\": 9, \"userid\": 1578}, {\"dt\": \"2021-10-14\", \"activity_level\": 10, \"userid\": 1625}, {\"dt\": \"2021-10-14\", \"activity_level\": 11, \"userid\": 1544}, {\"dt\": \"2021-10-14\", \"activity_level\": 12, \"userid\": 1525}, {\"dt\": \"2021-10-14\", \"activity_level\": 13, \"userid\": 1493}, {\"dt\": \"2021-10-14\", \"activity_level\": 14, \"userid\": 1627}, {\"dt\": \"2021-10-14\", \"activity_level\": 15, \"userid\": 1590}, {\"dt\": \"2021-10-14\", \"activity_level\": 16, \"userid\": 1537}, {\"dt\": \"2021-10-14\", \"activity_level\": 17, \"userid\": 1514}, {\"dt\": \"2021-10-14\", \"activity_level\": 18, \"userid\": 1548}, {\"dt\": \"2021-10-14\", \"activity_level\": 19, \"userid\": 1548}, {\"dt\": \"2021-10-14\", \"activity_level\": 20, \"userid\": 756}, {\"dt\": \"2021-10-15\", \"activity_level\": 1, \"userid\": 1528}, {\"dt\": \"2021-10-15\", \"activity_level\": 2, \"userid\": 1586}, {\"dt\": \"2021-10-15\", \"activity_level\": 3, \"userid\": 1620}, {\"dt\": \"2021-10-15\", \"activity_level\": 4, \"userid\": 1556}, {\"dt\": \"2021-10-15\", \"activity_level\": 5, \"userid\": 1549}, {\"dt\": \"2021-10-15\", \"activity_level\": 6, \"userid\": 1567}, {\"dt\": \"2021-10-15\", \"activity_level\": 7, \"userid\": 1553}, {\"dt\": \"2021-10-15\", \"activity_level\": 8, \"userid\": 1601}, {\"dt\": \"2021-10-15\", \"activity_level\": 9, \"userid\": 1612}, {\"dt\": \"2021-10-15\", \"activity_level\": 10, \"userid\": 1495}, {\"dt\": \"2021-10-15\", \"activity_level\": 11, \"userid\": 1612}, {\"dt\": \"2021-10-15\", \"activity_level\": 12, \"userid\": 1493}, {\"dt\": \"2021-10-15\", \"activity_level\": 13, \"userid\": 1574}, {\"dt\": \"2021-10-15\", \"activity_level\": 14, \"userid\": 1599}, {\"dt\": \"2021-10-15\", \"activity_level\": 15, \"userid\": 1622}, {\"dt\": \"2021-10-15\", \"activity_level\": 16, \"userid\": 1521}, {\"dt\": \"2021-10-15\", \"activity_level\": 17, \"userid\": 1547}, {\"dt\": \"2021-10-15\", \"activity_level\": 18, \"userid\": 1624}, {\"dt\": \"2021-10-15\", \"activity_level\": 19, \"userid\": 1583}, {\"dt\": \"2021-10-15\", \"activity_level\": 20, \"userid\": 795}, {\"dt\": \"2021-10-16\", \"activity_level\": 1, \"userid\": 1585}, {\"dt\": \"2021-10-16\", \"activity_level\": 2, \"userid\": 1609}, {\"dt\": \"2021-10-16\", \"activity_level\": 3, \"userid\": 1575}, {\"dt\": \"2021-10-16\", \"activity_level\": 4, \"userid\": 1577}, {\"dt\": \"2021-10-16\", \"activity_level\": 5, \"userid\": 1529}, {\"dt\": \"2021-10-16\", \"activity_level\": 6, \"userid\": 1573}, {\"dt\": \"2021-10-16\", \"activity_level\": 7, \"userid\": 1514}, {\"dt\": \"2021-10-16\", \"activity_level\": 8, \"userid\": 1572}, {\"dt\": \"2021-10-16\", \"activity_level\": 9, \"userid\": 1599}, {\"dt\": \"2021-10-16\", \"activity_level\": 10, \"userid\": 1590}, {\"dt\": \"2021-10-16\", \"activity_level\": 11, \"userid\": 1613}, {\"dt\": \"2021-10-16\", \"activity_level\": 12, \"userid\": 1616}, {\"dt\": \"2021-10-16\", \"activity_level\": 13, \"userid\": 1550}, {\"dt\": \"2021-10-16\", \"activity_level\": 14, \"userid\": 1560}, {\"dt\": \"2021-10-16\", \"activity_level\": 15, \"userid\": 1562}, {\"dt\": \"2021-10-16\", \"activity_level\": 16, \"userid\": 1565}, {\"dt\": \"2021-10-16\", \"activity_level\": 17, \"userid\": 1537}, {\"dt\": \"2021-10-16\", \"activity_level\": 18, \"userid\": 1578}, {\"dt\": \"2021-10-16\", \"activity_level\": 19, \"userid\": 1614}, {\"dt\": \"2021-10-16\", \"activity_level\": 20, \"userid\": 790}, {\"dt\": \"2021-10-17\", \"activity_level\": 1, \"userid\": 1572}, {\"dt\": \"2021-10-17\", \"activity_level\": 2, \"userid\": 1639}, {\"dt\": \"2021-10-17\", \"activity_level\": 3, \"userid\": 1570}, {\"dt\": \"2021-10-17\", \"activity_level\": 4, \"userid\": 1525}, {\"dt\": \"2021-10-17\", \"activity_level\": 5, \"userid\": 1626}, {\"dt\": \"2021-10-17\", \"activity_level\": 6, \"userid\": 1565}, {\"dt\": \"2021-10-17\", \"activity_level\": 7, \"userid\": 1603}, {\"dt\": \"2021-10-17\", \"activity_level\": 8, \"userid\": 1550}, {\"dt\": \"2021-10-17\", \"activity_level\": 9, \"userid\": 1593}, {\"dt\": \"2021-10-17\", \"activity_level\": 10, \"userid\": 1581}, {\"dt\": \"2021-10-17\", \"activity_level\": 11, \"userid\": 1557}, {\"dt\": \"2021-10-17\", \"activity_level\": 12, \"userid\": 1528}, {\"dt\": \"2021-10-17\", \"activity_level\": 13, \"userid\": 1530}, {\"dt\": \"2021-10-17\", \"activity_level\": 14, \"userid\": 1568}, {\"dt\": \"2021-10-17\", \"activity_level\": 15, \"userid\": 1548}, {\"dt\": \"2021-10-17\", \"activity_level\": 16, \"userid\": 1635}, {\"dt\": \"2021-10-17\", \"activity_level\": 17, \"userid\": 1572}, {\"dt\": \"2021-10-17\", \"activity_level\": 18, \"userid\": 1606}, {\"dt\": \"2021-10-17\", \"activity_level\": 19, \"userid\": 1535}, {\"dt\": \"2021-10-17\", \"activity_level\": 20, \"userid\": 838}, {\"dt\": \"2021-10-18\", \"activity_level\": 1, \"userid\": 1573}, {\"dt\": \"2021-10-18\", \"activity_level\": 2, \"userid\": 1643}, {\"dt\": \"2021-10-18\", \"activity_level\": 3, \"userid\": 1596}, {\"dt\": \"2021-10-18\", \"activity_level\": 4, \"userid\": 1565}, {\"dt\": \"2021-10-18\", \"activity_level\": 5, \"userid\": 1580}, {\"dt\": \"2021-10-18\", \"activity_level\": 6, \"userid\": 1584}, {\"dt\": \"2021-10-18\", \"activity_level\": 7, \"userid\": 1566}, {\"dt\": \"2021-10-18\", \"activity_level\": 8, \"userid\": 1594}, {\"dt\": \"2021-10-18\", \"activity_level\": 9, \"userid\": 1589}, {\"dt\": \"2021-10-18\", \"activity_level\": 10, \"userid\": 1542}, {\"dt\": \"2021-10-18\", \"activity_level\": 11, \"userid\": 1608}, {\"dt\": \"2021-10-18\", \"activity_level\": 12, \"userid\": 1559}, {\"dt\": \"2021-10-18\", \"activity_level\": 13, \"userid\": 1508}, {\"dt\": \"2021-10-18\", \"activity_level\": 14, \"userid\": 1515}, {\"dt\": \"2021-10-18\", \"activity_level\": 15, \"userid\": 1526}, {\"dt\": \"2021-10-18\", \"activity_level\": 16, \"userid\": 1536}, {\"dt\": \"2021-10-18\", \"activity_level\": 17, \"userid\": 1613}, {\"dt\": \"2021-10-18\", \"activity_level\": 18, \"userid\": 1626}, {\"dt\": \"2021-10-18\", \"activity_level\": 19, \"userid\": 1591}, {\"dt\": \"2021-10-18\", \"activity_level\": 20, \"userid\": 780}, {\"dt\": \"2021-10-19\", \"activity_level\": 1, \"userid\": 1620}, {\"dt\": \"2021-10-19\", \"activity_level\": 2, \"userid\": 1561}, {\"dt\": \"2021-10-19\", \"activity_level\": 3, \"userid\": 1579}, {\"dt\": \"2021-10-19\", \"activity_level\": 4, \"userid\": 1630}, {\"dt\": \"2021-10-19\", \"activity_level\": 5, \"userid\": 1571}, {\"dt\": \"2021-10-19\", \"activity_level\": 6, \"userid\": 1569}, {\"dt\": \"2021-10-19\", \"activity_level\": 7, \"userid\": 1515}, {\"dt\": \"2021-10-19\", \"activity_level\": 8, \"userid\": 1588}, {\"dt\": \"2021-10-19\", \"activity_level\": 9, \"userid\": 1547}, {\"dt\": \"2021-10-19\", \"activity_level\": 10, \"userid\": 1606}, {\"dt\": \"2021-10-19\", \"activity_level\": 11, \"userid\": 1594}, {\"dt\": \"2021-10-19\", \"activity_level\": 12, \"userid\": 1553}, {\"dt\": \"2021-10-19\", \"activity_level\": 13, \"userid\": 1509}, {\"dt\": \"2021-10-19\", \"activity_level\": 14, \"userid\": 1550}, {\"dt\": \"2021-10-19\", \"activity_level\": 15, \"userid\": 1564}, {\"dt\": \"2021-10-19\", \"activity_level\": 16, \"userid\": 1532}, {\"dt\": \"2021-10-19\", \"activity_level\": 17, \"userid\": 1541}, {\"dt\": \"2021-10-19\", \"activity_level\": 18, \"userid\": 1606}, {\"dt\": \"2021-10-19\", \"activity_level\": 19, \"userid\": 1532}, {\"dt\": \"2021-10-19\", \"activity_level\": 20, \"userid\": 820}, {\"dt\": \"2021-10-20\", \"activity_level\": 1, \"userid\": 1545}, {\"dt\": \"2021-10-20\", \"activity_level\": 2, \"userid\": 1650}, {\"dt\": \"2021-10-20\", \"activity_level\": 3, \"userid\": 1644}, {\"dt\": \"2021-10-20\", \"activity_level\": 4, \"userid\": 1572}, {\"dt\": \"2021-10-20\", \"activity_level\": 5, \"userid\": 1597}, {\"dt\": \"2021-10-20\", \"activity_level\": 6, \"userid\": 1570}, {\"dt\": \"2021-10-20\", \"activity_level\": 7, \"userid\": 1578}, {\"dt\": \"2021-10-20\", \"activity_level\": 8, \"userid\": 1482}, {\"dt\": \"2021-10-20\", \"activity_level\": 9, \"userid\": 1629}, {\"dt\": \"2021-10-20\", \"activity_level\": 10, \"userid\": 1531}, {\"dt\": \"2021-10-20\", \"activity_level\": 11, \"userid\": 1576}, {\"dt\": \"2021-10-20\", \"activity_level\": 12, \"userid\": 1615}, {\"dt\": \"2021-10-20\", \"activity_level\": 13, \"userid\": 1608}, {\"dt\": \"2021-10-20\", \"activity_level\": 14, \"userid\": 1535}, {\"dt\": \"2021-10-20\", \"activity_level\": 15, \"userid\": 1573}, {\"dt\": \"2021-10-20\", \"activity_level\": 16, \"userid\": 1577}, {\"dt\": \"2021-10-20\", \"activity_level\": 17, \"userid\": 1576}, {\"dt\": \"2021-10-20\", \"activity_level\": 18, \"userid\": 1596}, {\"dt\": \"2021-10-20\", \"activity_level\": 19, \"userid\": 1567}, {\"dt\": \"2021-10-20\", \"activity_level\": 20, \"userid\": 774}, {\"dt\": \"2021-10-21\", \"activity_level\": 1, \"userid\": 1564}, {\"dt\": \"2021-10-21\", \"activity_level\": 2, \"userid\": 1548}, {\"dt\": \"2021-10-21\", \"activity_level\": 3, \"userid\": 1588}, {\"dt\": \"2021-10-21\", \"activity_level\": 4, \"userid\": 1552}, {\"dt\": \"2021-10-21\", \"activity_level\": 5, \"userid\": 1510}, {\"dt\": \"2021-10-21\", \"activity_level\": 6, \"userid\": 1582}, {\"dt\": \"2021-10-21\", \"activity_level\": 7, \"userid\": 1530}, {\"dt\": \"2021-10-21\", \"activity_level\": 8, \"userid\": 1581}, {\"dt\": \"2021-10-21\", \"activity_level\": 9, \"userid\": 1599}, {\"dt\": \"2021-10-21\", \"activity_level\": 10, \"userid\": 1627}, {\"dt\": \"2021-10-21\", \"activity_level\": 11, \"userid\": 1659}, {\"dt\": \"2021-10-21\", \"activity_level\": 12, \"userid\": 1602}, {\"dt\": \"2021-10-21\", \"activity_level\": 13, \"userid\": 1569}, {\"dt\": \"2021-10-21\", \"activity_level\": 14, \"userid\": 1577}, {\"dt\": \"2021-10-21\", \"activity_level\": 15, \"userid\": 1605}, {\"dt\": \"2021-10-21\", \"activity_level\": 16, \"userid\": 1549}, {\"dt\": \"2021-10-21\", \"activity_level\": 17, \"userid\": 1552}, {\"dt\": \"2021-10-21\", \"activity_level\": 18, \"userid\": 1551}, {\"dt\": \"2021-10-21\", \"activity_level\": 19, \"userid\": 1585}, {\"dt\": \"2021-10-21\", \"activity_level\": 20, \"userid\": 775}, {\"dt\": \"2021-10-22\", \"activity_level\": 1, \"userid\": 1609}, {\"dt\": \"2021-10-22\", \"activity_level\": 2, \"userid\": 1523}, {\"dt\": \"2021-10-22\", \"activity_level\": 3, \"userid\": 1572}, {\"dt\": \"2021-10-22\", \"activity_level\": 4, \"userid\": 1526}, {\"dt\": \"2021-10-22\", \"activity_level\": 5, \"userid\": 1584}, {\"dt\": \"2021-10-22\", \"activity_level\": 6, \"userid\": 1532}, {\"dt\": \"2021-10-22\", \"activity_level\": 7, \"userid\": 1583}, {\"dt\": \"2021-10-22\", \"activity_level\": 8, \"userid\": 1559}, {\"dt\": \"2021-10-22\", \"activity_level\": 9, \"userid\": 1559}, {\"dt\": \"2021-10-22\", \"activity_level\": 10, \"userid\": 1572}, {\"dt\": \"2021-10-22\", \"activity_level\": 11, \"userid\": 1506}, {\"dt\": \"2021-10-22\", \"activity_level\": 12, \"userid\": 1519}, {\"dt\": \"2021-10-22\", \"activity_level\": 13, \"userid\": 1637}, {\"dt\": \"2021-10-22\", \"activity_level\": 14, \"userid\": 1549}, {\"dt\": \"2021-10-22\", \"activity_level\": 15, \"userid\": 1523}, {\"dt\": \"2021-10-22\", \"activity_level\": 16, \"userid\": 1601}, {\"dt\": \"2021-10-22\", \"activity_level\": 17, \"userid\": 1622}, {\"dt\": \"2021-10-22\", \"activity_level\": 18, \"userid\": 1567}, {\"dt\": \"2021-10-22\", \"activity_level\": 19, \"userid\": 1638}, {\"dt\": \"2021-10-22\", \"activity_level\": 20, \"userid\": 792}, {\"dt\": \"2021-10-23\", \"activity_level\": 1, \"userid\": 1567}, {\"dt\": \"2021-10-23\", \"activity_level\": 2, \"userid\": 1524}, {\"dt\": \"2021-10-23\", \"activity_level\": 3, \"userid\": 1572}, {\"dt\": \"2021-10-23\", \"activity_level\": 4, \"userid\": 1567}, {\"dt\": \"2021-10-23\", \"activity_level\": 5, \"userid\": 1560}, {\"dt\": \"2021-10-23\", \"activity_level\": 6, \"userid\": 1558}, {\"dt\": \"2021-10-23\", \"activity_level\": 7, \"userid\": 1552}, {\"dt\": \"2021-10-23\", \"activity_level\": 8, \"userid\": 1535}, {\"dt\": \"2021-10-23\", \"activity_level\": 9, \"userid\": 1617}, {\"dt\": \"2021-10-23\", \"activity_level\": 10, \"userid\": 1605}, {\"dt\": \"2021-10-23\", \"activity_level\": 11, \"userid\": 1526}, {\"dt\": \"2021-10-23\", \"activity_level\": 12, \"userid\": 1612}, {\"dt\": \"2021-10-23\", \"activity_level\": 13, \"userid\": 1544}, {\"dt\": \"2021-10-23\", \"activity_level\": 14, \"userid\": 1631}, {\"dt\": \"2021-10-23\", \"activity_level\": 15, \"userid\": 1561}, {\"dt\": \"2021-10-23\", \"activity_level\": 16, \"userid\": 1597}, {\"dt\": \"2021-10-23\", \"activity_level\": 17, \"userid\": 1562}, {\"dt\": \"2021-10-23\", \"activity_level\": 18, \"userid\": 1616}, {\"dt\": \"2021-10-23\", \"activity_level\": 19, \"userid\": 1548}, {\"dt\": \"2021-10-23\", \"activity_level\": 20, \"userid\": 791}, {\"dt\": \"2021-10-24\", \"activity_level\": 1, \"userid\": 1572}, {\"dt\": \"2021-10-24\", \"activity_level\": 2, \"userid\": 1632}, {\"dt\": \"2021-10-24\", \"activity_level\": 3, \"userid\": 1586}, {\"dt\": \"2021-10-24\", \"activity_level\": 4, \"userid\": 1524}, {\"dt\": \"2021-10-24\", \"activity_level\": 5, \"userid\": 1616}, {\"dt\": \"2021-10-24\", \"activity_level\": 6, \"userid\": 1519}, {\"dt\": \"2021-10-24\", \"activity_level\": 7, \"userid\": 1554}, {\"dt\": \"2021-10-24\", \"activity_level\": 8, \"userid\": 1562}, {\"dt\": \"2021-10-24\", \"activity_level\": 9, \"userid\": 1550}, {\"dt\": \"2021-10-24\", \"activity_level\": 10, \"userid\": 1559}, {\"dt\": \"2021-10-24\", \"activity_level\": 11, \"userid\": 1657}, {\"dt\": \"2021-10-24\", \"activity_level\": 12, \"userid\": 1638}, {\"dt\": \"2021-10-24\", \"activity_level\": 13, \"userid\": 1581}, {\"dt\": \"2021-10-24\", \"activity_level\": 14, \"userid\": 1576}, {\"dt\": \"2021-10-24\", \"activity_level\": 15, \"userid\": 1564}, {\"dt\": \"2021-10-24\", \"activity_level\": 16, \"userid\": 1651}, {\"dt\": \"2021-10-24\", \"activity_level\": 17, \"userid\": 1560}, {\"dt\": \"2021-10-24\", \"activity_level\": 18, \"userid\": 1564}, {\"dt\": \"2021-10-24\", \"activity_level\": 19, \"userid\": 1572}, {\"dt\": \"2021-10-24\", \"activity_level\": 20, \"userid\": 778}, {\"dt\": \"2021-10-25\", \"activity_level\": 1, \"userid\": 1544}, {\"dt\": \"2021-10-25\", \"activity_level\": 2, \"userid\": 1593}, {\"dt\": \"2021-10-25\", \"activity_level\": 3, \"userid\": 1601}, {\"dt\": \"2021-10-25\", \"activity_level\": 4, \"userid\": 1564}, {\"dt\": \"2021-10-25\", \"activity_level\": 5, \"userid\": 1520}, {\"dt\": \"2021-10-25\", \"activity_level\": 6, \"userid\": 1531}, {\"dt\": \"2021-10-25\", \"activity_level\": 7, \"userid\": 1506}, {\"dt\": \"2021-10-25\", \"activity_level\": 8, \"userid\": 1583}, {\"dt\": \"2021-10-25\", \"activity_level\": 9, \"userid\": 1540}, {\"dt\": \"2021-10-25\", \"activity_level\": 10, \"userid\": 1589}, {\"dt\": \"2021-10-25\", \"activity_level\": 11, \"userid\": 1537}, {\"dt\": \"2021-10-25\", \"activity_level\": 12, \"userid\": 1610}, {\"dt\": \"2021-10-25\", \"activity_level\": 13, \"userid\": 1561}, {\"dt\": \"2021-10-25\", \"activity_level\": 14, \"userid\": 1549}, {\"dt\": \"2021-10-25\", \"activity_level\": 15, \"userid\": 1527}, {\"dt\": \"2021-10-25\", \"activity_level\": 16, \"userid\": 1561}, {\"dt\": \"2021-10-25\", \"activity_level\": 17, \"userid\": 1625}, {\"dt\": \"2021-10-25\", \"activity_level\": 18, \"userid\": 1600}, {\"dt\": \"2021-10-25\", \"activity_level\": 19, \"userid\": 1629}, {\"dt\": \"2021-10-25\", \"activity_level\": 20, \"userid\": 846}, {\"dt\": \"2021-10-26\", \"activity_level\": 1, \"userid\": 1554}, {\"dt\": \"2021-10-26\", \"activity_level\": 2, \"userid\": 1644}, {\"dt\": \"2021-10-26\", \"activity_level\": 3, \"userid\": 1543}, {\"dt\": \"2021-10-26\", \"activity_level\": 4, \"userid\": 1523}, {\"dt\": \"2021-10-26\", \"activity_level\": 5, \"userid\": 1607}, {\"dt\": \"2021-10-26\", \"activity_level\": 6, \"userid\": 1615}, {\"dt\": \"2021-10-26\", \"activity_level\": 7, \"userid\": 1575}, {\"dt\": \"2021-10-26\", \"activity_level\": 8, \"userid\": 1588}, {\"dt\": \"2021-10-26\", \"activity_level\": 9, \"userid\": 1534}, {\"dt\": \"2021-10-26\", \"activity_level\": 10, \"userid\": 1545}, {\"dt\": \"2021-10-26\", \"activity_level\": 11, \"userid\": 1584}, {\"dt\": \"2021-10-26\", \"activity_level\": 12, \"userid\": 1520}, {\"dt\": \"2021-10-26\", \"activity_level\": 13, \"userid\": 1564}, {\"dt\": \"2021-10-26\", \"activity_level\": 14, \"userid\": 1563}, {\"dt\": \"2021-10-26\", \"activity_level\": 15, \"userid\": 1633}, {\"dt\": \"2021-10-26\", \"activity_level\": 16, \"userid\": 1603}, {\"dt\": \"2021-10-26\", \"activity_level\": 17, \"userid\": 1557}, {\"dt\": \"2021-10-26\", \"activity_level\": 18, \"userid\": 1592}, {\"dt\": \"2021-10-26\", \"activity_level\": 19, \"userid\": 1545}, {\"dt\": \"2021-10-26\", \"activity_level\": 20, \"userid\": 784}, {\"dt\": \"2021-10-27\", \"activity_level\": 1, \"userid\": 1560}, {\"dt\": \"2021-10-27\", \"activity_level\": 2, \"userid\": 1504}, {\"dt\": \"2021-10-27\", \"activity_level\": 3, \"userid\": 1561}, {\"dt\": \"2021-10-27\", \"activity_level\": 4, \"userid\": 1629}, {\"dt\": \"2021-10-27\", \"activity_level\": 5, \"userid\": 1588}, {\"dt\": \"2021-10-27\", \"activity_level\": 6, \"userid\": 1644}, {\"dt\": \"2021-10-27\", \"activity_level\": 7, \"userid\": 1527}, {\"dt\": \"2021-10-27\", \"activity_level\": 8, \"userid\": 1569}, {\"dt\": \"2021-10-27\", \"activity_level\": 9, \"userid\": 1452}, {\"dt\": \"2021-10-27\", \"activity_level\": 10, \"userid\": 1576}, {\"dt\": \"2021-10-27\", \"activity_level\": 11, \"userid\": 1628}, {\"dt\": \"2021-10-27\", \"activity_level\": 12, \"userid\": 1547}, {\"dt\": \"2021-10-27\", \"activity_level\": 13, \"userid\": 1532}, {\"dt\": \"2021-10-27\", \"activity_level\": 14, \"userid\": 1593}, {\"dt\": \"2021-10-27\", \"activity_level\": 15, \"userid\": 1513}, {\"dt\": \"2021-10-27\", \"activity_level\": 16, \"userid\": 1575}, {\"dt\": \"2021-10-27\", \"activity_level\": 17, \"userid\": 1652}, {\"dt\": \"2021-10-27\", \"activity_level\": 18, \"userid\": 1651}, {\"dt\": \"2021-10-27\", \"activity_level\": 19, \"userid\": 1550}, {\"dt\": \"2021-10-27\", \"activity_level\": 20, \"userid\": 810}, {\"dt\": \"2021-10-28\", \"activity_level\": 1, \"userid\": 1608}, {\"dt\": \"2021-10-28\", \"activity_level\": 2, \"userid\": 1635}, {\"dt\": \"2021-10-28\", \"activity_level\": 3, \"userid\": 1663}, {\"dt\": \"2021-10-28\", \"activity_level\": 4, \"userid\": 1558}, {\"dt\": \"2021-10-28\", \"activity_level\": 5, \"userid\": 1531}, {\"dt\": \"2021-10-28\", \"activity_level\": 6, \"userid\": 1626}, {\"dt\": \"2021-10-28\", \"activity_level\": 7, \"userid\": 1615}, {\"dt\": \"2021-10-28\", \"activity_level\": 8, \"userid\": 1607}, {\"dt\": \"2021-10-28\", \"activity_level\": 9, \"userid\": 1572}, {\"dt\": \"2021-10-28\", \"activity_level\": 10, \"userid\": 1563}, {\"dt\": \"2021-10-28\", \"activity_level\": 11, \"userid\": 1584}, {\"dt\": \"2021-10-28\", \"activity_level\": 12, \"userid\": 1518}, {\"dt\": \"2021-10-28\", \"activity_level\": 13, \"userid\": 1597}, {\"dt\": \"2021-10-28\", \"activity_level\": 14, \"userid\": 1540}, {\"dt\": \"2021-10-28\", \"activity_level\": 15, \"userid\": 1582}, {\"dt\": \"2021-10-28\", \"activity_level\": 16, \"userid\": 1593}, {\"dt\": \"2021-10-28\", \"activity_level\": 17, \"userid\": 1506}, {\"dt\": \"2021-10-28\", \"activity_level\": 18, \"userid\": 1506}, {\"dt\": \"2021-10-28\", \"activity_level\": 19, \"userid\": 1530}, {\"dt\": \"2021-10-28\", \"activity_level\": 20, \"userid\": 800}, {\"dt\": \"2021-10-29\", \"activity_level\": 1, \"userid\": 1547}, {\"dt\": \"2021-10-29\", \"activity_level\": 2, \"userid\": 1532}, {\"dt\": \"2021-10-29\", \"activity_level\": 3, \"userid\": 1545}, {\"dt\": \"2021-10-29\", \"activity_level\": 4, \"userid\": 1632}, {\"dt\": \"2021-10-29\", \"activity_level\": 5, \"userid\": 1552}, {\"dt\": \"2021-10-29\", \"activity_level\": 6, \"userid\": 1656}, {\"dt\": \"2021-10-29\", \"activity_level\": 7, \"userid\": 1531}, {\"dt\": \"2021-10-29\", \"activity_level\": 8, \"userid\": 1534}, {\"dt\": \"2021-10-29\", \"activity_level\": 9, \"userid\": 1599}, {\"dt\": \"2021-10-29\", \"activity_level\": 10, \"userid\": 1612}, {\"dt\": \"2021-10-29\", \"activity_level\": 11, \"userid\": 1610}, {\"dt\": \"2021-10-29\", \"activity_level\": 12, \"userid\": 1655}, {\"dt\": \"2021-10-29\", \"activity_level\": 13, \"userid\": 1542}, {\"dt\": \"2021-10-29\", \"activity_level\": 14, \"userid\": 1481}, {\"dt\": \"2021-10-29\", \"activity_level\": 15, \"userid\": 1623}, {\"dt\": \"2021-10-29\", \"activity_level\": 16, \"userid\": 1563}, {\"dt\": \"2021-10-29\", \"activity_level\": 17, \"userid\": 1525}, {\"dt\": \"2021-10-29\", \"activity_level\": 18, \"userid\": 1572}, {\"dt\": \"2021-10-29\", \"activity_level\": 19, \"userid\": 1628}, {\"dt\": \"2021-10-29\", \"activity_level\": 20, \"userid\": 784}, {\"dt\": \"2021-10-30\", \"activity_level\": 1, \"userid\": 1588}, {\"dt\": \"2021-10-30\", \"activity_level\": 2, \"userid\": 1562}, {\"dt\": \"2021-10-30\", \"activity_level\": 3, \"userid\": 1560}, {\"dt\": \"2021-10-30\", \"activity_level\": 4, \"userid\": 1585}, {\"dt\": \"2021-10-30\", \"activity_level\": 5, \"userid\": 1592}, {\"dt\": \"2021-10-30\", \"activity_level\": 6, \"userid\": 1558}, {\"dt\": \"2021-10-30\", \"activity_level\": 7, \"userid\": 1581}, {\"dt\": \"2021-10-30\", \"activity_level\": 8, \"userid\": 1550}, {\"dt\": \"2021-10-30\", \"activity_level\": 9, \"userid\": 1568}, {\"dt\": \"2021-10-30\", \"activity_level\": 10, \"userid\": 1616}, {\"dt\": \"2021-10-30\", \"activity_level\": 11, \"userid\": 1570}, {\"dt\": \"2021-10-30\", \"activity_level\": 12, \"userid\": 1570}, {\"dt\": \"2021-10-30\", \"activity_level\": 13, \"userid\": 1595}, {\"dt\": \"2021-10-30\", \"activity_level\": 14, \"userid\": 1531}, {\"dt\": \"2021-10-30\", \"activity_level\": 15, \"userid\": 1600}, {\"dt\": \"2021-10-30\", \"activity_level\": 16, \"userid\": 1565}, {\"dt\": \"2021-10-30\", \"activity_level\": 17, \"userid\": 1501}, {\"dt\": \"2021-10-30\", \"activity_level\": 18, \"userid\": 1555}, {\"dt\": \"2021-10-30\", \"activity_level\": 19, \"userid\": 1601}, {\"dt\": \"2021-10-30\", \"activity_level\": 20, \"userid\": 780}, {\"dt\": \"2021-10-31\", \"activity_level\": 1, \"userid\": 1566}, {\"dt\": \"2021-10-31\", \"activity_level\": 2, \"userid\": 1585}, {\"dt\": \"2021-10-31\", \"activity_level\": 3, \"userid\": 1521}, {\"dt\": \"2021-10-31\", \"activity_level\": 4, \"userid\": 1538}, {\"dt\": \"2021-10-31\", \"activity_level\": 5, \"userid\": 1612}, {\"dt\": \"2021-10-31\", \"activity_level\": 6, \"userid\": 1595}, {\"dt\": \"2021-10-31\", \"activity_level\": 7, \"userid\": 1481}, {\"dt\": \"2021-10-31\", \"activity_level\": 8, \"userid\": 1508}, {\"dt\": \"2021-10-31\", \"activity_level\": 9, \"userid\": 1600}, {\"dt\": \"2021-10-31\", \"activity_level\": 10, \"userid\": 1646}, {\"dt\": \"2021-10-31\", \"activity_level\": 11, \"userid\": 1456}, {\"dt\": \"2021-10-31\", \"activity_level\": 12, \"userid\": 1653}, {\"dt\": \"2021-10-31\", \"activity_level\": 13, \"userid\": 1602}, {\"dt\": \"2021-10-31\", \"activity_level\": 14, \"userid\": 1630}, {\"dt\": \"2021-10-31\", \"activity_level\": 15, \"userid\": 1563}, {\"dt\": \"2021-10-31\", \"activity_level\": 16, \"userid\": 1499}, {\"dt\": \"2021-10-31\", \"activity_level\": 17, \"userid\": 1534}, {\"dt\": \"2021-10-31\", \"activity_level\": 18, \"userid\": 1531}, {\"dt\": \"2021-10-31\", \"activity_level\": 19, \"userid\": 1616}, {\"dt\": \"2021-10-31\", \"activity_level\": 20, \"userid\": 783}]}}, {\"mode\": \"vega-lite\"});\n",
       "</script>"
      ],
      "text/plain": [
       "alt.Chart(...)"
      ]
     },
     "execution_count": 10,
     "metadata": {},
     "output_type": "execute_result"
    }
   ],
   "source": [
    "alt.Chart(activity).mark_line(size=1).encode(\n",
    "    alt.X('dt:T', axis=alt.Axis(title = 'date')),\n",
    "    alt.Y('userid:Q', axis=alt.Axis(title = 'number of users')),\n",
    "    tooltip=['activity_level'], \n",
    "    color='activity_level:N'\n",
    ").properties(\n",
    "    width=600,\n",
    "    height=400\n",
    ")"
   ]
  },
  {
   "cell_type": "markdown",
   "id": "2e32cd1e-6d90-4502-bfc8-8f42e61d8d3b",
   "metadata": {},
   "source": [
    "### Calculating Daily Active Users"
   ]
  },
  {
   "cell_type": "markdown",
   "id": "7d24107e-3e09-4749-aac5-4849ed59a6d0",
   "metadata": {},
   "source": [
    "In this dataset, a userid will count towards DAU if their activity_level for that day is not zero."
   ]
  },
  {
   "cell_type": "code",
   "execution_count": 11,
   "id": "9bece4d0-b701-4d42-8e01-ac202129b1f8",
   "metadata": {},
   "outputs": [],
   "source": [
    "activity = data.query('activity_level > 0').groupby(['dt']).count().reset_index()"
   ]
  },
  {
   "cell_type": "code",
   "execution_count": 12,
   "id": "8320901a-8a8f-476c-9cb6-635489ae814b",
   "metadata": {},
   "outputs": [
    {
     "data": {
      "text/html": [
       "<div>\n",
       "<style scoped>\n",
       "    .dataframe tbody tr th:only-of-type {\n",
       "        vertical-align: middle;\n",
       "    }\n",
       "\n",
       "    .dataframe tbody tr th {\n",
       "        vertical-align: top;\n",
       "    }\n",
       "\n",
       "    .dataframe thead th {\n",
       "        text-align: right;\n",
       "    }\n",
       "</style>\n",
       "<table border=\"1\" class=\"dataframe\">\n",
       "  <thead>\n",
       "    <tr style=\"text-align: right;\">\n",
       "      <th></th>\n",
       "      <th>userid</th>\n",
       "      <th>activity_level</th>\n",
       "    </tr>\n",
       "  </thead>\n",
       "  <tbody>\n",
       "    <tr>\n",
       "      <th>count</th>\n",
       "      <td>31.000000</td>\n",
       "      <td>31.000000</td>\n",
       "    </tr>\n",
       "    <tr>\n",
       "      <th>mean</th>\n",
       "      <td>30673.387097</td>\n",
       "      <td>30673.387097</td>\n",
       "    </tr>\n",
       "    <tr>\n",
       "      <th>std</th>\n",
       "      <td>90.968375</td>\n",
       "      <td>90.968375</td>\n",
       "    </tr>\n",
       "    <tr>\n",
       "      <th>min</th>\n",
       "      <td>30489.000000</td>\n",
       "      <td>30489.000000</td>\n",
       "    </tr>\n",
       "    <tr>\n",
       "      <th>25%</th>\n",
       "      <td>30608.000000</td>\n",
       "      <td>30608.000000</td>\n",
       "    </tr>\n",
       "    <tr>\n",
       "      <th>50%</th>\n",
       "      <td>30661.000000</td>\n",
       "      <td>30661.000000</td>\n",
       "    </tr>\n",
       "    <tr>\n",
       "      <th>75%</th>\n",
       "      <td>30728.500000</td>\n",
       "      <td>30728.500000</td>\n",
       "    </tr>\n",
       "    <tr>\n",
       "      <th>max</th>\n",
       "      <td>30902.000000</td>\n",
       "      <td>30902.000000</td>\n",
       "    </tr>\n",
       "  </tbody>\n",
       "</table>\n",
       "</div>"
      ],
      "text/plain": [
       "             userid  activity_level\n",
       "count     31.000000       31.000000\n",
       "mean   30673.387097    30673.387097\n",
       "std       90.968375       90.968375\n",
       "min    30489.000000    30489.000000\n",
       "25%    30608.000000    30608.000000\n",
       "50%    30661.000000    30661.000000\n",
       "75%    30728.500000    30728.500000\n",
       "max    30902.000000    30902.000000"
      ]
     },
     "execution_count": 12,
     "metadata": {},
     "output_type": "execute_result"
    }
   ],
   "source": [
    "activity.describe()"
   ]
  },
  {
   "cell_type": "code",
   "execution_count": 13,
   "id": "c798ccff-5896-46e3-9e26-b2214d502af9",
   "metadata": {},
   "outputs": [
    {
     "data": {
      "text/html": [
       "\n",
       "<div id=\"altair-viz-a5df9d8c8d1e4933a9f0439accc635ae\"></div>\n",
       "<script type=\"text/javascript\">\n",
       "  var VEGA_DEBUG = (typeof VEGA_DEBUG == \"undefined\") ? {} : VEGA_DEBUG;\n",
       "  (function(spec, embedOpt){\n",
       "    let outputDiv = document.currentScript.previousElementSibling;\n",
       "    if (outputDiv.id !== \"altair-viz-a5df9d8c8d1e4933a9f0439accc635ae\") {\n",
       "      outputDiv = document.getElementById(\"altair-viz-a5df9d8c8d1e4933a9f0439accc635ae\");\n",
       "    }\n",
       "    const paths = {\n",
       "      \"vega\": \"https://cdn.jsdelivr.net/npm//vega@5?noext\",\n",
       "      \"vega-lib\": \"https://cdn.jsdelivr.net/npm//vega-lib?noext\",\n",
       "      \"vega-lite\": \"https://cdn.jsdelivr.net/npm//vega-lite@4.17.0?noext\",\n",
       "      \"vega-embed\": \"https://cdn.jsdelivr.net/npm//vega-embed@6?noext\",\n",
       "    };\n",
       "\n",
       "    function maybeLoadScript(lib, version) {\n",
       "      var key = `${lib.replace(\"-\", \"\")}_version`;\n",
       "      return (VEGA_DEBUG[key] == version) ?\n",
       "        Promise.resolve(paths[lib]) :\n",
       "        new Promise(function(resolve, reject) {\n",
       "          var s = document.createElement('script');\n",
       "          document.getElementsByTagName(\"head\")[0].appendChild(s);\n",
       "          s.async = true;\n",
       "          s.onload = () => {\n",
       "            VEGA_DEBUG[key] = version;\n",
       "            return resolve(paths[lib]);\n",
       "          };\n",
       "          s.onerror = () => reject(`Error loading script: ${paths[lib]}`);\n",
       "          s.src = paths[lib];\n",
       "        });\n",
       "    }\n",
       "\n",
       "    function showError(err) {\n",
       "      outputDiv.innerHTML = `<div class=\"error\" style=\"color:red;\">${err}</div>`;\n",
       "      throw err;\n",
       "    }\n",
       "\n",
       "    function displayChart(vegaEmbed) {\n",
       "      vegaEmbed(outputDiv, spec, embedOpt)\n",
       "        .catch(err => showError(`Javascript Error: ${err.message}<br>This usually means there's a typo in your chart specification. See the javascript console for the full traceback.`));\n",
       "    }\n",
       "\n",
       "    if(typeof define === \"function\" && define.amd) {\n",
       "      requirejs.config({paths});\n",
       "      require([\"vega-embed\"], displayChart, err => showError(`Error loading script: ${err.message}`));\n",
       "    } else {\n",
       "      maybeLoadScript(\"vega\", \"5\")\n",
       "        .then(() => maybeLoadScript(\"vega-lite\", \"4.17.0\"))\n",
       "        .then(() => maybeLoadScript(\"vega-embed\", \"6\"))\n",
       "        .catch(showError)\n",
       "        .then(() => displayChart(vegaEmbed));\n",
       "    }\n",
       "  })({\"config\": {\"view\": {\"continuousWidth\": 400, \"continuousHeight\": 300}}, \"data\": {\"name\": \"data-72fa7eaea915d722c2b264439d74a8e3\"}, \"mark\": {\"type\": \"line\", \"size\": 4}, \"encoding\": {\"x\": {\"axis\": {\"title\": \"date\"}, \"field\": \"dt\", \"type\": \"temporal\"}, \"y\": {\"axis\": {\"title\": \"number of users\"}, \"field\": \"userid\", \"type\": \"quantitative\"}}, \"height\": 400, \"title\": \"Daily Active Users\", \"width\": 600, \"$schema\": \"https://vega.github.io/schema/vega-lite/v4.17.0.json\", \"datasets\": {\"data-72fa7eaea915d722c2b264439d74a8e3\": [{\"dt\": \"2021-10-01\", \"userid\": 30634, \"activity_level\": 30634}, {\"dt\": \"2021-10-02\", \"userid\": 30775, \"activity_level\": 30775}, {\"dt\": \"2021-10-03\", \"userid\": 30785, \"activity_level\": 30785}, {\"dt\": \"2021-10-04\", \"userid\": 30599, \"activity_level\": 30599}, {\"dt\": \"2021-10-05\", \"userid\": 30588, \"activity_level\": 30588}, {\"dt\": \"2021-10-06\", \"userid\": 30639, \"activity_level\": 30639}, {\"dt\": \"2021-10-07\", \"userid\": 30637, \"activity_level\": 30637}, {\"dt\": \"2021-10-08\", \"userid\": 30600, \"activity_level\": 30600}, {\"dt\": \"2021-10-09\", \"userid\": 30902, \"activity_level\": 30902}, {\"dt\": \"2021-10-10\", \"userid\": 30581, \"activity_level\": 30581}, {\"dt\": \"2021-10-11\", \"userid\": 30489, \"activity_level\": 30489}, {\"dt\": \"2021-10-12\", \"userid\": 30715, \"activity_level\": 30715}, {\"dt\": \"2021-10-13\", \"userid\": 30761, \"activity_level\": 30761}, {\"dt\": \"2021-10-14\", \"userid\": 30716, \"activity_level\": 30716}, {\"dt\": \"2021-10-15\", \"userid\": 30637, \"activity_level\": 30637}, {\"dt\": \"2021-10-16\", \"userid\": 30708, \"activity_level\": 30708}, {\"dt\": \"2021-10-17\", \"userid\": 30741, \"activity_level\": 30741}, {\"dt\": \"2021-10-18\", \"userid\": 30694, \"activity_level\": 30694}, {\"dt\": \"2021-10-19\", \"userid\": 30587, \"activity_level\": 30587}, {\"dt\": \"2021-10-20\", \"userid\": 30795, \"activity_level\": 30795}, {\"dt\": \"2021-10-21\", \"userid\": 30705, \"activity_level\": 30705}, {\"dt\": \"2021-10-22\", \"userid\": 30573, \"activity_level\": 30573}, {\"dt\": \"2021-10-23\", \"userid\": 30645, \"activity_level\": 30645}, {\"dt\": \"2021-10-24\", \"userid\": 30815, \"activity_level\": 30815}, {\"dt\": \"2021-10-25\", \"userid\": 30616, \"activity_level\": 30616}, {\"dt\": \"2021-10-26\", \"userid\": 30673, \"activity_level\": 30673}, {\"dt\": \"2021-10-27\", \"userid\": 30661, \"activity_level\": 30661}, {\"dt\": \"2021-10-28\", \"userid\": 30734, \"activity_level\": 30734}, {\"dt\": \"2021-10-29\", \"userid\": 30723, \"activity_level\": 30723}, {\"dt\": \"2021-10-30\", \"userid\": 30628, \"activity_level\": 30628}, {\"dt\": \"2021-10-31\", \"userid\": 30519, \"activity_level\": 30519}]}}, {\"mode\": \"vega-lite\"});\n",
       "</script>"
      ],
      "text/plain": [
       "alt.Chart(...)"
      ]
     },
     "execution_count": 13,
     "metadata": {},
     "output_type": "execute_result"
    }
   ],
   "source": [
    "alt.Chart(activity).mark_line(size=4).encode(\n",
    "    alt.X('dt:T', axis=alt.Axis(title = 'date')),\n",
    "    alt.Y('userid:Q', axis=alt.Axis(title = 'number of users'))\n",
    ").properties(\n",
    "    width=600,\n",
    "    height=400, \n",
    "    title='Daily Active Users'\n",
    ")"
   ]
  },
  {
   "cell_type": "markdown",
   "id": "5c2416de-914a-438c-ae5c-182c1024cabb",
   "metadata": {},
   "source": [
    "### Click-through rate"
   ]
  },
  {
   "cell_type": "code",
   "execution_count": 15,
   "id": "6adfdc08-2d59-45e8-bed6-c0d97fdcfe4d",
   "metadata": {},
   "outputs": [],
   "source": [
    "## Loading the data from a .csv file \n",
    "data = pd.read_csv(\"data/Ctr_pretest.csv\")"
   ]
  },
  {
   "cell_type": "code",
   "execution_count": 16,
   "id": "81c4f8db-9c8b-471f-ad73-2f0390e4159c",
   "metadata": {},
   "outputs": [
    {
     "data": {
      "text/html": [
       "<div>\n",
       "<style scoped>\n",
       "    .dataframe tbody tr th:only-of-type {\n",
       "        vertical-align: middle;\n",
       "    }\n",
       "\n",
       "    .dataframe tbody tr th {\n",
       "        vertical-align: top;\n",
       "    }\n",
       "\n",
       "    .dataframe thead th {\n",
       "        text-align: right;\n",
       "    }\n",
       "</style>\n",
       "<table border=\"1\" class=\"dataframe\">\n",
       "  <thead>\n",
       "    <tr style=\"text-align: right;\">\n",
       "      <th></th>\n",
       "      <th>userid</th>\n",
       "      <th>dt</th>\n",
       "      <th>ctr</th>\n",
       "    </tr>\n",
       "  </thead>\n",
       "  <tbody>\n",
       "    <tr>\n",
       "      <th>0</th>\n",
       "      <td>4b328144-df4b-47b1-a804-09834942dce0</td>\n",
       "      <td>2021-10-01</td>\n",
       "      <td>34.28</td>\n",
       "    </tr>\n",
       "    <tr>\n",
       "      <th>1</th>\n",
       "      <td>34ace777-5e9d-40b3-a859-4145d0c35c8d</td>\n",
       "      <td>2021-10-01</td>\n",
       "      <td>34.67</td>\n",
       "    </tr>\n",
       "    <tr>\n",
       "      <th>2</th>\n",
       "      <td>8028cccf-19c3-4c0e-b5b2-e707e15d2d83</td>\n",
       "      <td>2021-10-01</td>\n",
       "      <td>34.77</td>\n",
       "    </tr>\n",
       "    <tr>\n",
       "      <th>3</th>\n",
       "      <td>652b3c9c-5e29-4bf0-9373-924687b1567e</td>\n",
       "      <td>2021-10-01</td>\n",
       "      <td>35.42</td>\n",
       "    </tr>\n",
       "    <tr>\n",
       "      <th>4</th>\n",
       "      <td>45b57434-4666-4b57-9798-35489dc1092a</td>\n",
       "      <td>2021-10-01</td>\n",
       "      <td>35.04</td>\n",
       "    </tr>\n",
       "  </tbody>\n",
       "</table>\n",
       "</div>"
      ],
      "text/plain": [
       "                                 userid          dt    ctr\n",
       "0  4b328144-df4b-47b1-a804-09834942dce0  2021-10-01  34.28\n",
       "1  34ace777-5e9d-40b3-a859-4145d0c35c8d  2021-10-01  34.67\n",
       "2  8028cccf-19c3-4c0e-b5b2-e707e15d2d83  2021-10-01  34.77\n",
       "3  652b3c9c-5e29-4bf0-9373-924687b1567e  2021-10-01  35.42\n",
       "4  45b57434-4666-4b57-9798-35489dc1092a  2021-10-01  35.04"
      ]
     },
     "execution_count": 16,
     "metadata": {},
     "output_type": "execute_result"
    }
   ],
   "source": [
    "data.head()"
   ]
  },
  {
   "cell_type": "code",
   "execution_count": 17,
   "id": "f13a8e87-f8db-4662-b87a-4d0ca1faaf64",
   "metadata": {},
   "outputs": [
    {
     "data": {
      "text/html": [
       "<div>\n",
       "<style scoped>\n",
       "    .dataframe tbody tr th:only-of-type {\n",
       "        vertical-align: middle;\n",
       "    }\n",
       "\n",
       "    .dataframe tbody tr th {\n",
       "        vertical-align: top;\n",
       "    }\n",
       "\n",
       "    .dataframe thead th {\n",
       "        text-align: right;\n",
       "    }\n",
       "</style>\n",
       "<table border=\"1\" class=\"dataframe\">\n",
       "  <thead>\n",
       "    <tr style=\"text-align: right;\">\n",
       "      <th></th>\n",
       "      <th>ctr</th>\n",
       "    </tr>\n",
       "  </thead>\n",
       "  <tbody>\n",
       "    <tr>\n",
       "      <th>count</th>\n",
       "      <td>950875.000000</td>\n",
       "    </tr>\n",
       "    <tr>\n",
       "      <th>mean</th>\n",
       "      <td>33.000242</td>\n",
       "    </tr>\n",
       "    <tr>\n",
       "      <th>std</th>\n",
       "      <td>1.731677</td>\n",
       "    </tr>\n",
       "    <tr>\n",
       "      <th>min</th>\n",
       "      <td>30.000000</td>\n",
       "    </tr>\n",
       "    <tr>\n",
       "      <th>25%</th>\n",
       "      <td>31.500000</td>\n",
       "    </tr>\n",
       "    <tr>\n",
       "      <th>50%</th>\n",
       "      <td>33.000000</td>\n",
       "    </tr>\n",
       "    <tr>\n",
       "      <th>75%</th>\n",
       "      <td>34.500000</td>\n",
       "    </tr>\n",
       "    <tr>\n",
       "      <th>max</th>\n",
       "      <td>36.000000</td>\n",
       "    </tr>\n",
       "  </tbody>\n",
       "</table>\n",
       "</div>"
      ],
      "text/plain": [
       "                 ctr\n",
       "count  950875.000000\n",
       "mean       33.000242\n",
       "std         1.731677\n",
       "min        30.000000\n",
       "25%        31.500000\n",
       "50%        33.000000\n",
       "75%        34.500000\n",
       "max        36.000000"
      ]
     },
     "execution_count": 17,
     "metadata": {},
     "output_type": "execute_result"
    }
   ],
   "source": [
    "data.describe()"
   ]
  },
  {
   "cell_type": "code",
   "execution_count": 18,
   "id": "6da9a75a-da2a-497f-8a6b-c1b782099f8d",
   "metadata": {},
   "outputs": [],
   "source": [
    "ctr = data.groupby(['dt']).mean().reset_index()"
   ]
  },
  {
   "cell_type": "code",
   "execution_count": 19,
   "id": "7c78d3d0-241e-4d3a-9522-67b4c565910b",
   "metadata": {},
   "outputs": [
    {
     "data": {
      "text/html": [
       "\n",
       "<div id=\"altair-viz-7a246fc4c3ab4f1aa3d914d29e58f2f0\"></div>\n",
       "<script type=\"text/javascript\">\n",
       "  var VEGA_DEBUG = (typeof VEGA_DEBUG == \"undefined\") ? {} : VEGA_DEBUG;\n",
       "  (function(spec, embedOpt){\n",
       "    let outputDiv = document.currentScript.previousElementSibling;\n",
       "    if (outputDiv.id !== \"altair-viz-7a246fc4c3ab4f1aa3d914d29e58f2f0\") {\n",
       "      outputDiv = document.getElementById(\"altair-viz-7a246fc4c3ab4f1aa3d914d29e58f2f0\");\n",
       "    }\n",
       "    const paths = {\n",
       "      \"vega\": \"https://cdn.jsdelivr.net/npm//vega@5?noext\",\n",
       "      \"vega-lib\": \"https://cdn.jsdelivr.net/npm//vega-lib?noext\",\n",
       "      \"vega-lite\": \"https://cdn.jsdelivr.net/npm//vega-lite@4.17.0?noext\",\n",
       "      \"vega-embed\": \"https://cdn.jsdelivr.net/npm//vega-embed@6?noext\",\n",
       "    };\n",
       "\n",
       "    function maybeLoadScript(lib, version) {\n",
       "      var key = `${lib.replace(\"-\", \"\")}_version`;\n",
       "      return (VEGA_DEBUG[key] == version) ?\n",
       "        Promise.resolve(paths[lib]) :\n",
       "        new Promise(function(resolve, reject) {\n",
       "          var s = document.createElement('script');\n",
       "          document.getElementsByTagName(\"head\")[0].appendChild(s);\n",
       "          s.async = true;\n",
       "          s.onload = () => {\n",
       "            VEGA_DEBUG[key] = version;\n",
       "            return resolve(paths[lib]);\n",
       "          };\n",
       "          s.onerror = () => reject(`Error loading script: ${paths[lib]}`);\n",
       "          s.src = paths[lib];\n",
       "        });\n",
       "    }\n",
       "\n",
       "    function showError(err) {\n",
       "      outputDiv.innerHTML = `<div class=\"error\" style=\"color:red;\">${err}</div>`;\n",
       "      throw err;\n",
       "    }\n",
       "\n",
       "    function displayChart(vegaEmbed) {\n",
       "      vegaEmbed(outputDiv, spec, embedOpt)\n",
       "        .catch(err => showError(`Javascript Error: ${err.message}<br>This usually means there's a typo in your chart specification. See the javascript console for the full traceback.`));\n",
       "    }\n",
       "\n",
       "    if(typeof define === \"function\" && define.amd) {\n",
       "      requirejs.config({paths});\n",
       "      require([\"vega-embed\"], displayChart, err => showError(`Error loading script: ${err.message}`));\n",
       "    } else {\n",
       "      maybeLoadScript(\"vega\", \"5\")\n",
       "        .then(() => maybeLoadScript(\"vega-lite\", \"4.17.0\"))\n",
       "        .then(() => maybeLoadScript(\"vega-embed\", \"6\"))\n",
       "        .catch(showError)\n",
       "        .then(() => displayChart(vegaEmbed));\n",
       "    }\n",
       "  })({\"config\": {\"view\": {\"continuousWidth\": 400, \"continuousHeight\": 300}}, \"data\": {\"name\": \"data-886638ba3ed92dbfa264bb2e94c704fd\"}, \"mark\": {\"type\": \"line\", \"size\": 4}, \"encoding\": {\"tooltip\": [{\"field\": \"ctr\", \"type\": \"quantitative\"}], \"x\": {\"axis\": {\"title\": \"date\"}, \"field\": \"dt\", \"type\": \"temporal\"}, \"y\": {\"axis\": {\"title\": \"ctr\"}, \"field\": \"ctr\", \"scale\": {\"domain\": [32, 34]}, \"type\": \"quantitative\"}}, \"height\": 400, \"title\": \"Average Daily CTR\", \"width\": 600, \"$schema\": \"https://vega.github.io/schema/vega-lite/v4.17.0.json\", \"datasets\": {\"data-886638ba3ed92dbfa264bb2e94c704fd\": [{\"dt\": \"2021-10-01\", \"ctr\": 32.993445844486715}, {\"dt\": \"2021-10-02\", \"ctr\": 32.99166433793678}, {\"dt\": \"2021-10-03\", \"ctr\": 32.995086243300484}, {\"dt\": \"2021-10-04\", \"ctr\": 32.99299454230517}, {\"dt\": \"2021-10-05\", \"ctr\": 33.00437524519416}, {\"dt\": \"2021-10-06\", \"ctr\": 33.01856392179917}, {\"dt\": \"2021-10-07\", \"ctr\": 32.988499853118924}, {\"dt\": \"2021-10-08\", \"ctr\": 32.99865359477126}, {\"dt\": \"2021-10-09\", \"ctr\": 33.00508154811989}, {\"dt\": \"2021-10-10\", \"ctr\": 33.00713449527481}, {\"dt\": \"2021-10-11\", \"ctr\": 32.99030043622284}, {\"dt\": \"2021-10-12\", \"ctr\": 32.99616636822403}, {\"dt\": \"2021-10-13\", \"ctr\": 32.98424823640339}, {\"dt\": \"2021-10-14\", \"ctr\": 32.99987791379081}, {\"dt\": \"2021-10-15\", \"ctr\": 33.00851747886555}, {\"dt\": \"2021-10-16\", \"ctr\": 32.991025465676564}, {\"dt\": \"2021-10-17\", \"ctr\": 33.001918610324665}, {\"dt\": \"2021-10-18\", \"ctr\": 33.00776340652891}, {\"dt\": \"2021-10-19\", \"ctr\": 33.00151077255028}, {\"dt\": \"2021-10-20\", \"ctr\": 33.00463224549443}, {\"dt\": \"2021-10-21\", \"ctr\": 32.99756586875101}, {\"dt\": \"2021-10-22\", \"ctr\": 33.0067850717955}, {\"dt\": \"2021-10-23\", \"ctr\": 33.01222809593727}, {\"dt\": \"2021-10-24\", \"ctr\": 32.98409313645946}, {\"dt\": \"2021-10-25\", \"ctr\": 32.99022275934137}, {\"dt\": \"2021-10-26\", \"ctr\": 33.01424803573167}, {\"dt\": \"2021-10-27\", \"ctr\": 33.007045106160916}, {\"dt\": \"2021-10-28\", \"ctr\": 33.00571061365278}, {\"dt\": \"2021-10-29\", \"ctr\": 33.004230055658674}, {\"dt\": \"2021-10-30\", \"ctr\": 33.016430063993674}, {\"dt\": \"2021-10-31\", \"ctr\": 32.98751499066171}]}}, {\"mode\": \"vega-lite\"});\n",
       "</script>"
      ],
      "text/plain": [
       "alt.Chart(...)"
      ]
     },
     "execution_count": 19,
     "metadata": {},
     "output_type": "execute_result"
    }
   ],
   "source": [
    "alt.Chart(ctr).mark_line(size=4).encode(\n",
    "    alt.X('dt:T', axis=alt.Axis(title = 'date')),\n",
    "    alt.Y('ctr:Q', axis=alt.Axis(title = 'ctr'), scale=alt.Scale(domain=[32, 34])),\n",
    "    tooltip=['ctr'], \n",
    ").properties(\n",
    "    width=600,\n",
    "    height=400, \n",
    "    title='Average Daily CTR'\n",
    ")"
   ]
  },
  {
   "cell_type": "markdown",
   "id": "technical-quick",
   "metadata": {},
   "source": [
    "# Calculating the sample size of an AB test"
   ]
  },
  {
   "cell_type": "markdown",
   "id": "prescription-impact",
   "metadata": {},
   "source": [
    "## Example of Significance Power Calculator"
   ]
  },
  {
   "cell_type": "code",
   "execution_count": 21,
   "id": "signed-alarm",
   "metadata": {},
   "outputs": [],
   "source": [
    "def binomial_sample_size(metric, mde, alpha, beta):\n",
    "    # standard normal distribution to determine z-values\n",
    "    snd = stats.norm(0, 1)\n",
    "\n",
    "    Z_beta = snd.ppf(1-beta)\n",
    "    print(Z_beta)\n",
    "\n",
    "    Z_alpha = snd.ppf(1-alpha/2)\n",
    "    print(Z_alpha)\n",
    "\n",
    "    # average of probabilities from both groups\n",
    "    p = (metric + metric+mde) / 2\n",
    "    print(p)\n",
    "\n",
    "    N = (2 * p * \n",
    "             (1 - p) * \n",
    "             (0.84 + 1.96)**2\n",
    "             / mde**2)\n",
    "\n",
    "    return N"
   ]
  },
  {
   "cell_type": "code",
   "execution_count": 22,
   "id": "domestic-commercial",
   "metadata": {},
   "outputs": [
    {
     "name": "stdout",
     "output_type": "stream",
     "text": [
      "0.8416212335729143\n",
      "1.959963984540054\n",
      "0.34\n"
     ]
    },
    {
     "data": {
      "text/plain": [
       "8796.479999999998"
      ]
     },
     "execution_count": 22,
     "metadata": {},
     "output_type": "execute_result"
    }
   ],
   "source": [
    "binomial_sample_size(metric=0.33, mde=0.02, alpha=0.05, beta=0.2)"
   ]
  },
  {
   "cell_type": "code",
   "execution_count": 23,
   "id": "structural-actor",
   "metadata": {},
   "outputs": [],
   "source": [
    "def continuos_sample_size(metric, mde, sd, alpha, beta):\n",
    "    # standard normal distribution to determine z-values\n",
    "    snd = stats.norm(0, 1)\n",
    "\n",
    "    Z_beta = snd.ppf(1-beta)\n",
    "    print(Z_beta)\n",
    "\n",
    "    Z_alpha = snd.ppf(1-alpha/2)\n",
    "    print(Z_alpha)\n",
    "\n",
    "    N = (2 * sd**2 * \n",
    "             (Z_beta + Z_alpha)**2\n",
    "             / mde**2)\n",
    "\n",
    "    return N"
   ]
  },
  {
   "cell_type": "code",
   "execution_count": 25,
   "id": "tender-insured",
   "metadata": {},
   "outputs": [
    {
     "name": "stdout",
     "output_type": "stream",
     "text": [
      "0.8416212335729143\n",
      "1.959963984540054\n"
     ]
    },
    {
     "data": {
      "text/plain": [
       "1.4443682906698845"
      ]
     },
     "execution_count": 25,
     "metadata": {},
     "output_type": "execute_result"
    }
   ],
   "source": [
    "continuos_sample_size(metric=30673, mde=300, sd=91, alpha=0.05, beta=0.2)"
   ]
  },
  {
   "cell_type": "markdown",
   "id": "hungry-tribune",
   "metadata": {},
   "source": [
    "# AB test analysis process"
   ]
  },
  {
   "cell_type": "markdown",
   "id": "approved-addiction",
   "metadata": {},
   "source": [
    "## Assignments"
   ]
  },
  {
   "cell_type": "code",
   "execution_count": 27,
   "id": "minor-commission",
   "metadata": {},
   "outputs": [],
   "source": [
    "data = pd.read_csv(\"data/Assignments.csv\")"
   ]
  },
  {
   "cell_type": "code",
   "execution_count": 28,
   "id": "annual-company",
   "metadata": {},
   "outputs": [
    {
     "data": {
      "text/html": [
       "<div>\n",
       "<style scoped>\n",
       "    .dataframe tbody tr th:only-of-type {\n",
       "        vertical-align: middle;\n",
       "    }\n",
       "\n",
       "    .dataframe tbody tr th {\n",
       "        vertical-align: top;\n",
       "    }\n",
       "\n",
       "    .dataframe thead th {\n",
       "        text-align: right;\n",
       "    }\n",
       "</style>\n",
       "<table border=\"1\" class=\"dataframe\">\n",
       "  <thead>\n",
       "    <tr style=\"text-align: right;\">\n",
       "      <th></th>\n",
       "      <th>userid</th>\n",
       "      <th>ts</th>\n",
       "      <th>groupid</th>\n",
       "    </tr>\n",
       "  </thead>\n",
       "  <tbody>\n",
       "    <tr>\n",
       "      <th>0</th>\n",
       "      <td>c5d77c89-33a3-4fe3-9e31-179dec09d49c</td>\n",
       "      <td>2021-11-02T07:31:42Z</td>\n",
       "      <td>0</td>\n",
       "    </tr>\n",
       "    <tr>\n",
       "      <th>1</th>\n",
       "      <td>9061d751-7a94-44d3-8792-5ca5ec59aa89</td>\n",
       "      <td>2021-11-13T07:43:51Z</td>\n",
       "      <td>0</td>\n",
       "    </tr>\n",
       "    <tr>\n",
       "      <th>2</th>\n",
       "      <td>a5b70ae7-f07c-4773-9df4-ce112bc9dc48</td>\n",
       "      <td>2021-11-20T19:26:07Z</td>\n",
       "      <td>0</td>\n",
       "    </tr>\n",
       "    <tr>\n",
       "      <th>3</th>\n",
       "      <td>d2646662-269f-49de-aab1-8776afced9a3</td>\n",
       "      <td>2021-11-20T11:09:02Z</td>\n",
       "      <td>0</td>\n",
       "    </tr>\n",
       "    <tr>\n",
       "      <th>4</th>\n",
       "      <td>2d9b23b7-4e5e-4162-9f0f-49e593fdd2b5</td>\n",
       "      <td>2021-11-04T07:42:07Z</td>\n",
       "      <td>0</td>\n",
       "    </tr>\n",
       "  </tbody>\n",
       "</table>\n",
       "</div>"
      ],
      "text/plain": [
       "                                 userid                    ts  groupid\n",
       "0  c5d77c89-33a3-4fe3-9e31-179dec09d49c  2021-11-02T07:31:42Z        0\n",
       "1  9061d751-7a94-44d3-8792-5ca5ec59aa89  2021-11-13T07:43:51Z        0\n",
       "2  a5b70ae7-f07c-4773-9df4-ce112bc9dc48  2021-11-20T19:26:07Z        0\n",
       "3  d2646662-269f-49de-aab1-8776afced9a3  2021-11-20T11:09:02Z        0\n",
       "4  2d9b23b7-4e5e-4162-9f0f-49e593fdd2b5  2021-11-04T07:42:07Z        0"
      ]
     },
     "execution_count": 28,
     "metadata": {},
     "output_type": "execute_result"
    }
   ],
   "source": [
    "data.head()"
   ]
  },
  {
   "cell_type": "code",
   "execution_count": 29,
   "id": "confident-worthy",
   "metadata": {},
   "outputs": [
    {
     "name": "stdout",
     "output_type": "stream",
     "text": [
      "2021-11-02\n"
     ]
    }
   ],
   "source": [
    " print(datetime.strptime(data.head(1)['ts'][0], '%Y-%m-%dT%H:%M:%SZ').strftime(\"%Y-%m-%d\"))"
   ]
  },
  {
   "cell_type": "code",
   "execution_count": 30,
   "id": "known-lighting",
   "metadata": {},
   "outputs": [],
   "source": [
    "data['dt'] = data['ts'].map(lambda x: datetime.strptime(x, '%Y-%m-%dT%H:%M:%SZ').strftime(\"%Y-%m-%d\"))"
   ]
  },
  {
   "cell_type": "code",
   "execution_count": 31,
   "id": "weighted-rainbow",
   "metadata": {},
   "outputs": [
    {
     "data": {
      "text/html": [
       "<div>\n",
       "<style scoped>\n",
       "    .dataframe tbody tr th:only-of-type {\n",
       "        vertical-align: middle;\n",
       "    }\n",
       "\n",
       "    .dataframe tbody tr th {\n",
       "        vertical-align: top;\n",
       "    }\n",
       "\n",
       "    .dataframe thead th {\n",
       "        text-align: right;\n",
       "    }\n",
       "</style>\n",
       "<table border=\"1\" class=\"dataframe\">\n",
       "  <thead>\n",
       "    <tr style=\"text-align: right;\">\n",
       "      <th></th>\n",
       "      <th>userid</th>\n",
       "      <th>ts</th>\n",
       "      <th>groupid</th>\n",
       "      <th>dt</th>\n",
       "    </tr>\n",
       "  </thead>\n",
       "  <tbody>\n",
       "    <tr>\n",
       "      <th>0</th>\n",
       "      <td>c5d77c89-33a3-4fe3-9e31-179dec09d49c</td>\n",
       "      <td>2021-11-02T07:31:42Z</td>\n",
       "      <td>0</td>\n",
       "      <td>2021-11-02</td>\n",
       "    </tr>\n",
       "    <tr>\n",
       "      <th>1</th>\n",
       "      <td>9061d751-7a94-44d3-8792-5ca5ec59aa89</td>\n",
       "      <td>2021-11-13T07:43:51Z</td>\n",
       "      <td>0</td>\n",
       "      <td>2021-11-13</td>\n",
       "    </tr>\n",
       "    <tr>\n",
       "      <th>2</th>\n",
       "      <td>a5b70ae7-f07c-4773-9df4-ce112bc9dc48</td>\n",
       "      <td>2021-11-20T19:26:07Z</td>\n",
       "      <td>0</td>\n",
       "      <td>2021-11-20</td>\n",
       "    </tr>\n",
       "    <tr>\n",
       "      <th>3</th>\n",
       "      <td>d2646662-269f-49de-aab1-8776afced9a3</td>\n",
       "      <td>2021-11-20T11:09:02Z</td>\n",
       "      <td>0</td>\n",
       "      <td>2021-11-20</td>\n",
       "    </tr>\n",
       "    <tr>\n",
       "      <th>4</th>\n",
       "      <td>2d9b23b7-4e5e-4162-9f0f-49e593fdd2b5</td>\n",
       "      <td>2021-11-04T07:42:07Z</td>\n",
       "      <td>0</td>\n",
       "      <td>2021-11-04</td>\n",
       "    </tr>\n",
       "  </tbody>\n",
       "</table>\n",
       "</div>"
      ],
      "text/plain": [
       "                                 userid                    ts  groupid  \\\n",
       "0  c5d77c89-33a3-4fe3-9e31-179dec09d49c  2021-11-02T07:31:42Z        0   \n",
       "1  9061d751-7a94-44d3-8792-5ca5ec59aa89  2021-11-13T07:43:51Z        0   \n",
       "2  a5b70ae7-f07c-4773-9df4-ce112bc9dc48  2021-11-20T19:26:07Z        0   \n",
       "3  d2646662-269f-49de-aab1-8776afced9a3  2021-11-20T11:09:02Z        0   \n",
       "4  2d9b23b7-4e5e-4162-9f0f-49e593fdd2b5  2021-11-04T07:42:07Z        0   \n",
       "\n",
       "           dt  \n",
       "0  2021-11-02  \n",
       "1  2021-11-13  \n",
       "2  2021-11-20  \n",
       "3  2021-11-20  \n",
       "4  2021-11-04  "
      ]
     },
     "execution_count": 31,
     "metadata": {},
     "output_type": "execute_result"
    }
   ],
   "source": [
    "data.head()"
   ]
  },
  {
   "cell_type": "code",
   "execution_count": 32,
   "id": "otherwise-uncle",
   "metadata": {},
   "outputs": [
    {
     "data": {
      "text/html": [
       "<div>\n",
       "<style scoped>\n",
       "    .dataframe tbody tr th:only-of-type {\n",
       "        vertical-align: middle;\n",
       "    }\n",
       "\n",
       "    .dataframe tbody tr th {\n",
       "        vertical-align: top;\n",
       "    }\n",
       "\n",
       "    .dataframe thead th {\n",
       "        text-align: right;\n",
       "    }\n",
       "</style>\n",
       "<table border=\"1\" class=\"dataframe\">\n",
       "  <thead>\n",
       "    <tr style=\"text-align: right;\">\n",
       "      <th></th>\n",
       "      <th>groupid</th>\n",
       "    </tr>\n",
       "  </thead>\n",
       "  <tbody>\n",
       "    <tr>\n",
       "      <th>count</th>\n",
       "      <td>60000.000000</td>\n",
       "    </tr>\n",
       "    <tr>\n",
       "      <th>mean</th>\n",
       "      <td>0.500817</td>\n",
       "    </tr>\n",
       "    <tr>\n",
       "      <th>std</th>\n",
       "      <td>0.500003</td>\n",
       "    </tr>\n",
       "    <tr>\n",
       "      <th>min</th>\n",
       "      <td>0.000000</td>\n",
       "    </tr>\n",
       "    <tr>\n",
       "      <th>25%</th>\n",
       "      <td>0.000000</td>\n",
       "    </tr>\n",
       "    <tr>\n",
       "      <th>50%</th>\n",
       "      <td>1.000000</td>\n",
       "    </tr>\n",
       "    <tr>\n",
       "      <th>75%</th>\n",
       "      <td>1.000000</td>\n",
       "    </tr>\n",
       "    <tr>\n",
       "      <th>max</th>\n",
       "      <td>1.000000</td>\n",
       "    </tr>\n",
       "  </tbody>\n",
       "</table>\n",
       "</div>"
      ],
      "text/plain": [
       "            groupid\n",
       "count  60000.000000\n",
       "mean       0.500817\n",
       "std        0.500003\n",
       "min        0.000000\n",
       "25%        0.000000\n",
       "50%        1.000000\n",
       "75%        1.000000\n",
       "max        1.000000"
      ]
     },
     "execution_count": 32,
     "metadata": {},
     "output_type": "execute_result"
    }
   ],
   "source": [
    "data.describe()"
   ]
  },
  {
   "cell_type": "code",
   "execution_count": 33,
   "id": "periodic-funds",
   "metadata": {},
   "outputs": [
    {
     "data": {
      "text/html": [
       "<div>\n",
       "<style scoped>\n",
       "    .dataframe tbody tr th:only-of-type {\n",
       "        vertical-align: middle;\n",
       "    }\n",
       "\n",
       "    .dataframe tbody tr th {\n",
       "        vertical-align: top;\n",
       "    }\n",
       "\n",
       "    .dataframe thead th {\n",
       "        text-align: right;\n",
       "    }\n",
       "</style>\n",
       "<table border=\"1\" class=\"dataframe\">\n",
       "  <thead>\n",
       "    <tr style=\"text-align: right;\">\n",
       "      <th></th>\n",
       "      <th>userid</th>\n",
       "      <th>ts</th>\n",
       "      <th>dt</th>\n",
       "    </tr>\n",
       "    <tr>\n",
       "      <th>groupid</th>\n",
       "      <th></th>\n",
       "      <th></th>\n",
       "      <th></th>\n",
       "    </tr>\n",
       "  </thead>\n",
       "  <tbody>\n",
       "    <tr>\n",
       "      <th>0</th>\n",
       "      <td>29951</td>\n",
       "      <td>29951</td>\n",
       "      <td>29951</td>\n",
       "    </tr>\n",
       "    <tr>\n",
       "      <th>1</th>\n",
       "      <td>30049</td>\n",
       "      <td>30049</td>\n",
       "      <td>30049</td>\n",
       "    </tr>\n",
       "  </tbody>\n",
       "</table>\n",
       "</div>"
      ],
      "text/plain": [
       "         userid     ts     dt\n",
       "groupid                      \n",
       "0         29951  29951  29951\n",
       "1         30049  30049  30049"
      ]
     },
     "execution_count": 33,
     "metadata": {},
     "output_type": "execute_result"
    }
   ],
   "source": [
    "data.groupby(['groupid']).count()"
   ]
  },
  {
   "cell_type": "code",
   "execution_count": 34,
   "id": "massive-error",
   "metadata": {},
   "outputs": [],
   "source": [
    "data_count = data.groupby(['groupid','dt']).count().reset_index()"
   ]
  },
  {
   "cell_type": "code",
   "execution_count": 35,
   "id": "legitimate-clark",
   "metadata": {},
   "outputs": [
    {
     "data": {
      "text/html": [
       "<div>\n",
       "<style scoped>\n",
       "    .dataframe tbody tr th:only-of-type {\n",
       "        vertical-align: middle;\n",
       "    }\n",
       "\n",
       "    .dataframe tbody tr th {\n",
       "        vertical-align: top;\n",
       "    }\n",
       "\n",
       "    .dataframe thead th {\n",
       "        text-align: right;\n",
       "    }\n",
       "</style>\n",
       "<table border=\"1\" class=\"dataframe\">\n",
       "  <thead>\n",
       "    <tr style=\"text-align: right;\">\n",
       "      <th></th>\n",
       "      <th>groupid</th>\n",
       "      <th>dt</th>\n",
       "      <th>userid</th>\n",
       "      <th>ts</th>\n",
       "    </tr>\n",
       "  </thead>\n",
       "  <tbody>\n",
       "    <tr>\n",
       "      <th>0</th>\n",
       "      <td>0</td>\n",
       "      <td>2021-11-01</td>\n",
       "      <td>1497</td>\n",
       "      <td>1497</td>\n",
       "    </tr>\n",
       "    <tr>\n",
       "      <th>1</th>\n",
       "      <td>0</td>\n",
       "      <td>2021-11-02</td>\n",
       "      <td>1467</td>\n",
       "      <td>1467</td>\n",
       "    </tr>\n",
       "    <tr>\n",
       "      <th>2</th>\n",
       "      <td>0</td>\n",
       "      <td>2021-11-03</td>\n",
       "      <td>1532</td>\n",
       "      <td>1532</td>\n",
       "    </tr>\n",
       "    <tr>\n",
       "      <th>3</th>\n",
       "      <td>0</td>\n",
       "      <td>2021-11-04</td>\n",
       "      <td>1509</td>\n",
       "      <td>1509</td>\n",
       "    </tr>\n",
       "    <tr>\n",
       "      <th>4</th>\n",
       "      <td>0</td>\n",
       "      <td>2021-11-05</td>\n",
       "      <td>1503</td>\n",
       "      <td>1503</td>\n",
       "    </tr>\n",
       "  </tbody>\n",
       "</table>\n",
       "</div>"
      ],
      "text/plain": [
       "   groupid          dt  userid    ts\n",
       "0        0  2021-11-01    1497  1497\n",
       "1        0  2021-11-02    1467  1467\n",
       "2        0  2021-11-03    1532  1532\n",
       "3        0  2021-11-04    1509  1509\n",
       "4        0  2021-11-05    1503  1503"
      ]
     },
     "execution_count": 35,
     "metadata": {},
     "output_type": "execute_result"
    }
   ],
   "source": [
    "data_count.head()"
   ]
  },
  {
   "cell_type": "code",
   "execution_count": 36,
   "id": "durable-prairie",
   "metadata": {},
   "outputs": [
    {
     "data": {
      "text/html": [
       "\n",
       "<div id=\"altair-viz-45bc50012d02494aa06e4301fe3e2890\"></div>\n",
       "<script type=\"text/javascript\">\n",
       "  var VEGA_DEBUG = (typeof VEGA_DEBUG == \"undefined\") ? {} : VEGA_DEBUG;\n",
       "  (function(spec, embedOpt){\n",
       "    let outputDiv = document.currentScript.previousElementSibling;\n",
       "    if (outputDiv.id !== \"altair-viz-45bc50012d02494aa06e4301fe3e2890\") {\n",
       "      outputDiv = document.getElementById(\"altair-viz-45bc50012d02494aa06e4301fe3e2890\");\n",
       "    }\n",
       "    const paths = {\n",
       "      \"vega\": \"https://cdn.jsdelivr.net/npm//vega@5?noext\",\n",
       "      \"vega-lib\": \"https://cdn.jsdelivr.net/npm//vega-lib?noext\",\n",
       "      \"vega-lite\": \"https://cdn.jsdelivr.net/npm//vega-lite@4.17.0?noext\",\n",
       "      \"vega-embed\": \"https://cdn.jsdelivr.net/npm//vega-embed@6?noext\",\n",
       "    };\n",
       "\n",
       "    function maybeLoadScript(lib, version) {\n",
       "      var key = `${lib.replace(\"-\", \"\")}_version`;\n",
       "      return (VEGA_DEBUG[key] == version) ?\n",
       "        Promise.resolve(paths[lib]) :\n",
       "        new Promise(function(resolve, reject) {\n",
       "          var s = document.createElement('script');\n",
       "          document.getElementsByTagName(\"head\")[0].appendChild(s);\n",
       "          s.async = true;\n",
       "          s.onload = () => {\n",
       "            VEGA_DEBUG[key] = version;\n",
       "            return resolve(paths[lib]);\n",
       "          };\n",
       "          s.onerror = () => reject(`Error loading script: ${paths[lib]}`);\n",
       "          s.src = paths[lib];\n",
       "        });\n",
       "    }\n",
       "\n",
       "    function showError(err) {\n",
       "      outputDiv.innerHTML = `<div class=\"error\" style=\"color:red;\">${err}</div>`;\n",
       "      throw err;\n",
       "    }\n",
       "\n",
       "    function displayChart(vegaEmbed) {\n",
       "      vegaEmbed(outputDiv, spec, embedOpt)\n",
       "        .catch(err => showError(`Javascript Error: ${err.message}<br>This usually means there's a typo in your chart specification. See the javascript console for the full traceback.`));\n",
       "    }\n",
       "\n",
       "    if(typeof define === \"function\" && define.amd) {\n",
       "      requirejs.config({paths});\n",
       "      require([\"vega-embed\"], displayChart, err => showError(`Error loading script: ${err.message}`));\n",
       "    } else {\n",
       "      maybeLoadScript(\"vega\", \"5\")\n",
       "        .then(() => maybeLoadScript(\"vega-lite\", \"4.17.0\"))\n",
       "        .then(() => maybeLoadScript(\"vega-embed\", \"6\"))\n",
       "        .catch(showError)\n",
       "        .then(() => displayChart(vegaEmbed));\n",
       "    }\n",
       "  })({\"config\": {\"view\": {\"continuousWidth\": 400, \"continuousHeight\": 300}}, \"data\": {\"name\": \"data-4b258da0b049abdb4a925ee75c389021\"}, \"mark\": {\"type\": \"line\", \"size\": 3}, \"encoding\": {\"color\": {\"field\": \"groupid\", \"type\": \"ordinal\"}, \"tooltip\": [{\"field\": \"userid\", \"type\": \"quantitative\"}], \"x\": {\"field\": \"dt\", \"type\": \"nominal\"}, \"y\": {\"field\": \"userid\", \"type\": \"quantitative\"}}, \"height\": 400, \"width\": 600, \"$schema\": \"https://vega.github.io/schema/vega-lite/v4.17.0.json\", \"datasets\": {\"data-4b258da0b049abdb4a925ee75c389021\": [{\"groupid\": 0, \"dt\": \"2021-11-01\", \"userid\": 1497, \"ts\": 1497}, {\"groupid\": 0, \"dt\": \"2021-11-02\", \"userid\": 1467, \"ts\": 1467}, {\"groupid\": 0, \"dt\": \"2021-11-03\", \"userid\": 1532, \"ts\": 1532}, {\"groupid\": 0, \"dt\": \"2021-11-04\", \"userid\": 1509, \"ts\": 1509}, {\"groupid\": 0, \"dt\": \"2021-11-05\", \"userid\": 1503, \"ts\": 1503}, {\"groupid\": 0, \"dt\": \"2021-11-06\", \"userid\": 1510, \"ts\": 1510}, {\"groupid\": 0, \"dt\": \"2021-11-07\", \"userid\": 1505, \"ts\": 1505}, {\"groupid\": 0, \"dt\": \"2021-11-08\", \"userid\": 1517, \"ts\": 1517}, {\"groupid\": 0, \"dt\": \"2021-11-09\", \"userid\": 1541, \"ts\": 1541}, {\"groupid\": 0, \"dt\": \"2021-11-10\", \"userid\": 1505, \"ts\": 1505}, {\"groupid\": 0, \"dt\": \"2021-11-11\", \"userid\": 1495, \"ts\": 1495}, {\"groupid\": 0, \"dt\": \"2021-11-12\", \"userid\": 1464, \"ts\": 1464}, {\"groupid\": 0, \"dt\": \"2021-11-13\", \"userid\": 1455, \"ts\": 1455}, {\"groupid\": 0, \"dt\": \"2021-11-14\", \"userid\": 1495, \"ts\": 1495}, {\"groupid\": 0, \"dt\": \"2021-11-15\", \"userid\": 1513, \"ts\": 1513}, {\"groupid\": 0, \"dt\": \"2021-11-16\", \"userid\": 1436, \"ts\": 1436}, {\"groupid\": 0, \"dt\": \"2021-11-17\", \"userid\": 1490, \"ts\": 1490}, {\"groupid\": 0, \"dt\": \"2021-11-18\", \"userid\": 1517, \"ts\": 1517}, {\"groupid\": 0, \"dt\": \"2021-11-19\", \"userid\": 1496, \"ts\": 1496}, {\"groupid\": 0, \"dt\": \"2021-11-20\", \"userid\": 1504, \"ts\": 1504}, {\"groupid\": 1, \"dt\": \"2021-11-01\", \"userid\": 1504, \"ts\": 1504}, {\"groupid\": 1, \"dt\": \"2021-11-02\", \"userid\": 1464, \"ts\": 1464}, {\"groupid\": 1, \"dt\": \"2021-11-03\", \"userid\": 1510, \"ts\": 1510}, {\"groupid\": 1, \"dt\": \"2021-11-04\", \"userid\": 1507, \"ts\": 1507}, {\"groupid\": 1, \"dt\": \"2021-11-05\", \"userid\": 1519, \"ts\": 1519}, {\"groupid\": 1, \"dt\": \"2021-11-06\", \"userid\": 1538, \"ts\": 1538}, {\"groupid\": 1, \"dt\": \"2021-11-07\", \"userid\": 1516, \"ts\": 1516}, {\"groupid\": 1, \"dt\": \"2021-11-08\", \"userid\": 1443, \"ts\": 1443}, {\"groupid\": 1, \"dt\": \"2021-11-09\", \"userid\": 1454, \"ts\": 1454}, {\"groupid\": 1, \"dt\": \"2021-11-10\", \"userid\": 1506, \"ts\": 1506}, {\"groupid\": 1, \"dt\": \"2021-11-11\", \"userid\": 1477, \"ts\": 1477}, {\"groupid\": 1, \"dt\": \"2021-11-12\", \"userid\": 1532, \"ts\": 1532}, {\"groupid\": 1, \"dt\": \"2021-11-13\", \"userid\": 1522, \"ts\": 1522}, {\"groupid\": 1, \"dt\": \"2021-11-14\", \"userid\": 1482, \"ts\": 1482}, {\"groupid\": 1, \"dt\": \"2021-11-15\", \"userid\": 1524, \"ts\": 1524}, {\"groupid\": 1, \"dt\": \"2021-11-16\", \"userid\": 1509, \"ts\": 1509}, {\"groupid\": 1, \"dt\": \"2021-11-17\", \"userid\": 1462, \"ts\": 1462}, {\"groupid\": 1, \"dt\": \"2021-11-18\", \"userid\": 1529, \"ts\": 1529}, {\"groupid\": 1, \"dt\": \"2021-11-19\", \"userid\": 1494, \"ts\": 1494}, {\"groupid\": 1, \"dt\": \"2021-11-20\", \"userid\": 1557, \"ts\": 1557}]}}, {\"mode\": \"vega-lite\"});\n",
       "</script>"
      ],
      "text/plain": [
       "alt.Chart(...)"
      ]
     },
     "execution_count": 36,
     "metadata": {},
     "output_type": "execute_result"
    }
   ],
   "source": [
    "alt.Chart(data_count).mark_line(size=3).encode(\n",
    "    alt.X('dt'),\n",
    "    alt.Y('userid'),\n",
    "    color='groupid:O',\n",
    "    tooltip=['userid']\n",
    ").properties(\n",
    "    width=600,\n",
    "    height=400\n",
    ")"
   ]
  },
  {
   "cell_type": "markdown",
   "id": "fatal-april",
   "metadata": {},
   "source": [
    "## Pre-test metrics"
   ]
  },
  {
   "cell_type": "markdown",
   "id": "latter-tenant",
   "metadata": {},
   "source": [
    "### User activity"
   ]
  },
  {
   "cell_type": "code",
   "execution_count": 37,
   "id": "judicial-material",
   "metadata": {},
   "outputs": [],
   "source": [
    "data_act = pd.read_csv(\"data/Activity_all.csv\")"
   ]
  },
  {
   "cell_type": "code",
   "execution_count": 38,
   "id": "postal-polls",
   "metadata": {},
   "outputs": [
    {
     "data": {
      "text/html": [
       "<div>\n",
       "<style scoped>\n",
       "    .dataframe tbody tr th:only-of-type {\n",
       "        vertical-align: middle;\n",
       "    }\n",
       "\n",
       "    .dataframe tbody tr th {\n",
       "        vertical-align: top;\n",
       "    }\n",
       "\n",
       "    .dataframe thead th {\n",
       "        text-align: right;\n",
       "    }\n",
       "</style>\n",
       "<table border=\"1\" class=\"dataframe\">\n",
       "  <thead>\n",
       "    <tr style=\"text-align: right;\">\n",
       "      <th></th>\n",
       "      <th>userid</th>\n",
       "      <th>dt</th>\n",
       "      <th>groupid</th>\n",
       "      <th>activity_level</th>\n",
       "    </tr>\n",
       "  </thead>\n",
       "  <tbody>\n",
       "    <tr>\n",
       "      <th>0</th>\n",
       "      <td>a5b70ae7-f07c-4773-9df4-ce112bc9dc48</td>\n",
       "      <td>2021-10-01</td>\n",
       "      <td>0</td>\n",
       "      <td>0</td>\n",
       "    </tr>\n",
       "    <tr>\n",
       "      <th>1</th>\n",
       "      <td>d2646662-269f-49de-aab1-8776afced9a3</td>\n",
       "      <td>2021-10-01</td>\n",
       "      <td>0</td>\n",
       "      <td>0</td>\n",
       "    </tr>\n",
       "    <tr>\n",
       "      <th>2</th>\n",
       "      <td>c4d1cfa8-283d-49ad-a894-90aedc39c798</td>\n",
       "      <td>2021-10-01</td>\n",
       "      <td>1</td>\n",
       "      <td>0</td>\n",
       "    </tr>\n",
       "    <tr>\n",
       "      <th>3</th>\n",
       "      <td>6889f87f-5356-4904-a35a-6ea5020011db</td>\n",
       "      <td>2021-10-01</td>\n",
       "      <td>0</td>\n",
       "      <td>0</td>\n",
       "    </tr>\n",
       "    <tr>\n",
       "      <th>4</th>\n",
       "      <td>dbee604c-474a-4c9d-b013-508e5a0e3059</td>\n",
       "      <td>2021-10-01</td>\n",
       "      <td>1</td>\n",
       "      <td>0</td>\n",
       "    </tr>\n",
       "  </tbody>\n",
       "</table>\n",
       "</div>"
      ],
      "text/plain": [
       "                                 userid          dt  groupid  activity_level\n",
       "0  a5b70ae7-f07c-4773-9df4-ce112bc9dc48  2021-10-01        0               0\n",
       "1  d2646662-269f-49de-aab1-8776afced9a3  2021-10-01        0               0\n",
       "2  c4d1cfa8-283d-49ad-a894-90aedc39c798  2021-10-01        1               0\n",
       "3  6889f87f-5356-4904-a35a-6ea5020011db  2021-10-01        0               0\n",
       "4  dbee604c-474a-4c9d-b013-508e5a0e3059  2021-10-01        1               0"
      ]
     },
     "execution_count": 38,
     "metadata": {},
     "output_type": "execute_result"
    }
   ],
   "source": [
    "data_act.head()"
   ]
  },
  {
   "cell_type": "code",
   "execution_count": 39,
   "id": "material-delhi",
   "metadata": {},
   "outputs": [
    {
     "data": {
      "text/html": [
       "<div>\n",
       "<style scoped>\n",
       "    .dataframe tbody tr th:only-of-type {\n",
       "        vertical-align: middle;\n",
       "    }\n",
       "\n",
       "    .dataframe tbody tr th {\n",
       "        vertical-align: top;\n",
       "    }\n",
       "\n",
       "    .dataframe thead tr th {\n",
       "        text-align: left;\n",
       "    }\n",
       "\n",
       "    .dataframe thead tr:last-of-type th {\n",
       "        text-align: right;\n",
       "    }\n",
       "</style>\n",
       "<table border=\"1\" class=\"dataframe\">\n",
       "  <thead>\n",
       "    <tr>\n",
       "      <th></th>\n",
       "      <th></th>\n",
       "      <th colspan=\"8\" halign=\"left\">activity_level</th>\n",
       "    </tr>\n",
       "    <tr>\n",
       "      <th></th>\n",
       "      <th></th>\n",
       "      <th>count</th>\n",
       "      <th>mean</th>\n",
       "      <th>std</th>\n",
       "      <th>min</th>\n",
       "      <th>25%</th>\n",
       "      <th>50%</th>\n",
       "      <th>75%</th>\n",
       "      <th>max</th>\n",
       "    </tr>\n",
       "    <tr>\n",
       "      <th>groupid</th>\n",
       "      <th>dt</th>\n",
       "      <th></th>\n",
       "      <th></th>\n",
       "      <th></th>\n",
       "      <th></th>\n",
       "      <th></th>\n",
       "      <th></th>\n",
       "      <th></th>\n",
       "      <th></th>\n",
       "    </tr>\n",
       "  </thead>\n",
       "  <tbody>\n",
       "    <tr>\n",
       "      <th rowspan=\"5\" valign=\"top\">0</th>\n",
       "      <th>2021-10-01</th>\n",
       "      <td>29951.0</td>\n",
       "      <td>5.241762</td>\n",
       "      <td>6.516640</td>\n",
       "      <td>0.0</td>\n",
       "      <td>0.0</td>\n",
       "      <td>1.0</td>\n",
       "      <td>10.0</td>\n",
       "      <td>20.0</td>\n",
       "    </tr>\n",
       "    <tr>\n",
       "      <th>2021-10-02</th>\n",
       "      <td>29951.0</td>\n",
       "      <td>5.255885</td>\n",
       "      <td>6.509838</td>\n",
       "      <td>0.0</td>\n",
       "      <td>0.0</td>\n",
       "      <td>1.0</td>\n",
       "      <td>10.0</td>\n",
       "      <td>20.0</td>\n",
       "    </tr>\n",
       "    <tr>\n",
       "      <th>2021-10-03</th>\n",
       "      <td>29951.0</td>\n",
       "      <td>5.266068</td>\n",
       "      <td>6.511458</td>\n",
       "      <td>0.0</td>\n",
       "      <td>0.0</td>\n",
       "      <td>1.0</td>\n",
       "      <td>10.0</td>\n",
       "      <td>20.0</td>\n",
       "    </tr>\n",
       "    <tr>\n",
       "      <th>2021-10-04</th>\n",
       "      <td>29951.0</td>\n",
       "      <td>5.212447</td>\n",
       "      <td>6.511711</td>\n",
       "      <td>0.0</td>\n",
       "      <td>0.0</td>\n",
       "      <td>1.0</td>\n",
       "      <td>10.0</td>\n",
       "      <td>20.0</td>\n",
       "    </tr>\n",
       "    <tr>\n",
       "      <th>2021-10-05</th>\n",
       "      <td>29951.0</td>\n",
       "      <td>5.177590</td>\n",
       "      <td>6.512791</td>\n",
       "      <td>0.0</td>\n",
       "      <td>0.0</td>\n",
       "      <td>1.0</td>\n",
       "      <td>10.0</td>\n",
       "      <td>20.0</td>\n",
       "    </tr>\n",
       "    <tr>\n",
       "      <th>...</th>\n",
       "      <th>...</th>\n",
       "      <td>...</td>\n",
       "      <td>...</td>\n",
       "      <td>...</td>\n",
       "      <td>...</td>\n",
       "      <td>...</td>\n",
       "      <td>...</td>\n",
       "      <td>...</td>\n",
       "      <td>...</td>\n",
       "    </tr>\n",
       "    <tr>\n",
       "      <th rowspan=\"5\" valign=\"top\">1</th>\n",
       "      <th>2021-11-26</th>\n",
       "      <td>30049.0</td>\n",
       "      <td>10.031216</td>\n",
       "      <td>5.770582</td>\n",
       "      <td>0.0</td>\n",
       "      <td>5.0</td>\n",
       "      <td>10.0</td>\n",
       "      <td>15.0</td>\n",
       "      <td>20.0</td>\n",
       "    </tr>\n",
       "    <tr>\n",
       "      <th>2021-11-27</th>\n",
       "      <td>30049.0</td>\n",
       "      <td>10.026024</td>\n",
       "      <td>5.774141</td>\n",
       "      <td>0.0</td>\n",
       "      <td>5.0</td>\n",
       "      <td>10.0</td>\n",
       "      <td>15.0</td>\n",
       "      <td>20.0</td>\n",
       "    </tr>\n",
       "    <tr>\n",
       "      <th>2021-11-28</th>\n",
       "      <td>30049.0</td>\n",
       "      <td>9.975307</td>\n",
       "      <td>5.788257</td>\n",
       "      <td>0.0</td>\n",
       "      <td>5.0</td>\n",
       "      <td>10.0</td>\n",
       "      <td>15.0</td>\n",
       "      <td>20.0</td>\n",
       "    </tr>\n",
       "    <tr>\n",
       "      <th>2021-11-29</th>\n",
       "      <td>30049.0</td>\n",
       "      <td>9.970781</td>\n",
       "      <td>5.799546</td>\n",
       "      <td>0.0</td>\n",
       "      <td>5.0</td>\n",
       "      <td>10.0</td>\n",
       "      <td>15.0</td>\n",
       "      <td>20.0</td>\n",
       "    </tr>\n",
       "    <tr>\n",
       "      <th>2021-11-30</th>\n",
       "      <td>30049.0</td>\n",
       "      <td>9.963926</td>\n",
       "      <td>5.764812</td>\n",
       "      <td>0.0</td>\n",
       "      <td>5.0</td>\n",
       "      <td>10.0</td>\n",
       "      <td>15.0</td>\n",
       "      <td>20.0</td>\n",
       "    </tr>\n",
       "  </tbody>\n",
       "</table>\n",
       "<p>122 rows × 8 columns</p>\n",
       "</div>"
      ],
      "text/plain": [
       "                   activity_level                                             \\\n",
       "                            count       mean       std  min  25%   50%   75%   \n",
       "groupid dt                                                                     \n",
       "0       2021-10-01        29951.0   5.241762  6.516640  0.0  0.0   1.0  10.0   \n",
       "        2021-10-02        29951.0   5.255885  6.509838  0.0  0.0   1.0  10.0   \n",
       "        2021-10-03        29951.0   5.266068  6.511458  0.0  0.0   1.0  10.0   \n",
       "        2021-10-04        29951.0   5.212447  6.511711  0.0  0.0   1.0  10.0   \n",
       "        2021-10-05        29951.0   5.177590  6.512791  0.0  0.0   1.0  10.0   \n",
       "...                           ...        ...       ...  ...  ...   ...   ...   \n",
       "1       2021-11-26        30049.0  10.031216  5.770582  0.0  5.0  10.0  15.0   \n",
       "        2021-11-27        30049.0  10.026024  5.774141  0.0  5.0  10.0  15.0   \n",
       "        2021-11-28        30049.0   9.975307  5.788257  0.0  5.0  10.0  15.0   \n",
       "        2021-11-29        30049.0   9.970781  5.799546  0.0  5.0  10.0  15.0   \n",
       "        2021-11-30        30049.0   9.963926  5.764812  0.0  5.0  10.0  15.0   \n",
       "\n",
       "                          \n",
       "                     max  \n",
       "groupid dt                \n",
       "0       2021-10-01  20.0  \n",
       "        2021-10-02  20.0  \n",
       "        2021-10-03  20.0  \n",
       "        2021-10-04  20.0  \n",
       "        2021-10-05  20.0  \n",
       "...                  ...  \n",
       "1       2021-11-26  20.0  \n",
       "        2021-11-27  20.0  \n",
       "        2021-11-28  20.0  \n",
       "        2021-11-29  20.0  \n",
       "        2021-11-30  20.0  \n",
       "\n",
       "[122 rows x 8 columns]"
      ]
     },
     "execution_count": 39,
     "metadata": {},
     "output_type": "execute_result"
    }
   ],
   "source": [
    "data_act.groupby(['groupid','dt']).describe()"
   ]
  },
  {
   "cell_type": "code",
   "execution_count": 40,
   "id": "serial-surprise",
   "metadata": {},
   "outputs": [
    {
     "data": {
      "text/html": [
       "<div>\n",
       "<style scoped>\n",
       "    .dataframe tbody tr th:only-of-type {\n",
       "        vertical-align: middle;\n",
       "    }\n",
       "\n",
       "    .dataframe tbody tr th {\n",
       "        vertical-align: top;\n",
       "    }\n",
       "\n",
       "    .dataframe thead th {\n",
       "        text-align: right;\n",
       "    }\n",
       "</style>\n",
       "<table border=\"1\" class=\"dataframe\">\n",
       "  <thead>\n",
       "    <tr style=\"text-align: right;\">\n",
       "      <th></th>\n",
       "      <th>dt</th>\n",
       "      <th>groupid</th>\n",
       "      <th>userid</th>\n",
       "      <th>activity_level</th>\n",
       "    </tr>\n",
       "  </thead>\n",
       "  <tbody>\n",
       "    <tr>\n",
       "      <th>0</th>\n",
       "      <td>2021-10-01</td>\n",
       "      <td>0</td>\n",
       "      <td>15337</td>\n",
       "      <td>15337</td>\n",
       "    </tr>\n",
       "    <tr>\n",
       "      <th>1</th>\n",
       "      <td>2021-10-01</td>\n",
       "      <td>1</td>\n",
       "      <td>15297</td>\n",
       "      <td>15297</td>\n",
       "    </tr>\n",
       "    <tr>\n",
       "      <th>2</th>\n",
       "      <td>2021-10-02</td>\n",
       "      <td>0</td>\n",
       "      <td>15354</td>\n",
       "      <td>15354</td>\n",
       "    </tr>\n",
       "    <tr>\n",
       "      <th>3</th>\n",
       "      <td>2021-10-02</td>\n",
       "      <td>1</td>\n",
       "      <td>15421</td>\n",
       "      <td>15421</td>\n",
       "    </tr>\n",
       "    <tr>\n",
       "      <th>4</th>\n",
       "      <td>2021-10-03</td>\n",
       "      <td>0</td>\n",
       "      <td>15423</td>\n",
       "      <td>15423</td>\n",
       "    </tr>\n",
       "  </tbody>\n",
       "</table>\n",
       "</div>"
      ],
      "text/plain": [
       "           dt  groupid  userid  activity_level\n",
       "0  2021-10-01        0   15337           15337\n",
       "1  2021-10-01        1   15297           15297\n",
       "2  2021-10-02        0   15354           15354\n",
       "3  2021-10-02        1   15421           15421\n",
       "4  2021-10-03        0   15423           15423"
      ]
     },
     "execution_count": 40,
     "metadata": {},
     "output_type": "execute_result"
    }
   ],
   "source": [
    "data_act.query('activity_level > 0').groupby(['dt', 'groupid']).count().reset_index().head()"
   ]
  },
  {
   "cell_type": "code",
   "execution_count": 41,
   "id": "intimate-heath",
   "metadata": {},
   "outputs": [
    {
     "data": {
      "text/html": [
       "\n",
       "<div id=\"altair-viz-6879d3fdc6704bf9906004d638f74029\"></div>\n",
       "<script type=\"text/javascript\">\n",
       "  var VEGA_DEBUG = (typeof VEGA_DEBUG == \"undefined\") ? {} : VEGA_DEBUG;\n",
       "  (function(spec, embedOpt){\n",
       "    let outputDiv = document.currentScript.previousElementSibling;\n",
       "    if (outputDiv.id !== \"altair-viz-6879d3fdc6704bf9906004d638f74029\") {\n",
       "      outputDiv = document.getElementById(\"altair-viz-6879d3fdc6704bf9906004d638f74029\");\n",
       "    }\n",
       "    const paths = {\n",
       "      \"vega\": \"https://cdn.jsdelivr.net/npm//vega@5?noext\",\n",
       "      \"vega-lib\": \"https://cdn.jsdelivr.net/npm//vega-lib?noext\",\n",
       "      \"vega-lite\": \"https://cdn.jsdelivr.net/npm//vega-lite@4.17.0?noext\",\n",
       "      \"vega-embed\": \"https://cdn.jsdelivr.net/npm//vega-embed@6?noext\",\n",
       "    };\n",
       "\n",
       "    function maybeLoadScript(lib, version) {\n",
       "      var key = `${lib.replace(\"-\", \"\")}_version`;\n",
       "      return (VEGA_DEBUG[key] == version) ?\n",
       "        Promise.resolve(paths[lib]) :\n",
       "        new Promise(function(resolve, reject) {\n",
       "          var s = document.createElement('script');\n",
       "          document.getElementsByTagName(\"head\")[0].appendChild(s);\n",
       "          s.async = true;\n",
       "          s.onload = () => {\n",
       "            VEGA_DEBUG[key] = version;\n",
       "            return resolve(paths[lib]);\n",
       "          };\n",
       "          s.onerror = () => reject(`Error loading script: ${paths[lib]}`);\n",
       "          s.src = paths[lib];\n",
       "        });\n",
       "    }\n",
       "\n",
       "    function showError(err) {\n",
       "      outputDiv.innerHTML = `<div class=\"error\" style=\"color:red;\">${err}</div>`;\n",
       "      throw err;\n",
       "    }\n",
       "\n",
       "    function displayChart(vegaEmbed) {\n",
       "      vegaEmbed(outputDiv, spec, embedOpt)\n",
       "        .catch(err => showError(`Javascript Error: ${err.message}<br>This usually means there's a typo in your chart specification. See the javascript console for the full traceback.`));\n",
       "    }\n",
       "\n",
       "    if(typeof define === \"function\" && define.amd) {\n",
       "      requirejs.config({paths});\n",
       "      require([\"vega-embed\"], displayChart, err => showError(`Error loading script: ${err.message}`));\n",
       "    } else {\n",
       "      maybeLoadScript(\"vega\", \"5\")\n",
       "        .then(() => maybeLoadScript(\"vega-lite\", \"4.17.0\"))\n",
       "        .then(() => maybeLoadScript(\"vega-embed\", \"6\"))\n",
       "        .catch(showError)\n",
       "        .then(() => displayChart(vegaEmbed));\n",
       "    }\n",
       "  })({\"config\": {\"view\": {\"continuousWidth\": 400, \"continuousHeight\": 300}}, \"data\": {\"name\": \"data-394a1331192842b66704340d6621c3c8\"}, \"mark\": {\"type\": \"line\", \"size\": 3}, \"encoding\": {\"color\": {\"field\": \"groupid\", \"type\": \"ordinal\"}, \"tooltip\": [{\"field\": \"userid\", \"type\": \"quantitative\"}], \"x\": {\"field\": \"dt\", \"type\": \"nominal\"}, \"y\": {\"field\": \"userid\", \"type\": \"quantitative\"}}, \"height\": 400, \"width\": 600, \"$schema\": \"https://vega.github.io/schema/vega-lite/v4.17.0.json\", \"datasets\": {\"data-394a1331192842b66704340d6621c3c8\": [{\"dt\": \"2021-10-01\", \"groupid\": 0, \"userid\": 15337, \"activity_level\": 15337}, {\"dt\": \"2021-10-01\", \"groupid\": 1, \"userid\": 15297, \"activity_level\": 15297}, {\"dt\": \"2021-10-02\", \"groupid\": 0, \"userid\": 15354, \"activity_level\": 15354}, {\"dt\": \"2021-10-02\", \"groupid\": 1, \"userid\": 15421, \"activity_level\": 15421}, {\"dt\": \"2021-10-03\", \"groupid\": 0, \"userid\": 15423, \"activity_level\": 15423}, {\"dt\": \"2021-10-03\", \"groupid\": 1, \"userid\": 15362, \"activity_level\": 15362}, {\"dt\": \"2021-10-04\", \"groupid\": 0, \"userid\": 15211, \"activity_level\": 15211}, {\"dt\": \"2021-10-04\", \"groupid\": 1, \"userid\": 15388, \"activity_level\": 15388}, {\"dt\": \"2021-10-05\", \"groupid\": 0, \"userid\": 15126, \"activity_level\": 15126}, {\"dt\": \"2021-10-05\", \"groupid\": 1, \"userid\": 15462, \"activity_level\": 15462}, {\"dt\": \"2021-10-06\", \"groupid\": 0, \"userid\": 15335, \"activity_level\": 15335}, {\"dt\": \"2021-10-06\", \"groupid\": 1, \"userid\": 15304, \"activity_level\": 15304}, {\"dt\": \"2021-10-07\", \"groupid\": 0, \"userid\": 15346, \"activity_level\": 15346}, {\"dt\": \"2021-10-07\", \"groupid\": 1, \"userid\": 15291, \"activity_level\": 15291}, {\"dt\": \"2021-10-08\", \"groupid\": 0, \"userid\": 15357, \"activity_level\": 15357}, {\"dt\": \"2021-10-08\", \"groupid\": 1, \"userid\": 15243, \"activity_level\": 15243}, {\"dt\": \"2021-10-09\", \"groupid\": 0, \"userid\": 15371, \"activity_level\": 15371}, {\"dt\": \"2021-10-09\", \"groupid\": 1, \"userid\": 15531, \"activity_level\": 15531}, {\"dt\": \"2021-10-10\", \"groupid\": 0, \"userid\": 15277, \"activity_level\": 15277}, {\"dt\": \"2021-10-10\", \"groupid\": 1, \"userid\": 15304, \"activity_level\": 15304}, {\"dt\": \"2021-10-11\", \"groupid\": 0, \"userid\": 15226, \"activity_level\": 15226}, {\"dt\": \"2021-10-11\", \"groupid\": 1, \"userid\": 15263, \"activity_level\": 15263}, {\"dt\": \"2021-10-12\", \"groupid\": 0, \"userid\": 15290, \"activity_level\": 15290}, {\"dt\": \"2021-10-12\", \"groupid\": 1, \"userid\": 15425, \"activity_level\": 15425}, {\"dt\": \"2021-10-13\", \"groupid\": 0, \"userid\": 15334, \"activity_level\": 15334}, {\"dt\": \"2021-10-13\", \"groupid\": 1, \"userid\": 15427, \"activity_level\": 15427}, {\"dt\": \"2021-10-14\", \"groupid\": 0, \"userid\": 15295, \"activity_level\": 15295}, {\"dt\": \"2021-10-14\", \"groupid\": 1, \"userid\": 15421, \"activity_level\": 15421}, {\"dt\": \"2021-10-15\", \"groupid\": 0, \"userid\": 15277, \"activity_level\": 15277}, {\"dt\": \"2021-10-15\", \"groupid\": 1, \"userid\": 15360, \"activity_level\": 15360}, {\"dt\": \"2021-10-16\", \"groupid\": 0, \"userid\": 15348, \"activity_level\": 15348}, {\"dt\": \"2021-10-16\", \"groupid\": 1, \"userid\": 15360, \"activity_level\": 15360}, {\"dt\": \"2021-10-17\", \"groupid\": 0, \"userid\": 15430, \"activity_level\": 15430}, {\"dt\": \"2021-10-17\", \"groupid\": 1, \"userid\": 15311, \"activity_level\": 15311}, {\"dt\": \"2021-10-18\", \"groupid\": 0, \"userid\": 15244, \"activity_level\": 15244}, {\"dt\": \"2021-10-18\", \"groupid\": 1, \"userid\": 15450, \"activity_level\": 15450}, {\"dt\": \"2021-10-19\", \"groupid\": 0, \"userid\": 15303, \"activity_level\": 15303}, {\"dt\": \"2021-10-19\", \"groupid\": 1, \"userid\": 15284, \"activity_level\": 15284}, {\"dt\": \"2021-10-20\", \"groupid\": 0, \"userid\": 15382, \"activity_level\": 15382}, {\"dt\": \"2021-10-20\", \"groupid\": 1, \"userid\": 15413, \"activity_level\": 15413}, {\"dt\": \"2021-10-21\", \"groupid\": 0, \"userid\": 15431, \"activity_level\": 15431}, {\"dt\": \"2021-10-21\", \"groupid\": 1, \"userid\": 15274, \"activity_level\": 15274}, {\"dt\": \"2021-10-22\", \"groupid\": 0, \"userid\": 15356, \"activity_level\": 15356}, {\"dt\": \"2021-10-22\", \"groupid\": 1, \"userid\": 15217, \"activity_level\": 15217}, {\"dt\": \"2021-10-23\", \"groupid\": 0, \"userid\": 15151, \"activity_level\": 15151}, {\"dt\": \"2021-10-23\", \"groupid\": 1, \"userid\": 15494, \"activity_level\": 15494}, {\"dt\": \"2021-10-24\", \"groupid\": 0, \"userid\": 15512, \"activity_level\": 15512}, {\"dt\": \"2021-10-24\", \"groupid\": 1, \"userid\": 15303, \"activity_level\": 15303}, {\"dt\": \"2021-10-25\", \"groupid\": 0, \"userid\": 15351, \"activity_level\": 15351}, {\"dt\": \"2021-10-25\", \"groupid\": 1, \"userid\": 15265, \"activity_level\": 15265}, {\"dt\": \"2021-10-26\", \"groupid\": 0, \"userid\": 15280, \"activity_level\": 15280}, {\"dt\": \"2021-10-26\", \"groupid\": 1, \"userid\": 15393, \"activity_level\": 15393}, {\"dt\": \"2021-10-27\", \"groupid\": 0, \"userid\": 15459, \"activity_level\": 15459}, {\"dt\": \"2021-10-27\", \"groupid\": 1, \"userid\": 15202, \"activity_level\": 15202}, {\"dt\": \"2021-10-28\", \"groupid\": 0, \"userid\": 15434, \"activity_level\": 15434}, {\"dt\": \"2021-10-28\", \"groupid\": 1, \"userid\": 15300, \"activity_level\": 15300}, {\"dt\": \"2021-10-29\", \"groupid\": 0, \"userid\": 15214, \"activity_level\": 15214}, {\"dt\": \"2021-10-29\", \"groupid\": 1, \"userid\": 15509, \"activity_level\": 15509}, {\"dt\": \"2021-10-30\", \"groupid\": 0, \"userid\": 15285, \"activity_level\": 15285}, {\"dt\": \"2021-10-30\", \"groupid\": 1, \"userid\": 15343, \"activity_level\": 15343}, {\"dt\": \"2021-10-31\", \"groupid\": 0, \"userid\": 15208, \"activity_level\": 15208}, {\"dt\": \"2021-10-31\", \"groupid\": 1, \"userid\": 15311, \"activity_level\": 15311}, {\"dt\": \"2021-11-01\", \"groupid\": 0, \"userid\": 15989, \"activity_level\": 15989}, {\"dt\": \"2021-11-01\", \"groupid\": 1, \"userid\": 29318, \"activity_level\": 29318}, {\"dt\": \"2021-11-02\", \"groupid\": 0, \"userid\": 16024, \"activity_level\": 16024}, {\"dt\": \"2021-11-02\", \"groupid\": 1, \"userid\": 29289, \"activity_level\": 29289}, {\"dt\": \"2021-11-03\", \"groupid\": 0, \"userid\": 16049, \"activity_level\": 16049}, {\"dt\": \"2021-11-03\", \"groupid\": 1, \"userid\": 29306, \"activity_level\": 29306}, {\"dt\": \"2021-11-04\", \"groupid\": 0, \"userid\": 16040, \"activity_level\": 16040}, {\"dt\": \"2021-11-04\", \"groupid\": 1, \"userid\": 29267, \"activity_level\": 29267}, {\"dt\": \"2021-11-05\", \"groupid\": 0, \"userid\": 16045, \"activity_level\": 16045}, {\"dt\": \"2021-11-05\", \"groupid\": 1, \"userid\": 29336, \"activity_level\": 29336}, {\"dt\": \"2021-11-06\", \"groupid\": 0, \"userid\": 15991, \"activity_level\": 15991}, {\"dt\": \"2021-11-06\", \"groupid\": 1, \"userid\": 29306, \"activity_level\": 29306}, {\"dt\": \"2021-11-07\", \"groupid\": 0, \"userid\": 16133, \"activity_level\": 16133}, {\"dt\": \"2021-11-07\", \"groupid\": 1, \"userid\": 29255, \"activity_level\": 29255}, {\"dt\": \"2021-11-08\", \"groupid\": 0, \"userid\": 16119, \"activity_level\": 16119}, {\"dt\": \"2021-11-08\", \"groupid\": 1, \"userid\": 29263, \"activity_level\": 29263}, {\"dt\": \"2021-11-09\", \"groupid\": 0, \"userid\": 15953, \"activity_level\": 15953}, {\"dt\": \"2021-11-09\", \"groupid\": 1, \"userid\": 29286, \"activity_level\": 29286}, {\"dt\": \"2021-11-10\", \"groupid\": 0, \"userid\": 15990, \"activity_level\": 15990}, {\"dt\": \"2021-11-10\", \"groupid\": 1, \"userid\": 29340, \"activity_level\": 29340}, {\"dt\": \"2021-11-11\", \"groupid\": 0, \"userid\": 16045, \"activity_level\": 16045}, {\"dt\": \"2021-11-11\", \"groupid\": 1, \"userid\": 29349, \"activity_level\": 29349}, {\"dt\": \"2021-11-12\", \"groupid\": 0, \"userid\": 15859, \"activity_level\": 15859}, {\"dt\": \"2021-11-12\", \"groupid\": 1, \"userid\": 29278, \"activity_level\": 29278}, {\"dt\": \"2021-11-13\", \"groupid\": 0, \"userid\": 15973, \"activity_level\": 15973}, {\"dt\": \"2021-11-13\", \"groupid\": 1, \"userid\": 29258, \"activity_level\": 29258}, {\"dt\": \"2021-11-14\", \"groupid\": 0, \"userid\": 16016, \"activity_level\": 16016}, {\"dt\": \"2021-11-14\", \"groupid\": 1, \"userid\": 29322, \"activity_level\": 29322}, {\"dt\": \"2021-11-15\", \"groupid\": 0, \"userid\": 16112, \"activity_level\": 16112}, {\"dt\": \"2021-11-15\", \"groupid\": 1, \"userid\": 29337, \"activity_level\": 29337}, {\"dt\": \"2021-11-16\", \"groupid\": 0, \"userid\": 16147, \"activity_level\": 16147}, {\"dt\": \"2021-11-16\", \"groupid\": 1, \"userid\": 29300, \"activity_level\": 29300}, {\"dt\": \"2021-11-17\", \"groupid\": 0, \"userid\": 16015, \"activity_level\": 16015}, {\"dt\": \"2021-11-17\", \"groupid\": 1, \"userid\": 29296, \"activity_level\": 29296}, {\"dt\": \"2021-11-18\", \"groupid\": 0, \"userid\": 16007, \"activity_level\": 16007}, {\"dt\": \"2021-11-18\", \"groupid\": 1, \"userid\": 29274, \"activity_level\": 29274}, {\"dt\": \"2021-11-19\", \"groupid\": 0, \"userid\": 16104, \"activity_level\": 16104}, {\"dt\": \"2021-11-19\", \"groupid\": 1, \"userid\": 29292, \"activity_level\": 29292}, {\"dt\": \"2021-11-20\", \"groupid\": 0, \"userid\": 16090, \"activity_level\": 16090}, {\"dt\": \"2021-11-20\", \"groupid\": 1, \"userid\": 29329, \"activity_level\": 29329}, {\"dt\": \"2021-11-21\", \"groupid\": 0, \"userid\": 15294, \"activity_level\": 15294}, {\"dt\": \"2021-11-21\", \"groupid\": 1, \"userid\": 29309, \"activity_level\": 29309}, {\"dt\": \"2021-11-22\", \"groupid\": 0, \"userid\": 15207, \"activity_level\": 15207}, {\"dt\": \"2021-11-22\", \"groupid\": 1, \"userid\": 29278, \"activity_level\": 29278}, {\"dt\": \"2021-11-23\", \"groupid\": 0, \"userid\": 15424, \"activity_level\": 15424}, {\"dt\": \"2021-11-23\", \"groupid\": 1, \"userid\": 29300, \"activity_level\": 29300}, {\"dt\": \"2021-11-24\", \"groupid\": 0, \"userid\": 15328, \"activity_level\": 15328}, {\"dt\": \"2021-11-24\", \"groupid\": 1, \"userid\": 29287, \"activity_level\": 29287}, {\"dt\": \"2021-11-25\", \"groupid\": 0, \"userid\": 15163, \"activity_level\": 15163}, {\"dt\": \"2021-11-25\", \"groupid\": 1, \"userid\": 29301, \"activity_level\": 29301}, {\"dt\": \"2021-11-26\", \"groupid\": 0, \"userid\": 15226, \"activity_level\": 15226}, {\"dt\": \"2021-11-26\", \"groupid\": 1, \"userid\": 29303, \"activity_level\": 29303}, {\"dt\": \"2021-11-27\", \"groupid\": 0, \"userid\": 15286, \"activity_level\": 15286}, {\"dt\": \"2021-11-27\", \"groupid\": 1, \"userid\": 29350, \"activity_level\": 29350}, {\"dt\": \"2021-11-28\", \"groupid\": 0, \"userid\": 15283, \"activity_level\": 15283}, {\"dt\": \"2021-11-28\", \"groupid\": 1, \"userid\": 29273, \"activity_level\": 29273}, {\"dt\": \"2021-11-29\", \"groupid\": 0, \"userid\": 15356, \"activity_level\": 15356}, {\"dt\": \"2021-11-29\", \"groupid\": 1, \"userid\": 29289, \"activity_level\": 29289}, {\"dt\": \"2021-11-30\", \"groupid\": 0, \"userid\": 15192, \"activity_level\": 15192}, {\"dt\": \"2021-11-30\", \"groupid\": 1, \"userid\": 29382, \"activity_level\": 29382}]}}, {\"mode\": \"vega-lite\"});\n",
       "</script>"
      ],
      "text/plain": [
       "alt.Chart(...)"
      ]
     },
     "execution_count": 41,
     "metadata": {},
     "output_type": "execute_result"
    }
   ],
   "source": [
    "alt.Chart(data_act.query('activity_level > 0').groupby(['dt', 'groupid']).count().reset_index()).mark_line(size=3).encode(\n",
    "    alt.X('dt'),\n",
    "    alt.Y('userid'),\n",
    "    color='groupid:O',\n",
    "    tooltip=['userid']\n",
    ").properties(\n",
    "    width=600,\n",
    "    height=400\n",
    ")"
   ]
  },
  {
   "cell_type": "code",
   "execution_count": 42,
   "id": "restricted-crash",
   "metadata": {},
   "outputs": [
    {
     "data": {
      "text/html": [
       "<div>\n",
       "<style scoped>\n",
       "    .dataframe tbody tr th:only-of-type {\n",
       "        vertical-align: middle;\n",
       "    }\n",
       "\n",
       "    .dataframe tbody tr th {\n",
       "        vertical-align: top;\n",
       "    }\n",
       "\n",
       "    .dataframe thead th {\n",
       "        text-align: right;\n",
       "    }\n",
       "</style>\n",
       "<table border=\"1\" class=\"dataframe\">\n",
       "  <thead>\n",
       "    <tr style=\"text-align: right;\">\n",
       "      <th></th>\n",
       "      <th>groupid</th>\n",
       "      <th>activity_level</th>\n",
       "    </tr>\n",
       "  </thead>\n",
       "  <tbody>\n",
       "    <tr>\n",
       "      <th>count</th>\n",
       "      <td>30.0</td>\n",
       "      <td>30.000000</td>\n",
       "    </tr>\n",
       "    <tr>\n",
       "      <th>mean</th>\n",
       "      <td>0.0</td>\n",
       "      <td>15782.000000</td>\n",
       "    </tr>\n",
       "    <tr>\n",
       "      <th>std</th>\n",
       "      <td>0.0</td>\n",
       "      <td>371.077276</td>\n",
       "    </tr>\n",
       "    <tr>\n",
       "      <th>min</th>\n",
       "      <td>0.0</td>\n",
       "      <td>15163.000000</td>\n",
       "    </tr>\n",
       "    <tr>\n",
       "      <th>25%</th>\n",
       "      <td>0.0</td>\n",
       "      <td>15335.000000</td>\n",
       "    </tr>\n",
       "    <tr>\n",
       "      <th>50%</th>\n",
       "      <td>0.0</td>\n",
       "      <td>15990.500000</td>\n",
       "    </tr>\n",
       "    <tr>\n",
       "      <th>75%</th>\n",
       "      <td>0.0</td>\n",
       "      <td>16045.000000</td>\n",
       "    </tr>\n",
       "    <tr>\n",
       "      <th>max</th>\n",
       "      <td>0.0</td>\n",
       "      <td>16147.000000</td>\n",
       "    </tr>\n",
       "  </tbody>\n",
       "</table>\n",
       "</div>"
      ],
      "text/plain": [
       "       groupid  activity_level\n",
       "count     30.0       30.000000\n",
       "mean       0.0    15782.000000\n",
       "std        0.0      371.077276\n",
       "min        0.0    15163.000000\n",
       "25%        0.0    15335.000000\n",
       "50%        0.0    15990.500000\n",
       "75%        0.0    16045.000000\n",
       "max        0.0    16147.000000"
      ]
     },
     "execution_count": 42,
     "metadata": {},
     "output_type": "execute_result"
    }
   ],
   "source": [
    "(\n",
    "    data_act.query('activity_level > 0 and groupid == 0 and dt >= \"2021-11-01\"')\n",
    "    .groupby(['dt','groupid']).count().reset_index()[['groupid','activity_level']].describe()\n",
    ")"
   ]
  },
  {
   "cell_type": "code",
   "execution_count": 43,
   "id": "alone-rhythm",
   "metadata": {},
   "outputs": [
    {
     "data": {
      "text/html": [
       "<div>\n",
       "<style scoped>\n",
       "    .dataframe tbody tr th:only-of-type {\n",
       "        vertical-align: middle;\n",
       "    }\n",
       "\n",
       "    .dataframe tbody tr th {\n",
       "        vertical-align: top;\n",
       "    }\n",
       "\n",
       "    .dataframe thead th {\n",
       "        text-align: right;\n",
       "    }\n",
       "</style>\n",
       "<table border=\"1\" class=\"dataframe\">\n",
       "  <thead>\n",
       "    <tr style=\"text-align: right;\">\n",
       "      <th></th>\n",
       "      <th>groupid</th>\n",
       "      <th>activity_level</th>\n",
       "    </tr>\n",
       "  </thead>\n",
       "  <tbody>\n",
       "    <tr>\n",
       "      <th>count</th>\n",
       "      <td>30.0</td>\n",
       "      <td>30.000000</td>\n",
       "    </tr>\n",
       "    <tr>\n",
       "      <th>mean</th>\n",
       "      <td>1.0</td>\n",
       "      <td>29302.433333</td>\n",
       "    </tr>\n",
       "    <tr>\n",
       "      <th>std</th>\n",
       "      <td>0.0</td>\n",
       "      <td>30.417422</td>\n",
       "    </tr>\n",
       "    <tr>\n",
       "      <th>min</th>\n",
       "      <td>1.0</td>\n",
       "      <td>29255.000000</td>\n",
       "    </tr>\n",
       "    <tr>\n",
       "      <th>25%</th>\n",
       "      <td>1.0</td>\n",
       "      <td>29280.000000</td>\n",
       "    </tr>\n",
       "    <tr>\n",
       "      <th>50%</th>\n",
       "      <td>1.0</td>\n",
       "      <td>29300.000000</td>\n",
       "    </tr>\n",
       "    <tr>\n",
       "      <th>75%</th>\n",
       "      <td>1.0</td>\n",
       "      <td>29321.000000</td>\n",
       "    </tr>\n",
       "    <tr>\n",
       "      <th>max</th>\n",
       "      <td>1.0</td>\n",
       "      <td>29382.000000</td>\n",
       "    </tr>\n",
       "  </tbody>\n",
       "</table>\n",
       "</div>"
      ],
      "text/plain": [
       "       groupid  activity_level\n",
       "count     30.0       30.000000\n",
       "mean       1.0    29302.433333\n",
       "std        0.0       30.417422\n",
       "min        1.0    29255.000000\n",
       "25%        1.0    29280.000000\n",
       "50%        1.0    29300.000000\n",
       "75%        1.0    29321.000000\n",
       "max        1.0    29382.000000"
      ]
     },
     "execution_count": 43,
     "metadata": {},
     "output_type": "execute_result"
    }
   ],
   "source": [
    "(\n",
    "    data_act.query('activity_level > 0 and groupid == 1 and dt >= \"2021-11-01\"')\n",
    "    .groupby(['dt','groupid']).count().reset_index()[['groupid','activity_level']].describe()\n",
    ")"
   ]
  },
  {
   "cell_type": "code",
   "execution_count": 44,
   "id": "accredited-interview",
   "metadata": {},
   "outputs": [
    {
     "data": {
      "text/html": [
       "<div>\n",
       "<style scoped>\n",
       "    .dataframe tbody tr th:only-of-type {\n",
       "        vertical-align: middle;\n",
       "    }\n",
       "\n",
       "    .dataframe tbody tr th {\n",
       "        vertical-align: top;\n",
       "    }\n",
       "\n",
       "    .dataframe thead tr th {\n",
       "        text-align: left;\n",
       "    }\n",
       "\n",
       "    .dataframe thead tr:last-of-type th {\n",
       "        text-align: right;\n",
       "    }\n",
       "</style>\n",
       "<table border=\"1\" class=\"dataframe\">\n",
       "  <thead>\n",
       "    <tr>\n",
       "      <th></th>\n",
       "      <th colspan=\"8\" halign=\"left\">activity_level</th>\n",
       "    </tr>\n",
       "    <tr>\n",
       "      <th></th>\n",
       "      <th>count</th>\n",
       "      <th>mean</th>\n",
       "      <th>std</th>\n",
       "      <th>min</th>\n",
       "      <th>25%</th>\n",
       "      <th>50%</th>\n",
       "      <th>75%</th>\n",
       "      <th>max</th>\n",
       "    </tr>\n",
       "    <tr>\n",
       "      <th>groupid</th>\n",
       "      <th></th>\n",
       "      <th></th>\n",
       "      <th></th>\n",
       "      <th></th>\n",
       "      <th></th>\n",
       "      <th></th>\n",
       "      <th></th>\n",
       "      <th></th>\n",
       "    </tr>\n",
       "  </thead>\n",
       "  <tbody>\n",
       "    <tr>\n",
       "      <th>0</th>\n",
       "      <td>898530.0</td>\n",
       "      <td>5.402211</td>\n",
       "      <td>6.55557</td>\n",
       "      <td>0.0</td>\n",
       "      <td>0.0</td>\n",
       "      <td>1.0</td>\n",
       "      <td>11.0</td>\n",
       "      <td>20.0</td>\n",
       "    </tr>\n",
       "    <tr>\n",
       "      <th>1</th>\n",
       "      <td>901470.0</td>\n",
       "      <td>9.996304</td>\n",
       "      <td>5.78868</td>\n",
       "      <td>0.0</td>\n",
       "      <td>5.0</td>\n",
       "      <td>10.0</td>\n",
       "      <td>15.0</td>\n",
       "      <td>20.0</td>\n",
       "    </tr>\n",
       "  </tbody>\n",
       "</table>\n",
       "</div>"
      ],
      "text/plain": [
       "        activity_level                                               \n",
       "                 count      mean      std  min  25%   50%   75%   max\n",
       "groupid                                                              \n",
       "0             898530.0  5.402211  6.55557  0.0  0.0   1.0  11.0  20.0\n",
       "1             901470.0  9.996304  5.78868  0.0  5.0  10.0  15.0  20.0"
      ]
     },
     "execution_count": 44,
     "metadata": {},
     "output_type": "execute_result"
    }
   ],
   "source": [
    "data_act.query('dt >= \"2021-11-01\"').groupby(['groupid']).describe()"
   ]
  },
  {
   "cell_type": "code",
   "execution_count": 45,
   "id": "directed-swing",
   "metadata": {},
   "outputs": [
    {
     "data": {
      "text/html": [
       "<div>\n",
       "<style scoped>\n",
       "    .dataframe tbody tr th:only-of-type {\n",
       "        vertical-align: middle;\n",
       "    }\n",
       "\n",
       "    .dataframe tbody tr th {\n",
       "        vertical-align: top;\n",
       "    }\n",
       "\n",
       "    .dataframe thead tr th {\n",
       "        text-align: left;\n",
       "    }\n",
       "\n",
       "    .dataframe thead tr:last-of-type th {\n",
       "        text-align: right;\n",
       "    }\n",
       "</style>\n",
       "<table border=\"1\" class=\"dataframe\">\n",
       "  <thead>\n",
       "    <tr>\n",
       "      <th></th>\n",
       "      <th colspan=\"8\" halign=\"left\">activity_level</th>\n",
       "    </tr>\n",
       "    <tr>\n",
       "      <th></th>\n",
       "      <th>count</th>\n",
       "      <th>mean</th>\n",
       "      <th>std</th>\n",
       "      <th>min</th>\n",
       "      <th>25%</th>\n",
       "      <th>50%</th>\n",
       "      <th>75%</th>\n",
       "      <th>max</th>\n",
       "    </tr>\n",
       "    <tr>\n",
       "      <th>groupid</th>\n",
       "      <th></th>\n",
       "      <th></th>\n",
       "      <th></th>\n",
       "      <th></th>\n",
       "      <th></th>\n",
       "      <th></th>\n",
       "      <th></th>\n",
       "      <th></th>\n",
       "    </tr>\n",
       "  </thead>\n",
       "  <tbody>\n",
       "    <tr>\n",
       "      <th>0</th>\n",
       "      <td>928481.0</td>\n",
       "      <td>5.245635</td>\n",
       "      <td>6.521184</td>\n",
       "      <td>0.0</td>\n",
       "      <td>0.0</td>\n",
       "      <td>1.0</td>\n",
       "      <td>10.0</td>\n",
       "      <td>20.0</td>\n",
       "    </tr>\n",
       "    <tr>\n",
       "      <th>1</th>\n",
       "      <td>931519.0</td>\n",
       "      <td>5.240952</td>\n",
       "      <td>6.520811</td>\n",
       "      <td>0.0</td>\n",
       "      <td>0.0</td>\n",
       "      <td>1.0</td>\n",
       "      <td>10.0</td>\n",
       "      <td>20.0</td>\n",
       "    </tr>\n",
       "  </tbody>\n",
       "</table>\n",
       "</div>"
      ],
      "text/plain": [
       "        activity_level                                               \n",
       "                 count      mean       std  min  25%  50%   75%   max\n",
       "groupid                                                              \n",
       "0             928481.0  5.245635  6.521184  0.0  0.0  1.0  10.0  20.0\n",
       "1             931519.0  5.240952  6.520811  0.0  0.0  1.0  10.0  20.0"
      ]
     },
     "execution_count": 45,
     "metadata": {},
     "output_type": "execute_result"
    }
   ],
   "source": [
    "data_act.query('dt < \"2021-11-01\"').groupby('groupid').describe()"
   ]
  },
  {
   "cell_type": "code",
   "execution_count": 46,
   "id": "intensive-validity",
   "metadata": {},
   "outputs": [],
   "source": [
    "data_act_count = data_act.query('activity_level > 0').groupby(['groupid','dt']).count().reset_index()"
   ]
  },
  {
   "cell_type": "code",
   "execution_count": 47,
   "id": "identical-lightweight",
   "metadata": {},
   "outputs": [
    {
     "data": {
      "text/html": [
       "<div>\n",
       "<style scoped>\n",
       "    .dataframe tbody tr th:only-of-type {\n",
       "        vertical-align: middle;\n",
       "    }\n",
       "\n",
       "    .dataframe tbody tr th {\n",
       "        vertical-align: top;\n",
       "    }\n",
       "\n",
       "    .dataframe thead th {\n",
       "        text-align: right;\n",
       "    }\n",
       "</style>\n",
       "<table border=\"1\" class=\"dataframe\">\n",
       "  <thead>\n",
       "    <tr style=\"text-align: right;\">\n",
       "      <th></th>\n",
       "      <th>groupid</th>\n",
       "      <th>dt</th>\n",
       "      <th>userid</th>\n",
       "      <th>activity_level</th>\n",
       "    </tr>\n",
       "  </thead>\n",
       "  <tbody>\n",
       "    <tr>\n",
       "      <th>0</th>\n",
       "      <td>0</td>\n",
       "      <td>2021-10-01</td>\n",
       "      <td>15337</td>\n",
       "      <td>15337</td>\n",
       "    </tr>\n",
       "    <tr>\n",
       "      <th>1</th>\n",
       "      <td>0</td>\n",
       "      <td>2021-10-02</td>\n",
       "      <td>15354</td>\n",
       "      <td>15354</td>\n",
       "    </tr>\n",
       "    <tr>\n",
       "      <th>2</th>\n",
       "      <td>0</td>\n",
       "      <td>2021-10-03</td>\n",
       "      <td>15423</td>\n",
       "      <td>15423</td>\n",
       "    </tr>\n",
       "    <tr>\n",
       "      <th>3</th>\n",
       "      <td>0</td>\n",
       "      <td>2021-10-04</td>\n",
       "      <td>15211</td>\n",
       "      <td>15211</td>\n",
       "    </tr>\n",
       "    <tr>\n",
       "      <th>4</th>\n",
       "      <td>0</td>\n",
       "      <td>2021-10-05</td>\n",
       "      <td>15126</td>\n",
       "      <td>15126</td>\n",
       "    </tr>\n",
       "  </tbody>\n",
       "</table>\n",
       "</div>"
      ],
      "text/plain": [
       "   groupid          dt  userid  activity_level\n",
       "0        0  2021-10-01   15337           15337\n",
       "1        0  2021-10-02   15354           15354\n",
       "2        0  2021-10-03   15423           15423\n",
       "3        0  2021-10-04   15211           15211\n",
       "4        0  2021-10-05   15126           15126"
      ]
     },
     "execution_count": 47,
     "metadata": {},
     "output_type": "execute_result"
    }
   ],
   "source": [
    "data_act_count.head()"
   ]
  },
  {
   "cell_type": "code",
   "execution_count": 48,
   "id": "pending-ecuador",
   "metadata": {},
   "outputs": [
    {
     "data": {
      "text/html": [
       "\n",
       "<div id=\"altair-viz-7092bbbac43841e7921c88fac08d0fe5\"></div>\n",
       "<script type=\"text/javascript\">\n",
       "  var VEGA_DEBUG = (typeof VEGA_DEBUG == \"undefined\") ? {} : VEGA_DEBUG;\n",
       "  (function(spec, embedOpt){\n",
       "    let outputDiv = document.currentScript.previousElementSibling;\n",
       "    if (outputDiv.id !== \"altair-viz-7092bbbac43841e7921c88fac08d0fe5\") {\n",
       "      outputDiv = document.getElementById(\"altair-viz-7092bbbac43841e7921c88fac08d0fe5\");\n",
       "    }\n",
       "    const paths = {\n",
       "      \"vega\": \"https://cdn.jsdelivr.net/npm//vega@5?noext\",\n",
       "      \"vega-lib\": \"https://cdn.jsdelivr.net/npm//vega-lib?noext\",\n",
       "      \"vega-lite\": \"https://cdn.jsdelivr.net/npm//vega-lite@4.17.0?noext\",\n",
       "      \"vega-embed\": \"https://cdn.jsdelivr.net/npm//vega-embed@6?noext\",\n",
       "    };\n",
       "\n",
       "    function maybeLoadScript(lib, version) {\n",
       "      var key = `${lib.replace(\"-\", \"\")}_version`;\n",
       "      return (VEGA_DEBUG[key] == version) ?\n",
       "        Promise.resolve(paths[lib]) :\n",
       "        new Promise(function(resolve, reject) {\n",
       "          var s = document.createElement('script');\n",
       "          document.getElementsByTagName(\"head\")[0].appendChild(s);\n",
       "          s.async = true;\n",
       "          s.onload = () => {\n",
       "            VEGA_DEBUG[key] = version;\n",
       "            return resolve(paths[lib]);\n",
       "          };\n",
       "          s.onerror = () => reject(`Error loading script: ${paths[lib]}`);\n",
       "          s.src = paths[lib];\n",
       "        });\n",
       "    }\n",
       "\n",
       "    function showError(err) {\n",
       "      outputDiv.innerHTML = `<div class=\"error\" style=\"color:red;\">${err}</div>`;\n",
       "      throw err;\n",
       "    }\n",
       "\n",
       "    function displayChart(vegaEmbed) {\n",
       "      vegaEmbed(outputDiv, spec, embedOpt)\n",
       "        .catch(err => showError(`Javascript Error: ${err.message}<br>This usually means there's a typo in your chart specification. See the javascript console for the full traceback.`));\n",
       "    }\n",
       "\n",
       "    if(typeof define === \"function\" && define.amd) {\n",
       "      requirejs.config({paths});\n",
       "      require([\"vega-embed\"], displayChart, err => showError(`Error loading script: ${err.message}`));\n",
       "    } else {\n",
       "      maybeLoadScript(\"vega\", \"5\")\n",
       "        .then(() => maybeLoadScript(\"vega-lite\", \"4.17.0\"))\n",
       "        .then(() => maybeLoadScript(\"vega-embed\", \"6\"))\n",
       "        .catch(showError)\n",
       "        .then(() => displayChart(vegaEmbed));\n",
       "    }\n",
       "  })({\"config\": {\"view\": {\"continuousWidth\": 400, \"continuousHeight\": 300}}, \"data\": {\"name\": \"data-a44c901de9c1b29d7f517caf128d98a7\"}, \"mark\": {\"type\": \"line\", \"size\": 3}, \"encoding\": {\"color\": {\"field\": \"groupid\", \"type\": \"ordinal\"}, \"tooltip\": [{\"field\": \"userid\", \"type\": \"quantitative\"}], \"x\": {\"field\": \"dt\", \"type\": \"nominal\"}, \"y\": {\"field\": \"userid\", \"type\": \"quantitative\"}}, \"height\": 400, \"width\": 600, \"$schema\": \"https://vega.github.io/schema/vega-lite/v4.17.0.json\", \"datasets\": {\"data-a44c901de9c1b29d7f517caf128d98a7\": [{\"groupid\": 0, \"dt\": \"2021-10-01\", \"userid\": 15337, \"activity_level\": 15337}, {\"groupid\": 0, \"dt\": \"2021-10-02\", \"userid\": 15354, \"activity_level\": 15354}, {\"groupid\": 0, \"dt\": \"2021-10-03\", \"userid\": 15423, \"activity_level\": 15423}, {\"groupid\": 0, \"dt\": \"2021-10-04\", \"userid\": 15211, \"activity_level\": 15211}, {\"groupid\": 0, \"dt\": \"2021-10-05\", \"userid\": 15126, \"activity_level\": 15126}, {\"groupid\": 0, \"dt\": \"2021-10-06\", \"userid\": 15335, \"activity_level\": 15335}, {\"groupid\": 0, \"dt\": \"2021-10-07\", \"userid\": 15346, \"activity_level\": 15346}, {\"groupid\": 0, \"dt\": \"2021-10-08\", \"userid\": 15357, \"activity_level\": 15357}, {\"groupid\": 0, \"dt\": \"2021-10-09\", \"userid\": 15371, \"activity_level\": 15371}, {\"groupid\": 0, \"dt\": \"2021-10-10\", \"userid\": 15277, \"activity_level\": 15277}, {\"groupid\": 0, \"dt\": \"2021-10-11\", \"userid\": 15226, \"activity_level\": 15226}, {\"groupid\": 0, \"dt\": \"2021-10-12\", \"userid\": 15290, \"activity_level\": 15290}, {\"groupid\": 0, \"dt\": \"2021-10-13\", \"userid\": 15334, \"activity_level\": 15334}, {\"groupid\": 0, \"dt\": \"2021-10-14\", \"userid\": 15295, \"activity_level\": 15295}, {\"groupid\": 0, \"dt\": \"2021-10-15\", \"userid\": 15277, \"activity_level\": 15277}, {\"groupid\": 0, \"dt\": \"2021-10-16\", \"userid\": 15348, \"activity_level\": 15348}, {\"groupid\": 0, \"dt\": \"2021-10-17\", \"userid\": 15430, \"activity_level\": 15430}, {\"groupid\": 0, \"dt\": \"2021-10-18\", \"userid\": 15244, \"activity_level\": 15244}, {\"groupid\": 0, \"dt\": \"2021-10-19\", \"userid\": 15303, \"activity_level\": 15303}, {\"groupid\": 0, \"dt\": \"2021-10-20\", \"userid\": 15382, \"activity_level\": 15382}, {\"groupid\": 0, \"dt\": \"2021-10-21\", \"userid\": 15431, \"activity_level\": 15431}, {\"groupid\": 0, \"dt\": \"2021-10-22\", \"userid\": 15356, \"activity_level\": 15356}, {\"groupid\": 0, \"dt\": \"2021-10-23\", \"userid\": 15151, \"activity_level\": 15151}, {\"groupid\": 0, \"dt\": \"2021-10-24\", \"userid\": 15512, \"activity_level\": 15512}, {\"groupid\": 0, \"dt\": \"2021-10-25\", \"userid\": 15351, \"activity_level\": 15351}, {\"groupid\": 0, \"dt\": \"2021-10-26\", \"userid\": 15280, \"activity_level\": 15280}, {\"groupid\": 0, \"dt\": \"2021-10-27\", \"userid\": 15459, \"activity_level\": 15459}, {\"groupid\": 0, \"dt\": \"2021-10-28\", \"userid\": 15434, \"activity_level\": 15434}, {\"groupid\": 0, \"dt\": \"2021-10-29\", \"userid\": 15214, \"activity_level\": 15214}, {\"groupid\": 0, \"dt\": \"2021-10-30\", \"userid\": 15285, \"activity_level\": 15285}, {\"groupid\": 0, \"dt\": \"2021-10-31\", \"userid\": 15208, \"activity_level\": 15208}, {\"groupid\": 0, \"dt\": \"2021-11-01\", \"userid\": 15989, \"activity_level\": 15989}, {\"groupid\": 0, \"dt\": \"2021-11-02\", \"userid\": 16024, \"activity_level\": 16024}, {\"groupid\": 0, \"dt\": \"2021-11-03\", \"userid\": 16049, \"activity_level\": 16049}, {\"groupid\": 0, \"dt\": \"2021-11-04\", \"userid\": 16040, \"activity_level\": 16040}, {\"groupid\": 0, \"dt\": \"2021-11-05\", \"userid\": 16045, \"activity_level\": 16045}, {\"groupid\": 0, \"dt\": \"2021-11-06\", \"userid\": 15991, \"activity_level\": 15991}, {\"groupid\": 0, \"dt\": \"2021-11-07\", \"userid\": 16133, \"activity_level\": 16133}, {\"groupid\": 0, \"dt\": \"2021-11-08\", \"userid\": 16119, \"activity_level\": 16119}, {\"groupid\": 0, \"dt\": \"2021-11-09\", \"userid\": 15953, \"activity_level\": 15953}, {\"groupid\": 0, \"dt\": \"2021-11-10\", \"userid\": 15990, \"activity_level\": 15990}, {\"groupid\": 0, \"dt\": \"2021-11-11\", \"userid\": 16045, \"activity_level\": 16045}, {\"groupid\": 0, \"dt\": \"2021-11-12\", \"userid\": 15859, \"activity_level\": 15859}, {\"groupid\": 0, \"dt\": \"2021-11-13\", \"userid\": 15973, \"activity_level\": 15973}, {\"groupid\": 0, \"dt\": \"2021-11-14\", \"userid\": 16016, \"activity_level\": 16016}, {\"groupid\": 0, \"dt\": \"2021-11-15\", \"userid\": 16112, \"activity_level\": 16112}, {\"groupid\": 0, \"dt\": \"2021-11-16\", \"userid\": 16147, \"activity_level\": 16147}, {\"groupid\": 0, \"dt\": \"2021-11-17\", \"userid\": 16015, \"activity_level\": 16015}, {\"groupid\": 0, \"dt\": \"2021-11-18\", \"userid\": 16007, \"activity_level\": 16007}, {\"groupid\": 0, \"dt\": \"2021-11-19\", \"userid\": 16104, \"activity_level\": 16104}, {\"groupid\": 0, \"dt\": \"2021-11-20\", \"userid\": 16090, \"activity_level\": 16090}, {\"groupid\": 0, \"dt\": \"2021-11-21\", \"userid\": 15294, \"activity_level\": 15294}, {\"groupid\": 0, \"dt\": \"2021-11-22\", \"userid\": 15207, \"activity_level\": 15207}, {\"groupid\": 0, \"dt\": \"2021-11-23\", \"userid\": 15424, \"activity_level\": 15424}, {\"groupid\": 0, \"dt\": \"2021-11-24\", \"userid\": 15328, \"activity_level\": 15328}, {\"groupid\": 0, \"dt\": \"2021-11-25\", \"userid\": 15163, \"activity_level\": 15163}, {\"groupid\": 0, \"dt\": \"2021-11-26\", \"userid\": 15226, \"activity_level\": 15226}, {\"groupid\": 0, \"dt\": \"2021-11-27\", \"userid\": 15286, \"activity_level\": 15286}, {\"groupid\": 0, \"dt\": \"2021-11-28\", \"userid\": 15283, \"activity_level\": 15283}, {\"groupid\": 0, \"dt\": \"2021-11-29\", \"userid\": 15356, \"activity_level\": 15356}, {\"groupid\": 0, \"dt\": \"2021-11-30\", \"userid\": 15192, \"activity_level\": 15192}, {\"groupid\": 1, \"dt\": \"2021-10-01\", \"userid\": 15297, \"activity_level\": 15297}, {\"groupid\": 1, \"dt\": \"2021-10-02\", \"userid\": 15421, \"activity_level\": 15421}, {\"groupid\": 1, \"dt\": \"2021-10-03\", \"userid\": 15362, \"activity_level\": 15362}, {\"groupid\": 1, \"dt\": \"2021-10-04\", \"userid\": 15388, \"activity_level\": 15388}, {\"groupid\": 1, \"dt\": \"2021-10-05\", \"userid\": 15462, \"activity_level\": 15462}, {\"groupid\": 1, \"dt\": \"2021-10-06\", \"userid\": 15304, \"activity_level\": 15304}, {\"groupid\": 1, \"dt\": \"2021-10-07\", \"userid\": 15291, \"activity_level\": 15291}, {\"groupid\": 1, \"dt\": \"2021-10-08\", \"userid\": 15243, \"activity_level\": 15243}, {\"groupid\": 1, \"dt\": \"2021-10-09\", \"userid\": 15531, \"activity_level\": 15531}, {\"groupid\": 1, \"dt\": \"2021-10-10\", \"userid\": 15304, \"activity_level\": 15304}, {\"groupid\": 1, \"dt\": \"2021-10-11\", \"userid\": 15263, \"activity_level\": 15263}, {\"groupid\": 1, \"dt\": \"2021-10-12\", \"userid\": 15425, \"activity_level\": 15425}, {\"groupid\": 1, \"dt\": \"2021-10-13\", \"userid\": 15427, \"activity_level\": 15427}, {\"groupid\": 1, \"dt\": \"2021-10-14\", \"userid\": 15421, \"activity_level\": 15421}, {\"groupid\": 1, \"dt\": \"2021-10-15\", \"userid\": 15360, \"activity_level\": 15360}, {\"groupid\": 1, \"dt\": \"2021-10-16\", \"userid\": 15360, \"activity_level\": 15360}, {\"groupid\": 1, \"dt\": \"2021-10-17\", \"userid\": 15311, \"activity_level\": 15311}, {\"groupid\": 1, \"dt\": \"2021-10-18\", \"userid\": 15450, \"activity_level\": 15450}, {\"groupid\": 1, \"dt\": \"2021-10-19\", \"userid\": 15284, \"activity_level\": 15284}, {\"groupid\": 1, \"dt\": \"2021-10-20\", \"userid\": 15413, \"activity_level\": 15413}, {\"groupid\": 1, \"dt\": \"2021-10-21\", \"userid\": 15274, \"activity_level\": 15274}, {\"groupid\": 1, \"dt\": \"2021-10-22\", \"userid\": 15217, \"activity_level\": 15217}, {\"groupid\": 1, \"dt\": \"2021-10-23\", \"userid\": 15494, \"activity_level\": 15494}, {\"groupid\": 1, \"dt\": \"2021-10-24\", \"userid\": 15303, \"activity_level\": 15303}, {\"groupid\": 1, \"dt\": \"2021-10-25\", \"userid\": 15265, \"activity_level\": 15265}, {\"groupid\": 1, \"dt\": \"2021-10-26\", \"userid\": 15393, \"activity_level\": 15393}, {\"groupid\": 1, \"dt\": \"2021-10-27\", \"userid\": 15202, \"activity_level\": 15202}, {\"groupid\": 1, \"dt\": \"2021-10-28\", \"userid\": 15300, \"activity_level\": 15300}, {\"groupid\": 1, \"dt\": \"2021-10-29\", \"userid\": 15509, \"activity_level\": 15509}, {\"groupid\": 1, \"dt\": \"2021-10-30\", \"userid\": 15343, \"activity_level\": 15343}, {\"groupid\": 1, \"dt\": \"2021-10-31\", \"userid\": 15311, \"activity_level\": 15311}, {\"groupid\": 1, \"dt\": \"2021-11-01\", \"userid\": 29318, \"activity_level\": 29318}, {\"groupid\": 1, \"dt\": \"2021-11-02\", \"userid\": 29289, \"activity_level\": 29289}, {\"groupid\": 1, \"dt\": \"2021-11-03\", \"userid\": 29306, \"activity_level\": 29306}, {\"groupid\": 1, \"dt\": \"2021-11-04\", \"userid\": 29267, \"activity_level\": 29267}, {\"groupid\": 1, \"dt\": \"2021-11-05\", \"userid\": 29336, \"activity_level\": 29336}, {\"groupid\": 1, \"dt\": \"2021-11-06\", \"userid\": 29306, \"activity_level\": 29306}, {\"groupid\": 1, \"dt\": \"2021-11-07\", \"userid\": 29255, \"activity_level\": 29255}, {\"groupid\": 1, \"dt\": \"2021-11-08\", \"userid\": 29263, \"activity_level\": 29263}, {\"groupid\": 1, \"dt\": \"2021-11-09\", \"userid\": 29286, \"activity_level\": 29286}, {\"groupid\": 1, \"dt\": \"2021-11-10\", \"userid\": 29340, \"activity_level\": 29340}, {\"groupid\": 1, \"dt\": \"2021-11-11\", \"userid\": 29349, \"activity_level\": 29349}, {\"groupid\": 1, \"dt\": \"2021-11-12\", \"userid\": 29278, \"activity_level\": 29278}, {\"groupid\": 1, \"dt\": \"2021-11-13\", \"userid\": 29258, \"activity_level\": 29258}, {\"groupid\": 1, \"dt\": \"2021-11-14\", \"userid\": 29322, \"activity_level\": 29322}, {\"groupid\": 1, \"dt\": \"2021-11-15\", \"userid\": 29337, \"activity_level\": 29337}, {\"groupid\": 1, \"dt\": \"2021-11-16\", \"userid\": 29300, \"activity_level\": 29300}, {\"groupid\": 1, \"dt\": \"2021-11-17\", \"userid\": 29296, \"activity_level\": 29296}, {\"groupid\": 1, \"dt\": \"2021-11-18\", \"userid\": 29274, \"activity_level\": 29274}, {\"groupid\": 1, \"dt\": \"2021-11-19\", \"userid\": 29292, \"activity_level\": 29292}, {\"groupid\": 1, \"dt\": \"2021-11-20\", \"userid\": 29329, \"activity_level\": 29329}, {\"groupid\": 1, \"dt\": \"2021-11-21\", \"userid\": 29309, \"activity_level\": 29309}, {\"groupid\": 1, \"dt\": \"2021-11-22\", \"userid\": 29278, \"activity_level\": 29278}, {\"groupid\": 1, \"dt\": \"2021-11-23\", \"userid\": 29300, \"activity_level\": 29300}, {\"groupid\": 1, \"dt\": \"2021-11-24\", \"userid\": 29287, \"activity_level\": 29287}, {\"groupid\": 1, \"dt\": \"2021-11-25\", \"userid\": 29301, \"activity_level\": 29301}, {\"groupid\": 1, \"dt\": \"2021-11-26\", \"userid\": 29303, \"activity_level\": 29303}, {\"groupid\": 1, \"dt\": \"2021-11-27\", \"userid\": 29350, \"activity_level\": 29350}, {\"groupid\": 1, \"dt\": \"2021-11-28\", \"userid\": 29273, \"activity_level\": 29273}, {\"groupid\": 1, \"dt\": \"2021-11-29\", \"userid\": 29289, \"activity_level\": 29289}, {\"groupid\": 1, \"dt\": \"2021-11-30\", \"userid\": 29382, \"activity_level\": 29382}]}}, {\"mode\": \"vega-lite\"});\n",
       "</script>"
      ],
      "text/plain": [
       "alt.Chart(...)"
      ]
     },
     "execution_count": 48,
     "metadata": {},
     "output_type": "execute_result"
    }
   ],
   "source": [
    "alt.Chart(data_act_count).mark_line(size=3).encode(\n",
    "    alt.X('dt'),\n",
    "    alt.Y('userid'),\n",
    "    color='groupid:O',\n",
    "    tooltip=['userid']\n",
    ").properties(\n",
    "    width=600,\n",
    "    height=400\n",
    ")"
   ]
  },
  {
   "cell_type": "markdown",
   "id": "prime-appeal",
   "metadata": {},
   "source": [
    "### Comparing the activity between the groups"
   ]
  },
  {
   "cell_type": "code",
   "execution_count": 49,
   "id": "critical-application",
   "metadata": {},
   "outputs": [
    {
     "data": {
      "text/plain": [
       "array([ 0,  0,  0, ..., 20, 20, 20])"
      ]
     },
     "execution_count": 49,
     "metadata": {},
     "output_type": "execute_result"
    }
   ],
   "source": [
    "data_act.query('groupid == 0')['activity_level'].to_numpy()"
   ]
  },
  {
   "cell_type": "code",
   "execution_count": 50,
   "id": "respective-presentation",
   "metadata": {},
   "outputs": [
    {
     "name": "stdout",
     "output_type": "stream",
     "text": [
      "0.0\n"
     ]
    }
   ],
   "source": [
    "res = ttest_ind(data_act.query('groupid == 0 and dt >= \"2021-11-01\"')['activity_level'].to_numpy(),\n",
    "                data_act.query('groupid == 1 and dt >= \"2021-11-01\"')['activity_level'].to_numpy()).pvalue\n",
    "\n",
    "print(res)"
   ]
  },
  {
   "cell_type": "code",
   "execution_count": 51,
   "id": "damaged-parcel",
   "metadata": {},
   "outputs": [
    {
     "data": {
      "text/plain": [
       "'0.0000000000000000000000000000000000000000000000000000000000000000000000000000000000000000000000000000'"
      ]
     },
     "execution_count": 51,
     "metadata": {},
     "output_type": "execute_result"
    }
   ],
   "source": [
    "\"{:.100f}\".format(res)"
   ]
  },
  {
   "cell_type": "code",
   "execution_count": 52,
   "id": "cultural-princeton",
   "metadata": {},
   "outputs": [],
   "source": [
    "before = data_act_count.query('dt < \"2021-11-01\"')"
   ]
  },
  {
   "cell_type": "code",
   "execution_count": 53,
   "id": "pointed-holiday",
   "metadata": {},
   "outputs": [],
   "source": [
    "after = data_act_count.query('dt >= \"2021-11-01\"')"
   ]
  },
  {
   "cell_type": "code",
   "execution_count": 54,
   "id": "civic-affect",
   "metadata": {},
   "outputs": [
    {
     "data": {
      "text/html": [
       "<div>\n",
       "<style scoped>\n",
       "    .dataframe tbody tr th:only-of-type {\n",
       "        vertical-align: middle;\n",
       "    }\n",
       "\n",
       "    .dataframe tbody tr th {\n",
       "        vertical-align: top;\n",
       "    }\n",
       "\n",
       "    .dataframe thead th {\n",
       "        text-align: right;\n",
       "    }\n",
       "</style>\n",
       "<table border=\"1\" class=\"dataframe\">\n",
       "  <thead>\n",
       "    <tr style=\"text-align: right;\">\n",
       "      <th></th>\n",
       "      <th>groupid</th>\n",
       "      <th>dt</th>\n",
       "      <th>userid</th>\n",
       "      <th>activity_level</th>\n",
       "    </tr>\n",
       "  </thead>\n",
       "  <tbody>\n",
       "    <tr>\n",
       "      <th>0</th>\n",
       "      <td>0</td>\n",
       "      <td>2021-10-01</td>\n",
       "      <td>15337</td>\n",
       "      <td>15337</td>\n",
       "    </tr>\n",
       "    <tr>\n",
       "      <th>1</th>\n",
       "      <td>0</td>\n",
       "      <td>2021-10-02</td>\n",
       "      <td>15354</td>\n",
       "      <td>15354</td>\n",
       "    </tr>\n",
       "    <tr>\n",
       "      <th>2</th>\n",
       "      <td>0</td>\n",
       "      <td>2021-10-03</td>\n",
       "      <td>15423</td>\n",
       "      <td>15423</td>\n",
       "    </tr>\n",
       "    <tr>\n",
       "      <th>3</th>\n",
       "      <td>0</td>\n",
       "      <td>2021-10-04</td>\n",
       "      <td>15211</td>\n",
       "      <td>15211</td>\n",
       "    </tr>\n",
       "    <tr>\n",
       "      <th>4</th>\n",
       "      <td>0</td>\n",
       "      <td>2021-10-05</td>\n",
       "      <td>15126</td>\n",
       "      <td>15126</td>\n",
       "    </tr>\n",
       "  </tbody>\n",
       "</table>\n",
       "</div>"
      ],
      "text/plain": [
       "   groupid          dt  userid  activity_level\n",
       "0        0  2021-10-01   15337           15337\n",
       "1        0  2021-10-02   15354           15354\n",
       "2        0  2021-10-03   15423           15423\n",
       "3        0  2021-10-04   15211           15211\n",
       "4        0  2021-10-05   15126           15126"
      ]
     },
     "execution_count": 54,
     "metadata": {},
     "output_type": "execute_result"
    }
   ],
   "source": [
    "before.head()"
   ]
  },
  {
   "cell_type": "code",
   "execution_count": 55,
   "id": "attached-delicious",
   "metadata": {},
   "outputs": [
    {
     "data": {
      "text/plain": [
       "15320.870967741936"
      ]
     },
     "execution_count": 55,
     "metadata": {},
     "output_type": "execute_result"
    }
   ],
   "source": [
    "np.mean(before.query('groupid == 0')['userid'].to_numpy())"
   ]
  },
  {
   "cell_type": "code",
   "execution_count": 56,
   "id": "killing-housing",
   "metadata": {},
   "outputs": [
    {
     "data": {
      "text/plain": [
       "15352.516129032258"
      ]
     },
     "execution_count": 56,
     "metadata": {},
     "output_type": "execute_result"
    }
   ],
   "source": [
    "np.mean(before.query('groupid == 1')['userid'].to_numpy())"
   ]
  },
  {
   "cell_type": "code",
   "execution_count": 57,
   "id": "further-contributor",
   "metadata": {},
   "outputs": [
    {
     "name": "stdout",
     "output_type": "stream",
     "text": [
      "0.1630842353828083\n"
     ]
    }
   ],
   "source": [
    "res = ttest_ind(before.query('groupid == 0')['userid'].to_numpy(), before.query('groupid == 1')['userid']\n",
    "                .to_numpy()).pvalue\n",
    "\n",
    "print(res)"
   ]
  },
  {
   "cell_type": "code",
   "execution_count": 58,
   "id": "attractive-supervisor",
   "metadata": {},
   "outputs": [
    {
     "data": {
      "text/plain": [
       "'0.1630842353828083068911780628695851191878318786621093750000000000000000000000000000000000000000000000'"
      ]
     },
     "execution_count": 58,
     "metadata": {},
     "output_type": "execute_result"
    }
   ],
   "source": [
    "\"{:.100f}\".format(res)"
   ]
  },
  {
   "cell_type": "code",
   "execution_count": 59,
   "id": "french-experiment",
   "metadata": {},
   "outputs": [
    {
     "data": {
      "text/plain": [
       "15782.0"
      ]
     },
     "execution_count": 59,
     "metadata": {},
     "output_type": "execute_result"
    }
   ],
   "source": [
    "np.mean(after.query('groupid == 0')['userid'].to_numpy())"
   ]
  },
  {
   "cell_type": "code",
   "execution_count": 60,
   "id": "external-broadcast",
   "metadata": {},
   "outputs": [
    {
     "data": {
      "text/plain": [
       "29302.433333333334"
      ]
     },
     "execution_count": 60,
     "metadata": {},
     "output_type": "execute_result"
    }
   ],
   "source": [
    "np.mean(after.query('groupid == 1')['userid'].to_numpy())"
   ]
  },
  {
   "cell_type": "code",
   "execution_count": 61,
   "id": "operating-delight",
   "metadata": {},
   "outputs": [
    {
     "name": "stdout",
     "output_type": "stream",
     "text": [
      "6.590603584107244e-84\n"
     ]
    }
   ],
   "source": [
    "res = ttest_ind(after.query('groupid == 0')['userid'].to_numpy(), after.query('groupid == 1')['userid']\n",
    "                .to_numpy()).pvalue\n",
    "\n",
    "print(res)"
   ]
  },
  {
   "cell_type": "code",
   "execution_count": 62,
   "id": "weird-joint",
   "metadata": {},
   "outputs": [
    {
     "data": {
      "text/plain": [
       "'0.0000000000000000000000000000000000000000000000000000000000000000000000000000000000065906035841072442'"
      ]
     },
     "execution_count": 62,
     "metadata": {},
     "output_type": "execute_result"
    }
   ],
   "source": [
    "\"{:.100f}\".format(res)"
   ]
  },
  {
   "cell_type": "markdown",
   "id": "banner-cocktail",
   "metadata": {},
   "source": [
    "### Click through rate (CTR)"
   ]
  },
  {
   "cell_type": "code",
   "execution_count": 63,
   "id": "chinese-transportation",
   "metadata": {},
   "outputs": [],
   "source": [
    "data_ctr = pd.read_csv(\"data/Ctr_all.csv\")"
   ]
  },
  {
   "cell_type": "code",
   "execution_count": 64,
   "id": "superior-guyana",
   "metadata": {},
   "outputs": [
    {
     "data": {
      "text/html": [
       "<div>\n",
       "<style scoped>\n",
       "    .dataframe tbody tr th:only-of-type {\n",
       "        vertical-align: middle;\n",
       "    }\n",
       "\n",
       "    .dataframe tbody tr th {\n",
       "        vertical-align: top;\n",
       "    }\n",
       "\n",
       "    .dataframe thead th {\n",
       "        text-align: right;\n",
       "    }\n",
       "</style>\n",
       "<table border=\"1\" class=\"dataframe\">\n",
       "  <thead>\n",
       "    <tr style=\"text-align: right;\">\n",
       "      <th></th>\n",
       "      <th>userid</th>\n",
       "      <th>dt</th>\n",
       "      <th>groupid</th>\n",
       "      <th>ctr</th>\n",
       "    </tr>\n",
       "  </thead>\n",
       "  <tbody>\n",
       "    <tr>\n",
       "      <th>0</th>\n",
       "      <td>60389fa7-2d71-4cdf-831c-c2bb277ffa1e</td>\n",
       "      <td>2021-11-13</td>\n",
       "      <td>0</td>\n",
       "      <td>31.81</td>\n",
       "    </tr>\n",
       "    <tr>\n",
       "      <th>1</th>\n",
       "      <td>b59cb225-d160-4851-92d2-7cc8120a2f63</td>\n",
       "      <td>2021-11-13</td>\n",
       "      <td>0</td>\n",
       "      <td>30.46</td>\n",
       "    </tr>\n",
       "    <tr>\n",
       "      <th>2</th>\n",
       "      <td>aa336050-934e-453f-a5b0-dd881fcd114e</td>\n",
       "      <td>2021-11-13</td>\n",
       "      <td>0</td>\n",
       "      <td>34.25</td>\n",
       "    </tr>\n",
       "    <tr>\n",
       "      <th>3</th>\n",
       "      <td>8df767f4-a10f-4322-a722-676b7e02b372</td>\n",
       "      <td>2021-11-13</td>\n",
       "      <td>0</td>\n",
       "      <td>34.92</td>\n",
       "    </tr>\n",
       "    <tr>\n",
       "      <th>4</th>\n",
       "      <td>a74762ed-4da0-42ab-91d2-40d7e808dfe9</td>\n",
       "      <td>2021-11-13</td>\n",
       "      <td>0</td>\n",
       "      <td>34.95</td>\n",
       "    </tr>\n",
       "  </tbody>\n",
       "</table>\n",
       "</div>"
      ],
      "text/plain": [
       "                                 userid          dt  groupid    ctr\n",
       "0  60389fa7-2d71-4cdf-831c-c2bb277ffa1e  2021-11-13        0  31.81\n",
       "1  b59cb225-d160-4851-92d2-7cc8120a2f63  2021-11-13        0  30.46\n",
       "2  aa336050-934e-453f-a5b0-dd881fcd114e  2021-11-13        0  34.25\n",
       "3  8df767f4-a10f-4322-a722-676b7e02b372  2021-11-13        0  34.92\n",
       "4  a74762ed-4da0-42ab-91d2-40d7e808dfe9  2021-11-13        0  34.95"
      ]
     },
     "execution_count": 64,
     "metadata": {},
     "output_type": "execute_result"
    }
   ],
   "source": [
    "data_ctr.head()"
   ]
  },
  {
   "cell_type": "code",
   "execution_count": 65,
   "id": "printable-mercury",
   "metadata": {},
   "outputs": [],
   "source": [
    "data_ctr_avg = data_ctr.groupby(['groupid','dt']).mean().reset_index()"
   ]
  },
  {
   "cell_type": "code",
   "execution_count": 66,
   "id": "reliable-wallpaper",
   "metadata": {},
   "outputs": [
    {
     "data": {
      "text/html": [
       "\n",
       "<div id=\"altair-viz-29dd6f79458240f5b767863300e74fde\"></div>\n",
       "<script type=\"text/javascript\">\n",
       "  var VEGA_DEBUG = (typeof VEGA_DEBUG == \"undefined\") ? {} : VEGA_DEBUG;\n",
       "  (function(spec, embedOpt){\n",
       "    let outputDiv = document.currentScript.previousElementSibling;\n",
       "    if (outputDiv.id !== \"altair-viz-29dd6f79458240f5b767863300e74fde\") {\n",
       "      outputDiv = document.getElementById(\"altair-viz-29dd6f79458240f5b767863300e74fde\");\n",
       "    }\n",
       "    const paths = {\n",
       "      \"vega\": \"https://cdn.jsdelivr.net/npm//vega@5?noext\",\n",
       "      \"vega-lib\": \"https://cdn.jsdelivr.net/npm//vega-lib?noext\",\n",
       "      \"vega-lite\": \"https://cdn.jsdelivr.net/npm//vega-lite@4.17.0?noext\",\n",
       "      \"vega-embed\": \"https://cdn.jsdelivr.net/npm//vega-embed@6?noext\",\n",
       "    };\n",
       "\n",
       "    function maybeLoadScript(lib, version) {\n",
       "      var key = `${lib.replace(\"-\", \"\")}_version`;\n",
       "      return (VEGA_DEBUG[key] == version) ?\n",
       "        Promise.resolve(paths[lib]) :\n",
       "        new Promise(function(resolve, reject) {\n",
       "          var s = document.createElement('script');\n",
       "          document.getElementsByTagName(\"head\")[0].appendChild(s);\n",
       "          s.async = true;\n",
       "          s.onload = () => {\n",
       "            VEGA_DEBUG[key] = version;\n",
       "            return resolve(paths[lib]);\n",
       "          };\n",
       "          s.onerror = () => reject(`Error loading script: ${paths[lib]}`);\n",
       "          s.src = paths[lib];\n",
       "        });\n",
       "    }\n",
       "\n",
       "    function showError(err) {\n",
       "      outputDiv.innerHTML = `<div class=\"error\" style=\"color:red;\">${err}</div>`;\n",
       "      throw err;\n",
       "    }\n",
       "\n",
       "    function displayChart(vegaEmbed) {\n",
       "      vegaEmbed(outputDiv, spec, embedOpt)\n",
       "        .catch(err => showError(`Javascript Error: ${err.message}<br>This usually means there's a typo in your chart specification. See the javascript console for the full traceback.`));\n",
       "    }\n",
       "\n",
       "    if(typeof define === \"function\" && define.amd) {\n",
       "      requirejs.config({paths});\n",
       "      require([\"vega-embed\"], displayChart, err => showError(`Error loading script: ${err.message}`));\n",
       "    } else {\n",
       "      maybeLoadScript(\"vega\", \"5\")\n",
       "        .then(() => maybeLoadScript(\"vega-lite\", \"4.17.0\"))\n",
       "        .then(() => maybeLoadScript(\"vega-embed\", \"6\"))\n",
       "        .catch(showError)\n",
       "        .then(() => displayChart(vegaEmbed));\n",
       "    }\n",
       "  })({\"config\": {\"view\": {\"continuousWidth\": 400, \"continuousHeight\": 300}}, \"data\": {\"name\": \"data-e0be200930fbb729ae13c343bca8e40e\"}, \"mark\": {\"type\": \"line\", \"size\": 5}, \"encoding\": {\"color\": {\"field\": \"groupid\", \"type\": \"ordinal\"}, \"tooltip\": [{\"field\": \"ctr\", \"type\": \"quantitative\"}], \"x\": {\"field\": \"dt\", \"type\": \"nominal\"}, \"y\": {\"field\": \"ctr\", \"type\": \"quantitative\"}}, \"height\": 400, \"width\": 600, \"$schema\": \"https://vega.github.io/schema/vega-lite/v4.17.0.json\", \"datasets\": {\"data-e0be200930fbb729ae13c343bca8e40e\": [{\"groupid\": 0, \"dt\": \"2021-10-01\", \"ctr\": 32.98062658929371}, {\"groupid\": 0, \"dt\": \"2021-10-02\", \"ctr\": 33.004056271981234}, {\"groupid\": 0, \"dt\": \"2021-10-03\", \"ctr\": 33.0020060947936}, {\"groupid\": 0, \"dt\": \"2021-10-04\", \"ctr\": 32.990362895273066}, {\"groupid\": 0, \"dt\": \"2021-10-05\", \"ctr\": 33.01416699722343}, {\"groupid\": 0, \"dt\": \"2021-10-06\", \"ctr\": 33.021660254320075}, {\"groupid\": 0, \"dt\": \"2021-10-07\", \"ctr\": 32.976365828228936}, {\"groupid\": 0, \"dt\": \"2021-10-08\", \"ctr\": 33.0039545484145}, {\"groupid\": 0, \"dt\": \"2021-10-09\", \"ctr\": 33.02420792401281}, {\"groupid\": 0, \"dt\": \"2021-10-10\", \"ctr\": 33.002929240034184}, {\"groupid\": 0, \"dt\": \"2021-10-11\", \"ctr\": 32.990675817680405}, {\"groupid\": 0, \"dt\": \"2021-10-12\", \"ctr\": 32.982114453891505}, {\"groupid\": 0, \"dt\": \"2021-10-13\", \"ctr\": 33.004143080735766}, {\"groupid\": 0, \"dt\": \"2021-10-14\", \"ctr\": 32.993527950310565}, {\"groupid\": 0, \"dt\": \"2021-10-15\", \"ctr\": 33.01448648294823}, {\"groupid\": 0, \"dt\": \"2021-10-16\", \"ctr\": 32.9912092780816}, {\"groupid\": 0, \"dt\": \"2021-10-17\", \"ctr\": 32.99438820479574}, {\"groupid\": 0, \"dt\": \"2021-10-18\", \"ctr\": 33.00145237470472}, {\"groupid\": 0, \"dt\": \"2021-10-19\", \"ctr\": 33.0104306345158}, {\"groupid\": 0, \"dt\": \"2021-10-20\", \"ctr\": 32.99715316603806}, {\"groupid\": 0, \"dt\": \"2021-10-21\", \"ctr\": 32.99495625688531}, {\"groupid\": 0, \"dt\": \"2021-10-22\", \"ctr\": 33.00783732742913}, {\"groupid\": 0, \"dt\": \"2021-10-23\", \"ctr\": 33.021303544320325}, {\"groupid\": 0, \"dt\": \"2021-10-24\", \"ctr\": 32.96157039711183}, {\"groupid\": 0, \"dt\": \"2021-10-25\", \"ctr\": 32.99738583805607}, {\"groupid\": 0, \"dt\": \"2021-10-26\", \"ctr\": 33.0277552356022}, {\"groupid\": 0, \"dt\": \"2021-10-27\", \"ctr\": 33.008124070121056}, {\"groupid\": 0, \"dt\": \"2021-10-28\", \"ctr\": 33.005680316185256}, {\"groupid\": 0, \"dt\": \"2021-10-29\", \"ctr\": 33.000551465755386}, {\"groupid\": 0, \"dt\": \"2021-10-30\", \"ctr\": 33.00005822701998}, {\"groupid\": 0, \"dt\": \"2021-10-31\", \"ctr\": 33.003953840084066}, {\"groupid\": 0, \"dt\": \"2021-11-01\", \"ctr\": 32.9826712114577}, {\"groupid\": 0, \"dt\": \"2021-11-02\", \"ctr\": 33.014983150274716}, {\"groupid\": 0, \"dt\": \"2021-11-03\", \"ctr\": 33.00826842793945}, {\"groupid\": 0, \"dt\": \"2021-11-04\", \"ctr\": 32.98667892768071}, {\"groupid\": 0, \"dt\": \"2021-11-05\", \"ctr\": 33.00476597070749}, {\"groupid\": 0, \"dt\": \"2021-11-06\", \"ctr\": 32.99832218122681}, {\"groupid\": 0, \"dt\": \"2021-11-07\", \"ctr\": 33.00622760800831}, {\"groupid\": 0, \"dt\": \"2021-11-08\", \"ctr\": 32.990778584279354}, {\"groupid\": 0, \"dt\": \"2021-11-09\", \"ctr\": 33.02102488560143}, {\"groupid\": 0, \"dt\": \"2021-11-10\", \"ctr\": 32.993290806754324}, {\"groupid\": 0, \"dt\": \"2021-11-11\", \"ctr\": 33.00973761296358}, {\"groupid\": 0, \"dt\": \"2021-11-12\", \"ctr\": 32.986697143577814}, {\"groupid\": 0, \"dt\": \"2021-11-13\", \"ctr\": 32.980937832592645}, {\"groupid\": 0, \"dt\": \"2021-11-14\", \"ctr\": 33.02297639860124}, {\"groupid\": 0, \"dt\": \"2021-11-15\", \"ctr\": 32.981539846077354}, {\"groupid\": 0, \"dt\": \"2021-11-16\", \"ctr\": 32.992757168514345}, {\"groupid\": 0, \"dt\": \"2021-11-17\", \"ctr\": 32.98997876990308}, {\"groupid\": 0, \"dt\": \"2021-11-18\", \"ctr\": 32.99806209783215}, {\"groupid\": 0, \"dt\": \"2021-11-19\", \"ctr\": 32.99927657724788}, {\"groupid\": 0, \"dt\": \"2021-11-20\", \"ctr\": 32.98435487880667}, {\"groupid\": 0, \"dt\": \"2021-11-21\", \"ctr\": 33.01392049169605}, {\"groupid\": 0, \"dt\": \"2021-11-22\", \"ctr\": 33.00616097849682}, {\"groupid\": 0, \"dt\": \"2021-11-23\", \"ctr\": 32.992649118257226}, {\"groupid\": 0, \"dt\": \"2021-11-24\", \"ctr\": 32.9959498956157}, {\"groupid\": 0, \"dt\": \"2021-11-25\", \"ctr\": 32.97369649805454}, {\"groupid\": 0, \"dt\": \"2021-11-26\", \"ctr\": 32.983067122027975}, {\"groupid\": 0, \"dt\": \"2021-11-27\", \"ctr\": 32.99894216930533}, {\"groupid\": 0, \"dt\": \"2021-11-28\", \"ctr\": 32.994946672773814}, {\"groupid\": 0, \"dt\": \"2021-11-29\", \"ctr\": 33.00110054701749}, {\"groupid\": 0, \"dt\": \"2021-11-30\", \"ctr\": 32.994725513428044}, {\"groupid\": 1, \"dt\": \"2021-10-01\", \"ctr\": 33.00629862064463}, {\"groupid\": 1, \"dt\": \"2021-10-02\", \"ctr\": 32.97932624343435}, {\"groupid\": 1, \"dt\": \"2021-10-03\", \"ctr\": 32.9881389142038}, {\"groupid\": 1, \"dt\": \"2021-10-04\", \"ctr\": 32.995595918897834}, {\"groupid\": 1, \"dt\": \"2021-10-05\", \"ctr\": 32.99479627473818}, {\"groupid\": 1, \"dt\": \"2021-10-06\", \"ctr\": 33.01546131730275}, {\"groupid\": 1, \"dt\": \"2021-10-07\", \"ctr\": 33.000677522725795}, {\"groupid\": 1, \"dt\": \"2021-10-08\", \"ctr\": 32.9933129961294}, {\"groupid\": 1, \"dt\": \"2021-10-09\", \"ctr\": 32.986152211705566}, {\"groupid\": 1, \"dt\": \"2021-10-10\", \"ctr\": 33.011332331416696}, {\"groupid\": 1, \"dt\": \"2021-10-11\", \"ctr\": 32.98992596475156}, {\"groupid\": 1, \"dt\": \"2021-10-12\", \"ctr\": 33.010095299837865}, {\"groupid\": 1, \"dt\": \"2021-10-13\", \"ctr\": 32.96447332598687}, {\"groupid\": 1, \"dt\": \"2021-10-14\", \"ctr\": 33.00617599377462}, {\"groupid\": 1, \"dt\": \"2021-10-15\", \"ctr\": 33.002580729166404}, {\"groupid\": 1, \"dt\": \"2021-10-16\", \"ctr\": 32.990841796874975}, {\"groupid\": 1, \"dt\": \"2021-10-17\", \"ctr\": 33.00950754359615}, {\"groupid\": 1, \"dt\": \"2021-10-18\", \"ctr\": 33.01399029126219}, {\"groupid\": 1, \"dt\": \"2021-10-19\", \"ctr\": 32.99257982203611}, {\"groupid\": 1, \"dt\": \"2021-10-20\", \"ctr\": 33.012096282359025}, {\"groupid\": 1, \"dt\": \"2021-10-21\", \"ctr\": 33.00020230456986}, {\"groupid\": 1, \"dt\": \"2021-10-22\", \"ctr\": 33.00572320431104}, {\"groupid\": 1, \"dt\": \"2021-10-23\", \"ctr\": 33.00335355621536}, {\"groupid\": 1, \"dt\": \"2021-10-24\", \"ctr\": 33.00692347905626}, {\"groupid\": 1, \"dt\": \"2021-10-25\", \"ctr\": 32.98301932525378}, {\"groupid\": 1, \"dt\": \"2021-10-26\", \"ctr\": 33.00083999220427}, {\"groupid\": 1, \"dt\": \"2021-10-27\", \"ctr\": 33.005947901591796}, {\"groupid\": 1, \"dt\": \"2021-10-28\", \"ctr\": 33.00574117647072}, {\"groupid\": 1, \"dt\": \"2021-10-29\", \"ctr\": 33.007838674318116}, {\"groupid\": 1, \"dt\": \"2021-10-30\", \"ctr\": 33.03274001173185}, {\"groupid\": 1, \"dt\": \"2021-10-31\", \"ctr\": 32.971186728495844}, {\"groupid\": 1, \"dt\": \"2021-11-01\", \"ctr\": 37.994618664301846}, {\"groupid\": 1, \"dt\": \"2021-11-02\", \"ctr\": 38.013656321485826}, {\"groupid\": 1, \"dt\": \"2021-11-03\", \"ctr\": 37.99556200095556}, {\"groupid\": 1, \"dt\": \"2021-11-04\", \"ctr\": 37.98851163426391}, {\"groupid\": 1, \"dt\": \"2021-11-05\", \"ctr\": 38.00281565312202}, {\"groupid\": 1, \"dt\": \"2021-11-06\", \"ctr\": 38.01312666348194}, {\"groupid\": 1, \"dt\": \"2021-11-07\", \"ctr\": 37.995762433772164}, {\"groupid\": 1, \"dt\": \"2021-11-08\", \"ctr\": 37.99487099750537}, {\"groupid\": 1, \"dt\": \"2021-11-09\", \"ctr\": 38.01321723690501}, {\"groupid\": 1, \"dt\": \"2021-11-10\", \"ctr\": 37.9900589638718}, {\"groupid\": 1, \"dt\": \"2021-11-11\", \"ctr\": 37.994286006337546}, {\"groupid\": 1, \"dt\": \"2021-11-12\", \"ctr\": 37.99615957374138}, {\"groupid\": 1, \"dt\": \"2021-11-13\", \"ctr\": 38.00407307403119}, {\"groupid\": 1, \"dt\": \"2021-11-14\", \"ctr\": 38.00210456312674}, {\"groupid\": 1, \"dt\": \"2021-11-15\", \"ctr\": 37.993792480485155}, {\"groupid\": 1, \"dt\": \"2021-11-16\", \"ctr\": 38.00073617747436}, {\"groupid\": 1, \"dt\": \"2021-11-17\", \"ctr\": 38.01606465046416}, {\"groupid\": 1, \"dt\": \"2021-11-18\", \"ctr\": 38.0005978000959}, {\"groupid\": 1, \"dt\": \"2021-11-19\", \"ctr\": 37.993725931994945}, {\"groupid\": 1, \"dt\": \"2021-11-20\", \"ctr\": 37.99248218486847}, {\"groupid\": 1, \"dt\": \"2021-11-21\", \"ctr\": 37.99136715684619}, {\"groupid\": 1, \"dt\": \"2021-11-22\", \"ctr\": 37.991269895484486}, {\"groupid\": 1, \"dt\": \"2021-11-23\", \"ctr\": 37.99545767918087}, {\"groupid\": 1, \"dt\": \"2021-11-24\", \"ctr\": 37.98753166934105}, {\"groupid\": 1, \"dt\": \"2021-11-25\", \"ctr\": 37.99161564451733}, {\"groupid\": 1, \"dt\": \"2021-11-26\", \"ctr\": 37.99783435143144}, {\"groupid\": 1, \"dt\": \"2021-11-27\", \"ctr\": 37.978912095400084}, {\"groupid\": 1, \"dt\": \"2021-11-28\", \"ctr\": 37.992709322584076}, {\"groupid\": 1, \"dt\": \"2021-11-29\", \"ctr\": 37.98790911263607}, {\"groupid\": 1, \"dt\": \"2021-11-30\", \"ctr\": 37.997982097883224}]}}, {\"mode\": \"vega-lite\"});\n",
       "</script>"
      ],
      "text/plain": [
       "alt.Chart(...)"
      ]
     },
     "execution_count": 66,
     "metadata": {},
     "output_type": "execute_result"
    }
   ],
   "source": [
    "alt.Chart(data_ctr_avg).mark_line(size=5).encode(\n",
    "    alt.X('dt'),\n",
    "    alt.Y('ctr'),\n",
    "    color='groupid:O',\n",
    "    tooltip=['ctr']\n",
    ").properties(\n",
    "    width=600,\n",
    "    height=400\n",
    ")"
   ]
  },
  {
   "cell_type": "code",
   "execution_count": 67,
   "id": "binding-carol",
   "metadata": {},
   "outputs": [],
   "source": [
    "before = data_ctr.query('dt < \"2021-11-01\"')[['groupid', 'ctr']]"
   ]
  },
  {
   "cell_type": "code",
   "execution_count": 68,
   "id": "behavioral-biodiversity",
   "metadata": {},
   "outputs": [],
   "source": [
    "after = data_ctr.query('dt >= \"2021-11-01\"')[['groupid', 'ctr']]"
   ]
  },
  {
   "cell_type": "code",
   "execution_count": 69,
   "id": "aquatic-butter",
   "metadata": {},
   "outputs": [
    {
     "data": {
      "text/html": [
       "<div>\n",
       "<style scoped>\n",
       "    .dataframe tbody tr th:only-of-type {\n",
       "        vertical-align: middle;\n",
       "    }\n",
       "\n",
       "    .dataframe tbody tr th {\n",
       "        vertical-align: top;\n",
       "    }\n",
       "\n",
       "    .dataframe thead th {\n",
       "        text-align: right;\n",
       "    }\n",
       "</style>\n",
       "<table border=\"1\" class=\"dataframe\">\n",
       "  <thead>\n",
       "    <tr style=\"text-align: right;\">\n",
       "      <th></th>\n",
       "      <th>groupid</th>\n",
       "      <th>ctr</th>\n",
       "    </tr>\n",
       "  </thead>\n",
       "  <tbody>\n",
       "    <tr>\n",
       "      <th>0</th>\n",
       "      <td>0</td>\n",
       "      <td>31.81</td>\n",
       "    </tr>\n",
       "    <tr>\n",
       "      <th>1</th>\n",
       "      <td>0</td>\n",
       "      <td>30.46</td>\n",
       "    </tr>\n",
       "    <tr>\n",
       "      <th>2</th>\n",
       "      <td>0</td>\n",
       "      <td>34.25</td>\n",
       "    </tr>\n",
       "    <tr>\n",
       "      <th>3</th>\n",
       "      <td>0</td>\n",
       "      <td>34.92</td>\n",
       "    </tr>\n",
       "    <tr>\n",
       "      <th>4</th>\n",
       "      <td>0</td>\n",
       "      <td>34.95</td>\n",
       "    </tr>\n",
       "    <tr>\n",
       "      <th>...</th>\n",
       "      <td>...</td>\n",
       "      <td>...</td>\n",
       "    </tr>\n",
       "    <tr>\n",
       "      <th>2303403</th>\n",
       "      <td>1</td>\n",
       "      <td>37.27</td>\n",
       "    </tr>\n",
       "    <tr>\n",
       "      <th>2303404</th>\n",
       "      <td>1</td>\n",
       "      <td>39.14</td>\n",
       "    </tr>\n",
       "    <tr>\n",
       "      <th>2303405</th>\n",
       "      <td>1</td>\n",
       "      <td>40.05</td>\n",
       "    </tr>\n",
       "    <tr>\n",
       "      <th>2303406</th>\n",
       "      <td>1</td>\n",
       "      <td>38.14</td>\n",
       "    </tr>\n",
       "    <tr>\n",
       "      <th>2303407</th>\n",
       "      <td>1</td>\n",
       "      <td>37.98</td>\n",
       "    </tr>\n",
       "  </tbody>\n",
       "</table>\n",
       "<p>1352533 rows × 2 columns</p>\n",
       "</div>"
      ],
      "text/plain": [
       "         groupid    ctr\n",
       "0              0  31.81\n",
       "1              0  30.46\n",
       "2              0  34.25\n",
       "3              0  34.92\n",
       "4              0  34.95\n",
       "...          ...    ...\n",
       "2303403        1  37.27\n",
       "2303404        1  39.14\n",
       "2303405        1  40.05\n",
       "2303406        1  38.14\n",
       "2303407        1  37.98\n",
       "\n",
       "[1352533 rows x 2 columns]"
      ]
     },
     "execution_count": 69,
     "metadata": {},
     "output_type": "execute_result"
    }
   ],
   "source": [
    "after"
   ]
  },
  {
   "cell_type": "code",
   "execution_count": 70,
   "id": "e361078c-b856-4c7a-b309-647135e7a5dd",
   "metadata": {
    "scrolled": true
   },
   "outputs": [
    {
     "data": {
      "text/plain": [
       "33.00091277553074"
      ]
     },
     "execution_count": 70,
     "metadata": {},
     "output_type": "execute_result"
    }
   ],
   "source": [
    "before.query('groupid == 0')['ctr'].to_numpy().mean()"
   ]
  },
  {
   "cell_type": "code",
   "execution_count": 71,
   "id": "b93896aa-f0a5-44fd-ae37-8833fc15eefb",
   "metadata": {},
   "outputs": [
    {
     "data": {
      "text/plain": [
       "32.99957172093258"
      ]
     },
     "execution_count": 71,
     "metadata": {},
     "output_type": "execute_result"
    }
   ],
   "source": [
    "before.query('groupid == 1')['ctr'].to_numpy().mean()"
   ]
  },
  {
   "cell_type": "code",
   "execution_count": 72,
   "id": "30b93d91-cac5-4d48-82c2-a9920d838706",
   "metadata": {},
   "outputs": [
    {
     "data": {
      "text/plain": [
       "32.996977569382835"
      ]
     },
     "execution_count": 72,
     "metadata": {},
     "output_type": "execute_result"
    }
   ],
   "source": [
    "after.query('groupid == 0')['ctr'].to_numpy().mean()"
   ]
  },
  {
   "cell_type": "code",
   "execution_count": 73,
   "id": "a602b9c2-1c9d-45cc-bc4c-55d28278d151",
   "metadata": {},
   "outputs": [
    {
     "data": {
      "text/plain": [
       "37.99695912626142"
      ]
     },
     "execution_count": 73,
     "metadata": {},
     "output_type": "execute_result"
    }
   ],
   "source": [
    "after.query('groupid == 1')['ctr'].to_numpy().mean()"
   ]
  },
  {
   "cell_type": "code",
   "execution_count": 74,
   "id": "d974c618-7579-4a7c-b461-e0d44da05b3d",
   "metadata": {},
   "outputs": [
    {
     "data": {
      "text/plain": [
       "1.7336979501682888"
      ]
     },
     "execution_count": 74,
     "metadata": {},
     "output_type": "execute_result"
    }
   ],
   "source": [
    "before.query('groupid == 0')['ctr'].to_numpy().std()"
   ]
  },
  {
   "cell_type": "code",
   "execution_count": 75,
   "id": "00e401b9-6985-4e8d-8c22-085a6b5a90bf",
   "metadata": {},
   "outputs": [
    {
     "data": {
      "text/plain": [
       "1.7296548367391134"
      ]
     },
     "execution_count": 75,
     "metadata": {},
     "output_type": "execute_result"
    }
   ],
   "source": [
    "before.query('groupid == 1')['ctr'].to_numpy().std()"
   ]
  },
  {
   "cell_type": "code",
   "execution_count": 76,
   "id": "e89c8756-1781-4648-bad9-f03af02bde99",
   "metadata": {},
   "outputs": [
    {
     "data": {
      "text/plain": [
       "1.7331985918552912"
      ]
     },
     "execution_count": 76,
     "metadata": {},
     "output_type": "execute_result"
    }
   ],
   "source": [
    "after.query('groupid == 0')['ctr'].to_numpy().std()"
   ]
  },
  {
   "cell_type": "code",
   "execution_count": 77,
   "id": "a701e825-b812-4aa9-bc40-ab9d44b7f203",
   "metadata": {},
   "outputs": [
    {
     "data": {
      "text/plain": [
       "1.7323710606903675"
      ]
     },
     "execution_count": 77,
     "metadata": {},
     "output_type": "execute_result"
    }
   ],
   "source": [
    "after.query('groupid == 1')['ctr'].to_numpy().std()"
   ]
  },
  {
   "cell_type": "code",
   "execution_count": 78,
   "id": "8ed1a047-7d6e-4e68-9540-f9c8819b4c52",
   "metadata": {},
   "outputs": [
    {
     "name": "stdout",
     "output_type": "stream",
     "text": [
      "0.705741417344299\n"
     ]
    }
   ],
   "source": [
    "res = ttest_ind(before.query('groupid == 0')['ctr'].to_numpy(), before.query('groupid == 1')['ctr']\n",
    "                .to_numpy()).pvalue\n",
    "\n",
    "print(res)"
   ]
  },
  {
   "cell_type": "code",
   "execution_count": 79,
   "id": "c45520bd-6b71-4fee-814d-ce925cad4b8c",
   "metadata": {},
   "outputs": [
    {
     "name": "stdout",
     "output_type": "stream",
     "text": [
      "0.0\n"
     ]
    }
   ],
   "source": [
    "res = ttest_ind(after.query('groupid == 0')['ctr'].to_numpy(), after.query('groupid == 1')['ctr']\n",
    "                .to_numpy()).pvalue\n",
    "print(res)"
   ]
  },
  {
   "cell_type": "code",
   "execution_count": 80,
   "id": "e82c0078-bfde-4b95-a1e6-f80baed78c11",
   "metadata": {},
   "outputs": [
    {
     "data": {
      "text/plain": [
       "'0.0000000000000000000000000000000000000000000000000000000000000000000000000000000000000000000000000000'"
      ]
     },
     "execution_count": 80,
     "metadata": {},
     "output_type": "execute_result"
    }
   ],
   "source": [
    "\"{:.100f}\".format(res)"
   ]
  }
 ],
 "metadata": {
  "kernelspec": {
   "display_name": "Python 3",
   "language": "python",
   "name": "python3"
  },
  "language_info": {
   "codemirror_mode": {
    "name": "ipython",
    "version": 3
   },
   "file_extension": ".py",
   "mimetype": "text/x-python",
   "name": "python",
   "nbconvert_exporter": "python",
   "pygments_lexer": "ipython3",
   "version": "3.7.9"
  }
 },
 "nbformat": 4,
 "nbformat_minor": 5
}
